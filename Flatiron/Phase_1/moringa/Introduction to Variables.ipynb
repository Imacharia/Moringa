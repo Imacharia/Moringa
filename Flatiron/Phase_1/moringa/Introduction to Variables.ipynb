{
 "cells": [
  {
   "cell_type": "markdown",
   "id": "6c6fb19a",
   "metadata": {},
   "source": [
    "# Strings"
   ]
  },
  {
   "cell_type": "raw",
   "id": "5bb75fa5",
   "metadata": {},
   "source": [
    "Finally, let's replace some of the characters in a string. Let's say Bart is upset with his family and wants to be adopted by the Flanders family. How would you replace his last name?"
   ]
  },
  {
   "cell_type": "code",
   "execution_count": 1,
   "id": "7c781f3f",
   "metadata": {},
   "outputs": [
    {
     "data": {
      "text/plain": [
       "'Bart Flanders'"
      ]
     },
     "execution_count": 1,
     "metadata": {},
     "output_type": "execute_result"
    }
   ],
   "source": [
    "name = \"Bart Simpson\"\n",
    "name = \"Bart Simpson\".replace(\"Simpson\",\"Flanders\")\n",
    "name"
   ]
  },
  {
   "cell_type": "raw",
   "id": "6be624bf",
   "metadata": {},
   "source": [
    "we have a sentence whose cases are all over the place. Let's normalize the cases and make everything lower case except the first letter in the sentence. hint: there is a string method that does this"
   ]
  },
  {
   "cell_type": "code",
   "execution_count": 6,
   "id": "c00a63e7",
   "metadata": {},
   "outputs": [
    {
     "data": {
      "text/plain": [
       "'wow we love coding and strings!'"
      ]
     },
     "execution_count": 6,
     "metadata": {},
     "output_type": "execute_result"
    }
   ],
   "source": [
    "sentence = \"woW WE LOVE cOdInG and strINGS!\"\n",
    "sentence.lower()"
   ]
  },
  {
   "cell_type": "raw",
   "id": "b4379ff8",
   "metadata": {},
   "source": [
    "we have our Flatiron mantra, but it's not in title case like it should be! Let's fix that and use another string method that makes all strings first letter capitalized."
   ]
  },
  {
   "cell_type": "code",
   "execution_count": 1,
   "id": "d5ab42ac",
   "metadata": {},
   "outputs": [
    {
     "data": {
      "text/plain": [
       "'Learn. Love. Code.'"
      ]
     },
     "execution_count": 1,
     "metadata": {},
     "output_type": "execute_result"
    }
   ],
   "source": [
    "flatiron_mantra = \"learn. love. code.\"\n",
    "flatiron_mantra.title()"
   ]
  },
  {
   "cell_type": "raw",
   "id": "f2079667",
   "metadata": {},
   "source": [
    "The next thing we want to do is practice turning other data types into strings. Below, we have a number 1234, which happens to be our street number in our address, which is a string. So, let's turn the number into a string so we can eventually add it to our address. The process of linking different strings together is called concatenation."
   ]
  },
  {
   "cell_type": "code",
   "execution_count": 3,
   "id": "549ca1e2",
   "metadata": {},
   "outputs": [
    {
     "data": {
      "text/plain": [
       "'1234'"
      ]
     },
     "execution_count": 3,
     "metadata": {},
     "output_type": "execute_result"
    }
   ],
   "source": [
    "num_to_string = 1234\n",
    "num_to_string = \"1234\"\n",
    "num_to_string"
   ]
  },
  {
   "cell_type": "raw",
   "id": "6aec985d",
   "metadata": {},
   "source": [
    "Let's take the num_to_string and add it to the beginning of our street address below. We need to concatenate the variable to the beginning of our string so that we have our full address all in one string and assigned to the variable full_address. hint: None is a placeholder in the below code for you to edit"
   ]
  },
  {
   "cell_type": "code",
   "execution_count": 4,
   "id": "3e216a08",
   "metadata": {},
   "outputs": [
    {
     "data": {
      "text/plain": [
       "'1234 Abc street, Hometown USA'"
      ]
     },
     "execution_count": 4,
     "metadata": {},
     "output_type": "execute_result"
    }
   ],
   "source": [
    "full_address = num_to_string + \" Abc street, Hometown USA\"\n",
    "full_address"
   ]
  },
  {
   "cell_type": "markdown",
   "id": "00ac9c85",
   "metadata": {},
   "source": [
    "# Numeric Types and Booleans"
   ]
  },
  {
   "cell_type": "raw",
   "id": "45a0c763",
   "metadata": {},
   "source": [
    " let's say we want to capitalize all of the letters of \"art vandelay\". We'll see the following:"
   ]
  },
  {
   "cell_type": "code",
   "execution_count": 11,
   "id": "058fe79b",
   "metadata": {},
   "outputs": [
    {
     "data": {
      "text/plain": [
       "'ART VANDELAY'"
      ]
     },
     "execution_count": 11,
     "metadata": {},
     "output_type": "execute_result"
    }
   ],
   "source": [
    "\"art vandelay\" # \"ART VANDELAY\"\n",
    "\"art vandelay\".upper() # 'ART VANDELAY'"
   ]
  },
  {
   "cell_type": "raw",
   "id": "312f6046",
   "metadata": {},
   "source": [
    "Now let's turn all the letters of \"Ceo\" to uppercase."
   ]
  },
  {
   "cell_type": "code",
   "execution_count": 2,
   "id": "f1768503",
   "metadata": {},
   "outputs": [
    {
     "data": {
      "text/plain": [
       "'CEO'"
      ]
     },
     "execution_count": 2,
     "metadata": {},
     "output_type": "execute_result"
    }
   ],
   "source": [
    "ceo = \"Ceo\" # 'CEO'\n",
    "ceo.upper()"
   ]
  },
  {
   "cell_type": "raw",
   "id": "c678e7a4",
   "metadata": {},
   "source": [
    "Next we will need our code to answer a question about email addresses. Every email address should end with \".com\". Find the right string method to check if the email address ends with \".com\" and return True or False accordingly."
   ]
  },
  {
   "cell_type": "code",
   "execution_count": 3,
   "id": "ed178ee3",
   "metadata": {},
   "outputs": [
    {
     "data": {
      "text/plain": [
       "False"
      ]
     },
     "execution_count": 3,
     "metadata": {},
     "output_type": "execute_result"
    }
   ],
   "source": [
    "ends_with_com = \"art.vandelay@vandelay.co\" # False\n",
    "ends_with_com.endswith(\".com\")"
   ]
  },
  {
   "cell_type": "raw",
   "id": "72682365",
   "metadata": {},
   "source": [
    "As you can see below, the website \"vandelay.com\" is not preceded by \"www.\". We can perform what is called string concatenation to fix this! Use the plus sign, '+', to change the website 'vandelay.com' to the string 'www.vandelay.com' by prepending 'www.'"
   ]
  },
  {
   "cell_type": "code",
   "execution_count": 4,
   "id": "a11d441d",
   "metadata": {},
   "outputs": [
    {
     "data": {
      "text/plain": [
       "'www.vandeley.com'"
      ]
     },
     "execution_count": 4,
     "metadata": {},
     "output_type": "execute_result"
    }
   ],
   "source": [
    "web_address = 'vandelay.com' # 'www.vandelay.com'\n",
    "web_address = \"www.\" + 'vandeley.com'\n",
    "web_address"
   ]
  },
  {
   "cell_type": "markdown",
   "id": "b4954833",
   "metadata": {},
   "source": [
    "# Working with Numbers"
   ]
  },
  {
   "cell_type": "raw",
   "id": "e8a53913",
   "metadata": {},
   "source": [
    "Finally, Mr. Vandelay gave us his phone number, but he actually has two other phone numbers that are different from the one listed on his business card. All three numbers are basically the same with the exception of the ending. Below, start by coercing the first phone number, which is currently a string, to an int and add one. Next do the same to the second phone number but increase it by two."
   ]
  },
  {
   "cell_type": "code",
   "execution_count": 5,
   "id": "8e518ca6",
   "metadata": {},
   "outputs": [
    {
     "data": {
      "text/plain": [
       "7285553335"
      ]
     },
     "execution_count": 5,
     "metadata": {},
     "output_type": "execute_result"
    }
   ],
   "source": [
    "phone_num_one = \"7285553334\" # 7285553335\n",
    "phone_num_one = 7285553334\n",
    "phone_num_one = phone_num_one + 1\n",
    "phone_num_one"
   ]
  },
  {
   "cell_type": "code",
   "execution_count": 6,
   "id": "b8583a07",
   "metadata": {},
   "outputs": [
    {
     "data": {
      "text/plain": [
       "7285553336"
      ]
     },
     "execution_count": 6,
     "metadata": {},
     "output_type": "execute_result"
    }
   ],
   "source": [
    "phone_num_two = \"7285553334\" # 7285553336\n",
    "phone_num_two = 7285553334\n",
    "phone_num_two = phone_num_two + 2\n",
    "phone_num_two"
   ]
  },
  {
   "cell_type": "markdown",
   "id": "0eec8d68",
   "metadata": {},
   "source": [
    "# Variable Assignment"
   ]
  },
  {
   "cell_type": "raw",
   "id": "1ba3c22f",
   "metadata": {},
   "source": [
    "Assign the string \"January\" to the variable travel_month, as that is the month we would like to travel."
   ]
  },
  {
   "cell_type": "code",
   "execution_count": 7,
   "id": "5eb1201e",
   "metadata": {},
   "outputs": [
    {
     "data": {
      "text/plain": [
       "'January'"
      ]
     },
     "execution_count": 7,
     "metadata": {},
     "output_type": "execute_result"
    }
   ],
   "source": [
    "travel_month = \"January\" # \"January\"\n",
    "travel_month"
   ]
  },
  {
   "cell_type": "raw",
   "id": "5712c170",
   "metadata": {},
   "source": [
    "Now let's assign a variable equal to the number of weeks that we would like to travel, 3."
   ]
  },
  {
   "cell_type": "code",
   "execution_count": 8,
   "id": "987394a5",
   "metadata": {},
   "outputs": [
    {
     "data": {
      "text/plain": [
       "3"
      ]
     },
     "execution_count": 8,
     "metadata": {},
     "output_type": "execute_result"
    }
   ],
   "source": [
    "number_of_weeks = 3 # 3\n",
    "number_of_weeks"
   ]
  },
  {
   "cell_type": "raw",
   "id": "9e8531d2",
   "metadata": {},
   "source": [
    " we just learned that we can travel for a longer period of time. So, we need to reassign the number_of_weeks variable to 5."
   ]
  },
  {
   "cell_type": "code",
   "execution_count": 9,
   "id": "3d953d50",
   "metadata": {},
   "outputs": [
    {
     "data": {
      "text/plain": [
       "'5'"
      ]
     },
     "execution_count": 9,
     "metadata": {},
     "output_type": "execute_result"
    }
   ],
   "source": [
    "number_of_weeks = \"5\" #5\n",
    "number_of_weeks"
   ]
  },
  {
   "cell_type": "markdown",
   "id": "27ffb6b2",
   "metadata": {},
   "source": [
    " Finally, let's create a string that uses both of these variables to tell us how many weeks we will be traveling in our travel month. The string should read \"I will be traveling 5 weeks starting in the month of January\". The process of using one or more variables as placeholders within a larger string is called string interpolation. Interpolate the num_of_weeks and travel_month to get the correct string.\n",
    "\n",
    "Remember: We can interpolate strings in the following ways:\n",
    "\n",
    "\"Start of string\" + variable_to_interpolate_1 + \"middle\" + variable_to_interpolate_2 + \"end of string\"\n",
    "\"Start of string {variable_1} middle {variable_2} end of string\".format(variable_1=variable_to_interpolate, variable_2=variable_to_interpolate)\n",
    "f\"Start of string {variable_to_interpolate_1} middle {variable_to_interpolate_2} end of string\""
   ]
  },
  {
   "cell_type": "code",
   "execution_count": 21,
   "id": "a29d0872",
   "metadata": {},
   "outputs": [
    {
     "data": {
      "text/plain": [
       "'I will be travelling 5 weeks starting in the month of January'"
      ]
     },
     "execution_count": 21,
     "metadata": {},
     "output_type": "execute_result"
    }
   ],
   "source": [
    "traveling_schedule = \"I will be travelling \" +number_of_weeks+ \" weeks starting in the month of \" + travel_month\n",
    "traveling_schedule"
   ]
  },
  {
   "cell_type": "code",
   "execution_count": 20,
   "id": "fccd4642",
   "metadata": {},
   "outputs": [
    {
     "data": {
      "text/plain": [
       "'I will be travelling  5 weeks starting in the month of  January'"
      ]
     },
     "execution_count": 20,
     "metadata": {},
     "output_type": "execute_result"
    }
   ],
   "source": [
    "traveling_schedule =  \"I will be travelling  {variable_1} weeks starting in the month of  {variable_2}\".format(variable_1=number_of_weeks,variable_2 = travel_month)\n",
    "traveling_schedule"
   ]
  },
  {
   "cell_type": "code",
   "execution_count": 17,
   "id": "f431a0da",
   "metadata": {},
   "outputs": [
    {
     "data": {
      "text/plain": [
       "'I will be traveling 5 weeks starting in the month of January'"
      ]
     },
     "execution_count": 17,
     "metadata": {},
     "output_type": "execute_result"
    }
   ],
   "source": [
    "traveling_schedule = f\"I will be traveling {number_of_weeks} weeks starting in the month of {travel_month}\"\n",
    "traveling_schedule"
   ]
  },
  {
   "cell_type": "markdown",
   "id": "3269a77b",
   "metadata": {},
   "source": [
    "# Conditionals "
   ]
  },
  {
   "cell_type": "markdown",
   "id": "e7fe9bb3",
   "metadata": {},
   "source": [
    "### Control Flow: Conditionals\n",
    "\n",
    "## Introduction\n",
    "\n",
    "We have talked about different data types, how to use them, and the kinds of operations that we can perform on them. We have also talked about using Booleans (`True` or `False`) to inform decisions in our programming. Often when we want to implement a decision in our code, we'll use conditionals. Conditionals allow us to break up our code in a way that we can selectively perform operations like assigning a value or even just printing text.\n",
    "\n",
    "\n",
    "## Execution Flow\n",
    "\n",
    " So far in Python, all of our lines of code run one after the other. So in the code below, `vacation_days` is initially assigned to `0`, then it is reassigned by incrementing by one, and again reassigned by incrementing again by one, which brings the `vacation_days` to a total of `2`.\n",
    " \n",
    "The += is used to increment the current value of the variable and assign this new value back to it. The statement vacation_days += 1 can be thought of as vacation_days = vacation_days + 1. On line 1 we assign vacation_days the value 0. So, on line two, we reassign vacation_days to equal the current value of vacation_days, which is 0, plus 1. Again we increment vacation_days on line 3, which would now equate to 1 + 1, and finally we output the new value of vacation_days, 2."
   ]
  },
  {
   "cell_type": "markdown",
   "id": "0eef3e2b",
   "metadata": {},
   "source": [
    "## If Statement\n",
    "\n",
    "In Python there are three conditional statements, if, elif, and else. Every conditional statement is required to begin with an if. The elif and else statements are not always required. elif is short for else if.\n",
    "\n",
    "Now what if we wanted to only increment our vacation days based on a condtion? We could imagine a condition in this context being whether or not we hit our goals this quarter at work. If that condition were True, we would want to increase our vacation days. However, if that condition is not True, we can't increase our vacation time. Let's look at the code below that contains an if statement.\n",
    "\n",
    "Code that is part of an if statement block runs only when the condition evaluates to True. So if the condition evaluates to False our block of code will not be run and it moves on to the next block.\n",
    "\n",
    "Note: A block is any code that is grouped together. With conditionals, we indicate that something is part of the block by indentation. So the line vacation_days += 1 is indented to ensure that it is run as a part of the conditional argument below. To end the block we simply stop indenting.\n",
    "\n",
    "Note: In all of the following code blocks, pay close attention to how the variable vacation_days is affected depending on the value and order of the conditions. The idea is to understand how Python decides which code should run when it comes across an if, elif, and else statement.\n"
   ]
  },
  {
   "cell_type": "code",
   "execution_count": 1,
   "id": "0e127226",
   "metadata": {},
   "outputs": [
    {
     "name": "stdout",
     "output_type": "stream",
     "text": [
      "vacation_days =  2\n",
      "we incremented vacation days\n"
     ]
    }
   ],
   "source": [
    "vacation_days = 1\n",
    "goals_met = True\n",
    "if goals_met:\n",
    "    # all code indented under the if statement is the block\n",
    "    # indented code runs since conditional argument is True\n",
    "    vacation_days += 1\n",
    "    print(\"vacation_days = \", vacation_days)\n",
    "    print(\"we incremented vacation days\")\n",
    "# if block ends"
   ]
  },
  {
   "cell_type": "raw",
   "id": "3b166d0f",
   "metadata": {},
   "source": [
    "Because our condition was True, our block of code ran. We added 1 day to our vacation_days variable and printed two statements.\n",
    "\n",
    "What if the first conditional was set to False but we wanted to make sure there is some code that runs no matter what? That is where we can use our else statement."
   ]
  },
  {
   "cell_type": "code",
   "execution_count": 2,
   "id": "dca6a246",
   "metadata": {},
   "outputs": [
    {
     "name": "stdout",
     "output_type": "stream",
     "text": [
      "vacation_days =  1\n",
      "we did NOT increment vacation days\n"
     ]
    }
   ],
   "source": [
    "vacation_days = 1\n",
    "goals_met = False\n",
    "if goals_met:\n",
    "    # if block starts    \n",
    "    # code does not run since conditional argument is False\n",
    "    vacation_days += 1\n",
    "    print(\"vacation_days = \", vacation_days)\n",
    "    print(\"we incremented vacation days\")\n",
    "# if block ends    \n",
    "else:\n",
    "    # else block starts\n",
    "    print(\"vacation_days = \", vacation_days)\n",
    "    print(\"we did NOT increment vacation days\")\n",
    "# else block ends"
   ]
  },
  {
   "cell_type": "raw",
   "id": "a3e3453f",
   "metadata": {},
   "source": [
    "Above we can see that the condition following the if is False and the code directly underneath is not run. The variable vacation_days stays assigned to the number 1. However, since we now have an else statement, our if block gets skipped and we then move on to the block of code underneath our else statement, which we can see prints the number of vacation days and a message indicating that we did not increment the vacation days.\n",
    "\n",
    "But what if we have a second condition? Let's say we really worked hard and exceeded all our goals for the quarter? Maybe instead of incrementing just 1 day, we increment our vacation days by 2! The third conditional statement is an elif statement, which is essentially another if statement that follows the first if statement. elif still requires a condition and a block of code, but it only comes after an if statement or another elif statement.\n",
    "\n",
    "Let's take a look:"
   ]
  },
  {
   "cell_type": "code",
   "execution_count": 4,
   "id": "38dbd7b5",
   "metadata": {},
   "outputs": [
    {
     "name": "stdout",
     "output_type": "stream",
     "text": [
      "We are now in our elif statement!\n",
      "This means that we exceeded our goals this quarter\n",
      "We will increase our vacation days by two\n",
      "vacation_days =  3\n"
     ]
    }
   ],
   "source": [
    "vacation_days = 1\n",
    "goals_met = False\n",
    "goals_exceeded = True\n",
    "if goals_met:\n",
    "    # code does not run since conditional argument is False\n",
    "    vacation_days += 1\n",
    "    print(\"vacation_days = \", vacation_days)\n",
    "    print(\"we incremented vacation days\")\n",
    "elif goals_exceeded:\n",
    "    print(\"We are now in our elif statement!\")\n",
    "    print(\"This means that we exceeded our goals this quarter\")\n",
    "    print(\"We will increase our vacation days by two\")\n",
    "    vacation_days += 2\n",
    "    print(\"vacation_days = \", vacation_days)\n",
    "else:\n",
    "    print(\"vacation_days = \", vacation_days)\n",
    "    print(\"we did NOT increment vacation days\")"
   ]
  },
  {
   "cell_type": "markdown",
   "id": "d51ef4fa",
   "metadata": {},
   "source": [
    "It is important to note that an else block comes last and will only run if all the conditions before it are false.\n",
    "\n",
    "## Truthiness\n",
    "\n",
    "\n",
    "So far our conditionals have depended on whether something evaluates exactly to True or False. But conditionals don't force us to be so precise. Conditionals also consider some values True if they are truthy and False if they are falsy. Take a look at the following:"
   ]
  },
  {
   "cell_type": "code",
   "execution_count": 1,
   "id": "f5fb1a0e",
   "metadata": {},
   "outputs": [
    {
     "data": {
      "text/plain": [
       "2"
      ]
     },
     "execution_count": 1,
     "metadata": {},
     "output_type": "execute_result"
    }
   ],
   "source": [
    "vacation_days = 1\n",
    "if vacation_days:\n",
    "    # this is run\n",
    "    vacation_days += 1\n",
    "vacation_days"
   ]
  },
  {
   "cell_type": "raw",
   "id": "b5c2e109",
   "metadata": {},
   "source": [
    "Even though vacation_days did not evaluate to True, it still ran the code in the if block because the value for vacation_days was 1, which is considered truthy.\n",
    "\n",
    "So, from this we can surmise that numbers are truthy values. EXCEPT, in Python 0 is not considered a truthy value."
   ]
  },
  {
   "cell_type": "code",
   "execution_count": 2,
   "id": "43fdd214",
   "metadata": {},
   "outputs": [
    {
     "data": {
      "text/plain": [
       "0"
      ]
     },
     "execution_count": 2,
     "metadata": {},
     "output_type": "execute_result"
    }
   ],
   "source": [
    "vacation_days = 0\n",
    "if vacation_days:\n",
    "    # this is not run\n",
    "    vacation_days += 1\n",
    "vacation_days"
   ]
  },
  {
   "cell_type": "raw",
   "id": "d3282938",
   "metadata": {},
   "source": [
    "If 0 is not truthy, and it is not True or False, what is it? Just as Python has truthy values, it has falsy values (or values that are treated as False in conditional statements), and 0 is considered a falsy value.\n",
    "\n",
    "Above, we can see that the if block was not run and vacation_days was not incremented, almost as if vacation_days evaluated to False.\n",
    "\n",
    "So what is truthy and what is falsy in Python? Zero is falsy, and None is falsy. Also falsy are values like empty strings (\"\") and empty lists ([]), which we will learn more about in later lessons. Let's take a look at this."
   ]
  },
  {
   "cell_type": "code",
   "execution_count": 3,
   "id": "81cb4bc4",
   "metadata": {},
   "outputs": [
    {
     "data": {
      "text/plain": [
       "'Goodbye'"
      ]
     },
     "execution_count": 3,
     "metadata": {},
     "output_type": "execute_result"
    }
   ],
   "source": [
    "greeting = ''\n",
    "if greeting:\n",
    "    greeting += 'Hello'\n",
    "else:\n",
    "    greeting += 'Goodbye'\n",
    "greeting"
   ]
  },
  {
   "cell_type": "raw",
   "id": "8d46d491",
   "metadata": {},
   "source": [
    "Boolean values (True and False) can also be used in mathematical equations. True is set to 1 and False is set to 0.\n",
    "We can see how this can be put to use in an If statement"
   ]
  },
  {
   "cell_type": "code",
   "execution_count": 1,
   "id": "c629bb98",
   "metadata": {},
   "outputs": [
    {
     "name": "stdout",
     "output_type": "stream",
     "text": [
      "Truthy\n"
     ]
    }
   ],
   "source": [
    "test_var = 1\n",
    "\n",
    "if test_var:\n",
    "    print('Truthy')\n",
    "else:\n",
    "    print('Falsey')"
   ]
  },
  {
   "cell_type": "markdown",
   "id": "e053951b",
   "metadata": {},
   "source": [
    "## Using Data to Make Decisions\n",
    "Our code in conditional arguments becomes more interesting when we use conditional arguments that are less direct than just True or False.\n",
    "\n",
    "Let's say you have a management system that allows employees to put in their vacation days and the system has a way of auto tagging vacations as disruptive, average, or minimal based on the number of days being taken off. This helps to give immediate feedback for you so that you can make sure to plan deadlines and staff projects appropriately. So, we'll use conditional statements that use the number of days taken off as the input to figure out if the vacation is disruptive, normal, or minimal.\n",
    "\n",
    "Let's start out with just creating logic that creates a tag for disruptive vacations or vacations longer than 5 days off of work. All other vacations can be tagged as average."
   ]
  },
  {
   "cell_type": "code",
   "execution_count": 2,
   "id": "48945273",
   "metadata": {},
   "outputs": [
    {
     "name": "stdout",
     "output_type": "stream",
     "text": [
      "#disruptive\n"
     ]
    }
   ],
   "source": [
    "number_of_days = 7\n",
    "if number_of_days > 5:\n",
    "    print(\"#disruptive\")\n",
    "else:\n",
    "    print(\"#average\")\n"
   ]
  },
  {
   "cell_type": "raw",
   "id": "6ffe5847",
   "metadata": {},
   "source": [
    "Great, now what if we want to tag vacations that are under 3 days off as minimally disruptive? Well, we don't want to create a new if block entirely. If we do, then our else statement will always run and we'll get #average and #minimal, which is not what we want.\n",
    "\n",
    "So, we'll have to use an elif statement."
   ]
  },
  {
   "cell_type": "code",
   "execution_count": 3,
   "id": "af2dc872",
   "metadata": {},
   "outputs": [
    {
     "name": "stdout",
     "output_type": "stream",
     "text": [
      "#minimal\n"
     ]
    }
   ],
   "source": [
    "number_of_days = 2\n",
    "if number_of_days > 5:\n",
    "    print(\"#disruptive\")\n",
    "elif number_of_days < 3:\n",
    "    print(\"#minimal\")\n",
    "else:\n",
    "    print(\"#average\")"
   ]
  },
  {
   "cell_type": "code",
   "execution_count": 4,
   "id": "2dc3f106",
   "metadata": {},
   "outputs": [
    {
     "name": "stdout",
     "output_type": "stream",
     "text": [
      "#average\n"
     ]
    }
   ],
   "source": [
    "number_of_days = 3\n",
    "if number_of_days > 5:\n",
    "    print(\"#disruptive\")\n",
    "elif number_of_days < 3:\n",
    "    print(\"#minimal\")\n",
    "else:\n",
    "    print(\"#average\")"
   ]
  },
  {
   "cell_type": "markdown",
   "id": "53096898",
   "metadata": {},
   "source": [
    "We can see how powerful this kind of code can be to creating dynamic and efficient programs and to makings decisions. Now, there is no need for anyone to manually rank each employee's vacations and we now have a system that flags vacations that might need some special planning by management in order to keep work running smoothly.\n",
    "\n",
    "## Summary\n",
    "\n",
    "In this lesson, we saw how conditionals allow us to make decisions with our code by only executing code under the if statement when the conditional argument is True or truthy. We then saw how we can use the else statement to only run code when the conditional argument is False or falsy, and as we know, code that is not in a conditional block is still run as normal. Next, we examined what is truthy or falsy, and saw that None, 0, empty strings, and lists are all falsy. If we are unsure, we can use the bool function to see the boolean equivalent of a piece of data. Finally, we used if, elif, and else statements together to make decisions based on the conditions of our problem"
   ]
  },
  {
   "cell_type": "raw",
   "id": "9f9d6092",
   "metadata": {},
   "source": [
    "With the given code in the cell below, use what you know about numbers and conditionals to assign a value to my_number and follow the directions given in the comments below. Use this as a guide to structuring the rest of the problems in this lab."
   ]
  },
  {
   "cell_type": "code",
   "execution_count": 6,
   "id": "7fa79e6e",
   "metadata": {},
   "outputs": [
    {
     "name": "stdout",
     "output_type": "stream",
     "text": [
      "value of my_number = 0\n"
     ]
    }
   ],
   "source": [
    "number_50 = 6\n",
    "my_number = None\n",
    "if number_50 > 100:\n",
    "        # if number_50 is greater than 100, assign the `my_number` variable to the number 100\n",
    "    print(\"value of my_number = 100 \")\n",
    "elif number_50 > 50:\n",
    "    # if number_50 is greater than 50, assign the `my_number` variable to the number 50\n",
    "    print(\"value of my_number = 50\")\n",
    "else:\n",
    "    # else assign the `my_number` variable to 0\n",
    "    print(\"value of my_number = 0\")"
   ]
  },
  {
   "cell_type": "raw",
   "id": "619b3160",
   "metadata": {},
   "source": [
    "Below, use conditionals to tell whether it is hot outside or not. If it is hot, assign the string \"It is so hot out!\" to the variable is_it_hot. If it is not hot, assign the string \"This is nothing! Bring on the heat.\". For our purposes, anything over 80 degrees is considered hot."
   ]
  },
  {
   "cell_type": "code",
   "execution_count": 7,
   "id": "31334e53",
   "metadata": {},
   "outputs": [
    {
     "name": "stdout",
     "output_type": "stream",
     "text": [
      "This is nothing! Bring on the heat.\n"
     ]
    }
   ],
   "source": [
    "temperature = 5\n",
    "is_it_hot = None\n",
    "\n",
    "if temperature > 80:\n",
    "        \n",
    "    print(\"It is so hot out!\")\n",
    "elif temperature < 80:\n",
    "    \n",
    "    print(\"This is nothing! Bring on the heat.\")\n"
   ]
  },
  {
   "cell_type": "raw",
   "id": "c1227536",
   "metadata": {},
   "source": [
    "Next, let's see what day of the week it is. There are 7 days in the week starting with Sunday at day 1 and ending with Saturday at day 7. Use conditional statements to assign the day of the week to the variable day_of_the_week based on the number below assigned to the variable today_is. For example, if the day is 2, we would assign day_of_the_week the value \"Monday"
   ]
  },
  {
   "cell_type": "code",
   "execution_count": 8,
   "id": "485a866d",
   "metadata": {},
   "outputs": [
    {
     "name": "stdout",
     "output_type": "stream",
     "text": [
      "day_of_the_week = Saturday\n"
     ]
    }
   ],
   "source": [
    "today_is = 7\n",
    "day_of_the_week = None\n",
    "# conditionals go here\n",
    "\n",
    "if today_is == 1:    \n",
    "    print(\"day_of_the_week = Sunday \")\n",
    "elif today_is == 2:\n",
    "    print(\"day_of_the_week = Monday\")\n",
    "elif today_is == 3:\n",
    "    print(\"day_of_the_week = Tuesday\")\n",
    "elif today_is == 4:\n",
    "    print(\"day_of_the_week = Wednesday\")\n",
    "elif today_is == 5:\n",
    "    print(\"day_of_the_week = Thursday\")\n",
    "elif today_is == 6:\n",
    "    print(\"day_of_the_week = Friday\")\n",
    "else:\n",
    "    print(\"day_of_the_week = Saturday\")"
   ]
  },
  {
   "cell_type": "raw",
   "id": "dce16cee",
   "metadata": {},
   "source": [
    "Finally, let's take a string and see if it ends with a certain substring. If it does, assign the variable ends_with to True, and if it does not, assign it to False. For example, if have the string \"School\" and we want to know if it ends with the sub-string \"cool\". In this case it does not, so, we would assign False to the variable ends_with."
   ]
  },
  {
   "cell_type": "code",
   "execution_count": 9,
   "id": "0a6a7a5d",
   "metadata": {},
   "outputs": [
    {
     "name": "stdout",
     "output_type": "stream",
     "text": [
      "False\n"
     ]
    }
   ],
   "source": [
    "string = \"Java\"\n",
    "sub_string = \"on\"\n",
    "ends_with = None\n",
    "# conditionals go here\n",
    "\n",
    "if string.endswith(sub_string):\n",
    "    print(True)\n",
    "else: \n",
    "    print(False)"
   ]
  },
  {
   "cell_type": "code",
   "execution_count": null,
   "id": "8c2d1345",
   "metadata": {},
   "outputs": [],
   "source": []
  },
  {
   "cell_type": "code",
   "execution_count": null,
   "id": "99a853c4",
   "metadata": {},
   "outputs": [],
   "source": []
  },
  {
   "cell_type": "code",
   "execution_count": null,
   "id": "1fb28ce3",
   "metadata": {},
   "outputs": [],
   "source": []
  },
  {
   "cell_type": "code",
   "execution_count": null,
   "id": "d59c2e80",
   "metadata": {},
   "outputs": [],
   "source": []
  },
  {
   "cell_type": "code",
   "execution_count": null,
   "id": "beaafd55",
   "metadata": {},
   "outputs": [],
   "source": []
  },
  {
   "cell_type": "code",
   "execution_count": null,
   "id": "0c33b448",
   "metadata": {},
   "outputs": [],
   "source": []
  },
  {
   "cell_type": "code",
   "execution_count": null,
   "id": "f591e826",
   "metadata": {},
   "outputs": [],
   "source": []
  },
  {
   "cell_type": "code",
   "execution_count": null,
   "id": "1c6cce80",
   "metadata": {},
   "outputs": [],
   "source": []
  },
  {
   "cell_type": "code",
   "execution_count": null,
   "id": "ea752472",
   "metadata": {},
   "outputs": [],
   "source": []
  },
  {
   "cell_type": "code",
   "execution_count": null,
   "id": "378c0288",
   "metadata": {},
   "outputs": [],
   "source": []
  },
  {
   "cell_type": "code",
   "execution_count": null,
   "id": "8e3aaf60",
   "metadata": {},
   "outputs": [],
   "source": []
  },
  {
   "cell_type": "code",
   "execution_count": null,
   "id": "352358a3",
   "metadata": {},
   "outputs": [],
   "source": []
  },
  {
   "cell_type": "code",
   "execution_count": null,
   "id": "30f0c8d8",
   "metadata": {},
   "outputs": [],
   "source": []
  },
  {
   "cell_type": "code",
   "execution_count": null,
   "id": "25abe7d5",
   "metadata": {},
   "outputs": [],
   "source": []
  },
  {
   "cell_type": "code",
   "execution_count": null,
   "id": "af179170",
   "metadata": {},
   "outputs": [],
   "source": []
  },
  {
   "cell_type": "code",
   "execution_count": null,
   "id": "aaef0dad",
   "metadata": {},
   "outputs": [],
   "source": []
  },
  {
   "cell_type": "code",
   "execution_count": null,
   "id": "60c8ec0a",
   "metadata": {},
   "outputs": [],
   "source": []
  },
  {
   "cell_type": "code",
   "execution_count": null,
   "id": "bc29d7e1",
   "metadata": {},
   "outputs": [],
   "source": []
  }
 ],
 "metadata": {
  "kernelspec": {
   "display_name": "Python 3 (ipykernel)",
   "language": "python",
   "name": "python3"
  },
  "language_info": {
   "codemirror_mode": {
    "name": "ipython",
    "version": 3
   },
   "file_extension": ".py",
   "mimetype": "text/x-python",
   "name": "python",
   "nbconvert_exporter": "python",
   "pygments_lexer": "ipython3",
   "version": "3.9.7"
  }
 },
 "nbformat": 4,
 "nbformat_minor": 5
}
