{
 "cells": [
  {
   "cell_type": "markdown",
   "id": "0ad15b97",
   "metadata": {},
   "source": [
    "# Looping Over Collections"
   ]
  },
  {
   "cell_type": "raw",
   "id": "f19548da",
   "metadata": {},
   "source": [
    "A for loop in Python, is primarily used for going through elements of a list one by one. We'll use a simple collection with 4 elements 0,1,2,3 as an example. Without a loop, if we wanted to print each element of the list we'd have to write it out like we do below:"
   ]
  },
  {
   "cell_type": "code",
   "execution_count": 1,
   "id": "d65facd4",
   "metadata": {},
   "outputs": [],
   "source": [
    "zero_to_three = [0, 1, 2, 3]"
   ]
  },
  {
   "cell_type": "code",
   "execution_count": 2,
   "id": "4d48ad8c",
   "metadata": {},
   "outputs": [
    {
     "name": "stdout",
     "output_type": "stream",
     "text": [
      "0\n",
      "1\n",
      "2\n",
      "3\n"
     ]
    }
   ],
   "source": [
    "print(zero_to_three[0])\n",
    "print(zero_to_three[1])\n",
    "print(zero_to_three[2])\n",
    "print(zero_to_three[3])"
   ]
  },
  {
   "cell_type": "raw",
   "id": "cffb418b",
   "metadata": {},
   "source": [
    "In the example above, we are sequentially accessing each index in the list and printing its value (the element). That works well enough, but if our list were 100 elements long it would become extremely tedious. And what if the length of our list were unknown. Spooky, right?\n",
    "\n",
    "In fact, it may very often be the case that we don't know the length of the collection we are working with. So, writing all this static code for each element becomes not only unmanageable but impossible.\n",
    "\n",
    "Let's see how we would do the same operation above with a for loop!"
   ]
  },
  {
   "cell_type": "code",
   "execution_count": 3,
   "id": "3afbeaba",
   "metadata": {},
   "outputs": [
    {
     "name": "stdout",
     "output_type": "stream",
     "text": [
      "0\n",
      "1\n",
      "2\n",
      "3\n"
     ]
    }
   ],
   "source": [
    "for number in zero_to_three:\n",
    "    print(number)"
   ]
  },
  {
   "cell_type": "raw",
   "id": "5a610ef4",
   "metadata": {},
   "source": [
    "Great! We were able to reproduce the exact same functionality as we had previously. However, in this example, we used only 2 lines of code.\n",
    "\n",
    "Now, the for loop may look a bit confusing at first, so, let's take a closer look at the syntax. A for loop essentially has two necessary components, which we'll refer to as arguments. The first argument is the variable name we are assigning to an element, or in this case, number. The second argument is the collection we are iterating over, or in this case, the list zero_to_three.\n",
    "\n",
    "We can give any name to the variable. The important thing to understand here is it is the reference to each element in the collection. So, when we print number, we are printing an element of the collection zero_to_three.\n",
    "\n",
    "Every for loop needs to end the first line with a colon :. This indicates the start of the block of code. The block is simply the code that we want executed in each iteration of our loop. So, if all we want to do is print each element, then the line that prints the element is our block. Our block is indicated by indenting. So the first line after the colon : should be indented. When we want to end our block, we simply stop indenting. Any code following the for loop will only be executed after the for loop finishes.\n",
    "\n",
    "Remember, the block of code in a for loop is executed the same amount of times as there are elements in the collection.\n",
    "\n",
    "Let's take a look at changing the variable names and adding more code to our example:"
   ]
  },
  {
   "cell_type": "code",
   "execution_count": 4,
   "id": "c22ccf79",
   "metadata": {},
   "outputs": [
    {
     "name": "stdout",
     "output_type": "stream",
     "text": [
      "This is iteration: 1\n",
      "0\n",
      "This is iteration: 2\n",
      "1\n",
      "This is iteration: 3\n",
      "2\n",
      "This is iteration: 4\n",
      "3\n",
      "The for loop is finished now! I am not in the for loop block, which is why I only printed once!\n"
     ]
    }
   ],
   "source": [
    "iteration_count = 0\n",
    "for whatever_we_want in zero_to_three:\n",
    "    iteration_count += 1\n",
    "    print(\"This is iteration:\", iteration_count)\n",
    "    print(whatever_we_want)\n",
    "print(\"The for loop is finished now! I am not in the for loop block, which is why I only printed once!\")\n"
   ]
  },
  {
   "cell_type": "markdown",
   "id": "eadcc95a",
   "metadata": {},
   "source": [
    "## Using list elements as indices\n",
    "\n",
    "In the examples above, we used the elements in our list to perform an operation, which was printing them. We can also use a list of numbers to access elements from another list. Let's take a look at an example."
   ]
  },
  {
   "cell_type": "code",
   "execution_count": 5,
   "id": "577b854b",
   "metadata": {},
   "outputs": [],
   "source": [
    "countries = ['Croatia', 'USA', 'Argentina', 'France', 'Brazil', 'Japan', 'Vietnam', 'Israel']"
   ]
  },
  {
   "cell_type": "code",
   "execution_count": 6,
   "id": "76687381",
   "metadata": {},
   "outputs": [
    {
     "name": "stdout",
     "output_type": "stream",
     "text": [
      "0\n",
      "Croatia\n",
      "1\n",
      "USA\n",
      "2\n",
      "Argentina\n",
      "3\n",
      "France\n",
      "4\n",
      "Brazil\n",
      "5\n",
      "Japan\n",
      "6\n",
      "Vietnam\n",
      "7\n",
      "Israel\n"
     ]
    }
   ],
   "source": [
    "for index in [0,1,2,3,4,5,6,7]:\n",
    "    print(index)\n",
    "    print(countries[index])"
   ]
  },
  {
   "cell_type": "raw",
   "id": "8a9f260d",
   "metadata": {},
   "source": [
    "So, in the example above, we are still using the elements in the list of numbers from 0 to 7 in our for loop, but we are instead using them to access each element of another list. This example is a bit contrived, but perhaps you have two lists that are ordered correctly and have information like the capital cities in one list and the corresponding countries in another. How would we print both of those out in the same line?"
   ]
  },
  {
   "cell_type": "code",
   "execution_count": 7,
   "id": "d2851cf5",
   "metadata": {},
   "outputs": [],
   "source": [
    "countries = ['Croatia', 'USA', 'Argentina', 'France', 'Brazil', 'Japan', 'Vietnam', 'Israel']\n",
    "cities = ['Zagreb', 'District of Columbia', 'Buenos Aires', 'Paris', 'Rio de Janeiro', 'Tokyo', 'Hanoi', 'Tel Aviv']"
   ]
  },
  {
   "cell_type": "code",
   "execution_count": 8,
   "id": "2214d5b2",
   "metadata": {},
   "outputs": [
    {
     "name": "stdout",
     "output_type": "stream",
     "text": [
      "Zagreb, Croatia\n",
      "District of Columbia, USA\n",
      "Buenos Aires, Argentina\n",
      "Paris, France\n",
      "Rio de Janeiro, Brazil\n",
      "Tokyo, Japan\n",
      "Hanoi, Vietnam\n",
      "Tel Aviv, Israel\n"
     ]
    }
   ],
   "source": [
    "for index in [0,1,2,3,4,5,6,7]:\n",
    "    print(cities[index]+\",\", countries[index])"
   ]
  },
  {
   "cell_type": "raw",
   "id": "5e1f40d2",
   "metadata": {},
   "source": [
    "Of course, this does not work if our indices do not match up with the size of our list."
   ]
  },
  {
   "cell_type": "code",
   "execution_count": 9,
   "id": "77c1381c",
   "metadata": {},
   "outputs": [
    {
     "name": "stdout",
     "output_type": "stream",
     "text": [
      "Zagreb, Croatia\n",
      "District of Columbia, USA\n",
      "Buenos Aires, Argentina\n",
      "Paris, France\n",
      "Rio de Janeiro, Brazil\n",
      "Tokyo, Japan\n",
      "Hanoi, Vietnam\n",
      "Tel Aviv, Israel\n"
     ]
    },
    {
     "ename": "IndexError",
     "evalue": "list index out of range",
     "output_type": "error",
     "traceback": [
      "\u001b[1;31m---------------------------------------------------------------------------\u001b[0m",
      "\u001b[1;31mIndexError\u001b[0m                                Traceback (most recent call last)",
      "\u001b[1;32m~\\AppData\\Local\\Temp/ipykernel_12608/630477222.py\u001b[0m in \u001b[0;36m<module>\u001b[1;34m\u001b[0m\n\u001b[0;32m      1\u001b[0m \u001b[1;32mfor\u001b[0m \u001b[0mindex\u001b[0m \u001b[1;32min\u001b[0m \u001b[1;33m[\u001b[0m\u001b[1;36m0\u001b[0m\u001b[1;33m,\u001b[0m\u001b[1;36m1\u001b[0m\u001b[1;33m,\u001b[0m\u001b[1;36m2\u001b[0m\u001b[1;33m,\u001b[0m\u001b[1;36m3\u001b[0m\u001b[1;33m,\u001b[0m\u001b[1;36m4\u001b[0m\u001b[1;33m,\u001b[0m\u001b[1;36m5\u001b[0m\u001b[1;33m,\u001b[0m\u001b[1;36m6\u001b[0m\u001b[1;33m,\u001b[0m\u001b[1;36m7\u001b[0m\u001b[1;33m,\u001b[0m\u001b[1;36m8\u001b[0m\u001b[1;33m,\u001b[0m\u001b[1;36m9\u001b[0m\u001b[1;33m,\u001b[0m\u001b[1;36m10\u001b[0m\u001b[1;33m]\u001b[0m\u001b[1;33m:\u001b[0m\u001b[1;33m\u001b[0m\u001b[1;33m\u001b[0m\u001b[0m\n\u001b[1;32m----> 2\u001b[1;33m     \u001b[0mprint\u001b[0m\u001b[1;33m(\u001b[0m\u001b[0mcities\u001b[0m\u001b[1;33m[\u001b[0m\u001b[0mindex\u001b[0m\u001b[1;33m]\u001b[0m\u001b[1;33m+\u001b[0m\u001b[1;34m\",\"\u001b[0m\u001b[1;33m,\u001b[0m \u001b[0mcountries\u001b[0m\u001b[1;33m[\u001b[0m\u001b[0mindex\u001b[0m\u001b[1;33m]\u001b[0m\u001b[1;33m)\u001b[0m\u001b[1;33m\u001b[0m\u001b[1;33m\u001b[0m\u001b[0m\n\u001b[0m",
      "\u001b[1;31mIndexError\u001b[0m: list index out of range"
     ]
    }
   ],
   "source": [
    "for index in [0,1,2,3,4,5,6,7,8,9,10]:\n",
    "    print(cities[index]+\",\", countries[index])"
   ]
  },
  {
   "cell_type": "raw",
   "id": "3b21e395",
   "metadata": {},
   "source": [
    "So, the preferred way of figuring out the number of iterations on a list when you are unsure of its length would be to use the len function to calculate the size of the list."
   ]
  },
  {
   "cell_type": "code",
   "execution_count": null,
   "id": "0617c32d",
   "metadata": {},
   "outputs": [],
   "source": [
    "len(countries)"
   ]
  },
  {
   "cell_type": "raw",
   "id": "82818a36",
   "metadata": {},
   "source": [
    "Then we can turn this length into a successive list of elements in the following way:\n",
    "\n",
    "First, create a range object:"
   ]
  },
  {
   "cell_type": "code",
   "execution_count": null,
   "id": "e6d402ad",
   "metadata": {},
   "outputs": [],
   "source": [
    "range(0, len(countries))"
   ]
  },
  {
   "cell_type": "raw",
   "id": "a7757f52",
   "metadata": {},
   "source": [
    "And then convert this into a list:"
   ]
  },
  {
   "cell_type": "code",
   "execution_count": 10,
   "id": "17636bce",
   "metadata": {},
   "outputs": [
    {
     "data": {
      "text/plain": [
       "[0, 1, 2, 3, 4, 5, 6, 7]"
      ]
     },
     "execution_count": 10,
     "metadata": {},
     "output_type": "execute_result"
    }
   ],
   "source": [
    "list(range(0, len(countries)))"
   ]
  },
  {
   "cell_type": "raw",
   "id": "81c412bb",
   "metadata": {},
   "source": [
    "Note that the range object is marking the starting and ending point, and excluding the end. So this works perfectly:"
   ]
  },
  {
   "cell_type": "code",
   "execution_count": 11,
   "id": "c79943a0",
   "metadata": {},
   "outputs": [
    {
     "name": "stdout",
     "output_type": "stream",
     "text": [
      "Zagreb, Croatia\n",
      "District of Columbia, USA\n",
      "Buenos Aires, Argentina\n",
      "Paris, France\n",
      "Rio de Janeiro, Brazil\n",
      "Tokyo, Japan\n",
      "Hanoi, Vietnam\n",
      "Tel Aviv, Israel\n"
     ]
    }
   ],
   "source": [
    "for index in list(range(0, len(countries))):\n",
    "    print(cities[index]+\",\", countries[index])"
   ]
  },
  {
   "cell_type": "raw",
   "id": "08ed310a",
   "metadata": {},
   "source": [
    "And as we add or subtract countries, we will still be iterating through our list elements."
   ]
  },
  {
   "cell_type": "code",
   "execution_count": 12,
   "id": "97d0a1d0",
   "metadata": {},
   "outputs": [
    {
     "name": "stdout",
     "output_type": "stream",
     "text": [
      "Zagreb, Croatia\n",
      "District of Columbia, USA\n",
      "Buenos Aires, Argentina\n",
      "Paris, France\n",
      "Rio de Janeiro, Brazil\n",
      "Tokyo, Japan\n",
      "Hanoi, Vietnam\n",
      "Tel Aviv, Israel\n",
      "Mexico City, Mexico\n"
     ]
    }
   ],
   "source": [
    "countries.append('Mexico')\n",
    "cities.append('Mexico City')\n",
    "for index in list(range(0, len(countries))):\n",
    "    print(cities[index]+\",\", countries[index])"
   ]
  },
  {
   "cell_type": "raw",
   "id": "ca4825b2",
   "metadata": {},
   "source": [
    "Note: More conventionally, these contrived examples would employ the enumerate() method, but that is beyond the scope of the current lesson. At some point in the future, examine how this code snippet works:\n",
    "\n",
    "for idx, item in enumerate(['A', 'B', 'C']):\n",
    "    print(idx, item)"
   ]
  },
  {
   "cell_type": "markdown",
   "id": "529e30ea",
   "metadata": {},
   "source": [
    "## Iterating through different datatypes¶\n",
    "\n",
    "So far our loop variable has always been an element of a list that is a number. However, our loop variable can represent any data type. For example, let's have the loop variable represent each of the countries directly:"
   ]
  },
  {
   "cell_type": "code",
   "execution_count": 13,
   "id": "0c394c8f",
   "metadata": {},
   "outputs": [
    {
     "name": "stdout",
     "output_type": "stream",
     "text": [
      "A String\n",
      "['a', 'list', 'of', 5, ['elements']]\n",
      "{'this': 'is a dictionary'}\n"
     ]
    }
   ],
   "source": [
    "different_elements = ['A String', [\"a\", 'list', \"of\", 5, [\"elements\"]], {'this': \"is a dictionary\"}]\n",
    "for element in different_elements:\n",
    "    print(element)"
   ]
  },
  {
   "cell_type": "raw",
   "id": "85d0678f",
   "metadata": {},
   "source": [
    "Now that we know we can iterate through a list that contains multiple data types, let's explore iterating through a data type that's not a list.\n",
    "\n",
    "Another collection we commonly will iterate over is a dictionary. Dictionaries differ from lists, on a high level, in that elements are key, value pairs instead of one single element. So, when we go through each item in a dictionary, we are actually working with a two-part element (with a key & value). Similarly to how we name a variable for the element in a list for a for loop, we name a variable for both the key and value when we iterate over a dictionary. However, in Python, we can't iterate directly over the dictionary, we iterate over the items of a dictionary, which are the key-value pairs. Let's take a look at an example."
   ]
  },
  {
   "cell_type": "code",
   "execution_count": 14,
   "id": "8a9d7aff",
   "metadata": {},
   "outputs": [
    {
     "name": "stdout",
     "output_type": "stream",
     "text": [
      "dict_items([('first_name', 'Terrance'), ('last_name', 'KOAR'), ('favorite_language', 'Python')])\n"
     ]
    },
    {
     "data": {
      "text/plain": [
       "dict_items"
      ]
     },
     "execution_count": 14,
     "metadata": {},
     "output_type": "execute_result"
    }
   ],
   "source": [
    "example_dictionary = {'first_name': \"Terrance\", 'last_name': \"KOAR\", 'favorite_language': \"Python\"}\n",
    "print(example_dictionary.items())\n",
    "type(example_dictionary.items())"
   ]
  },
  {
   "cell_type": "raw",
   "id": "59f32973",
   "metadata": {},
   "source": [
    "Here we can see this dict_items object looks almost like a list, but each item has two parts, the key and value. So, in our first iteration, the first key will be first_name, and the first value will be Terrance."
   ]
  },
  {
   "cell_type": "code",
   "execution_count": 15,
   "id": "b995a803",
   "metadata": {},
   "outputs": [
    {
     "name": "stdout",
     "output_type": "stream",
     "text": [
      "this is the key: first_name\n",
      "this is the value: Terrance \n",
      "\n",
      "this is the key: last_name\n",
      "this is the value: KOAR \n",
      "\n",
      "this is the key: favorite_language\n",
      "this is the value: Python \n",
      "\n"
     ]
    }
   ],
   "source": [
    "for key, value in example_dictionary.items():\n",
    "    print(\"this is the key:\", key)    \n",
    "    print(\"this is the value:\", value, \"\\n\")"
   ]
  },
  {
   "cell_type": "raw",
   "id": "af656cf3",
   "metadata": {},
   "source": [
    "So, we can see that the dict_items object groups the key values together in a way that we can iterate over them and access them. We can even use them to inform our program to operate on keys and values in a certain way. Such as, the last name is inexplicably in all caps. Let's look at how we can rectify that and title case the last name when we print out the full name of the example_dictionary object"
   ]
  },
  {
   "cell_type": "code",
   "execution_count": 16,
   "id": "e760fea7",
   "metadata": {},
   "outputs": [
    {
     "name": "stdout",
     "output_type": "stream",
     "text": [
      "Terrance Koar\n"
     ]
    }
   ],
   "source": [
    "first_name = \"\"\n",
    "last_name = \"\"\n",
    "for key, value in example_dictionary.items():\n",
    "    if key == \"last_name\":\n",
    "        last_name = value.title()\n",
    "    if key == \"first_name\":\n",
    "        first_name = value\n",
    "print(first_name, last_name)"
   ]
  },
  {
   "cell_type": "markdown",
   "id": "c7c1d6c5",
   "metadata": {},
   "source": [
    "## Conventional Naming Patterns\n",
    "\n",
    "Typically, when we are looping through a collection of things like countries, we will name the looping variable, country, since that is the singular version of the plural name that represents our list. This is convention and helps to not only remind us, but tell other people looking at our code what that variable is. Let's take a look at a couple examples."
   ]
  },
  {
   "cell_type": "code",
   "execution_count": 17,
   "id": "588fee50",
   "metadata": {},
   "outputs": [
    {
     "name": "stdout",
     "output_type": "stream",
     "text": [
      "Croatia\n",
      "USA\n",
      "Argentina\n",
      "France\n",
      "Brazil\n",
      "Japan\n",
      "Vietnam\n",
      "Israel\n",
      "Mexico\n"
     ]
    }
   ],
   "source": [
    "for country in countries:\n",
    "    print(country)"
   ]
  },
  {
   "cell_type": "code",
   "execution_count": 18,
   "id": "e72a7758",
   "metadata": {},
   "outputs": [
    {
     "name": "stdout",
     "output_type": "stream",
     "text": [
      "I love Mint Chocolate Chip ice cream!!\n",
      "I love Coffee ice cream!!\n",
      "I love Cookie Dough ice cream!!\n",
      "I love Fudge Mint Brownie ice cream!!\n",
      "I love Vanilla Bean ice cream!!\n"
     ]
    }
   ],
   "source": [
    "ice_cream_flavors = ['Mint Chocolate Chip', 'Coffee', 'Cookie Dough', 'Fudge Mint Brownie', 'Vanilla Bean']\n",
    "for ice_cream_flavor in ice_cream_flavors:\n",
    "    print('I love ' + ice_cream_flavor + ' ice cream!!')"
   ]
  },
  {
   "cell_type": "raw",
   "id": "04a8bd16",
   "metadata": {},
   "source": [
    "we learned how to use loops to iterate through a collection of elements. We started with iterating through a list of numbers, and performed the same operation on each number. Then we saw how we can loop through the numbers and have each number be used to access a successive element from a separate list, like countries. We then saw that to ensure our list of numbers matched the indices of our other list, we had to use the expression, for element in list(range(0, len(list))). Finally, we introduced a naming convention that is commonly used when naming the variable for our loops when iterating over a collection that is a list of common elements (i.e. ice_cream_flavor for a list of ice_cream_flavors)."
   ]
  },
  {
   "cell_type": "markdown",
   "id": "54362d92",
   "metadata": {},
   "source": [
    "## Identifying When To Use a For Loop\n",
    "\n",
    "In the last lesson, we worked with some of our travel data. Additional data has been compiled in the cities.xlsx excel spreadsheet. Let's retrieve this data from excel using the Pandas library. Don't worry if Pandas feels unfamiliar, it will be covered in detail later. For now, just follow the provided code and get a feel for what is happening. First, read the information from the excel file as a list of dictionaries, with each dictionary representing a location. Then, assign this list to the variable cities."
   ]
  },
  {
   "cell_type": "code",
   "execution_count": 19,
   "id": "8e5d41eb",
   "metadata": {},
   "outputs": [
    {
     "data": {
      "text/html": [
       "<div>\n",
       "<style scoped>\n",
       "    .dataframe tbody tr th:only-of-type {\n",
       "        vertical-align: middle;\n",
       "    }\n",
       "\n",
       "    .dataframe tbody tr th {\n",
       "        vertical-align: top;\n",
       "    }\n",
       "\n",
       "    .dataframe thead th {\n",
       "        text-align: right;\n",
       "    }\n",
       "</style>\n",
       "<table border=\"1\" class=\"dataframe\">\n",
       "  <thead>\n",
       "    <tr style=\"text-align: right;\">\n",
       "      <th></th>\n",
       "      <th>City</th>\n",
       "      <th>Country</th>\n",
       "      <th>Population</th>\n",
       "      <th>Area</th>\n",
       "    </tr>\n",
       "  </thead>\n",
       "  <tbody>\n",
       "    <tr>\n",
       "      <th>0</th>\n",
       "      <td>Buenos Aires</td>\n",
       "      <td>Argentina</td>\n",
       "      <td>13591863</td>\n",
       "      <td>4758</td>\n",
       "    </tr>\n",
       "    <tr>\n",
       "      <th>1</th>\n",
       "      <td>Toronto</td>\n",
       "      <td>Canada</td>\n",
       "      <td>2731571</td>\n",
       "      <td>630</td>\n",
       "    </tr>\n",
       "    <tr>\n",
       "      <th>2</th>\n",
       "      <td>Pyeongchang</td>\n",
       "      <td>South Korea</td>\n",
       "      <td>2581000</td>\n",
       "      <td>3194</td>\n",
       "    </tr>\n",
       "    <tr>\n",
       "      <th>3</th>\n",
       "      <td>Marakesh</td>\n",
       "      <td>Morocco</td>\n",
       "      <td>928850</td>\n",
       "      <td>200</td>\n",
       "    </tr>\n",
       "    <tr>\n",
       "      <th>4</th>\n",
       "      <td>Albuquerque</td>\n",
       "      <td>New Mexico</td>\n",
       "      <td>559277</td>\n",
       "      <td>491</td>\n",
       "    </tr>\n",
       "    <tr>\n",
       "      <th>5</th>\n",
       "      <td>Los Cabos</td>\n",
       "      <td>Mexico</td>\n",
       "      <td>287651</td>\n",
       "      <td>3750</td>\n",
       "    </tr>\n",
       "    <tr>\n",
       "      <th>6</th>\n",
       "      <td>Greenville</td>\n",
       "      <td>USA</td>\n",
       "      <td>84554</td>\n",
       "      <td>68</td>\n",
       "    </tr>\n",
       "    <tr>\n",
       "      <th>7</th>\n",
       "      <td>Archipelago Sea</td>\n",
       "      <td>Finland</td>\n",
       "      <td>60000</td>\n",
       "      <td>8300</td>\n",
       "    </tr>\n",
       "    <tr>\n",
       "      <th>8</th>\n",
       "      <td>Walla Walla Valley</td>\n",
       "      <td>USA</td>\n",
       "      <td>32237</td>\n",
       "      <td>33</td>\n",
       "    </tr>\n",
       "    <tr>\n",
       "      <th>9</th>\n",
       "      <td>Salina Island</td>\n",
       "      <td>Italy</td>\n",
       "      <td>4000</td>\n",
       "      <td>27</td>\n",
       "    </tr>\n",
       "    <tr>\n",
       "      <th>10</th>\n",
       "      <td>Solta</td>\n",
       "      <td>Croatia</td>\n",
       "      <td>1700</td>\n",
       "      <td>59</td>\n",
       "    </tr>\n",
       "    <tr>\n",
       "      <th>11</th>\n",
       "      <td>Iguazu Falls</td>\n",
       "      <td>Argentina</td>\n",
       "      <td>0</td>\n",
       "      <td>672</td>\n",
       "    </tr>\n",
       "  </tbody>\n",
       "</table>\n",
       "</div>"
      ],
      "text/plain": [
       "                  City      Country  Population  Area\n",
       "0         Buenos Aires    Argentina    13591863  4758\n",
       "1              Toronto       Canada     2731571   630\n",
       "2          Pyeongchang  South Korea     2581000  3194\n",
       "3             Marakesh      Morocco      928850   200\n",
       "4          Albuquerque   New Mexico      559277   491\n",
       "5            Los Cabos       Mexico      287651  3750\n",
       "6           Greenville          USA       84554    68\n",
       "7      Archipelago Sea      Finland       60000  8300\n",
       "8   Walla Walla Valley          USA       32237    33\n",
       "9        Salina Island        Italy        4000    27\n",
       "10               Solta      Croatia        1700    59\n",
       "11        Iguazu Falls    Argentina           0   672"
      ]
     },
     "execution_count": 19,
     "metadata": {},
     "output_type": "execute_result"
    }
   ],
   "source": [
    "import pandas as pd\n",
    "file_name = './cities.xlsx'\n",
    "travel_df = pd.read_excel(file_name)\n",
    "travel_df['Population'] = travel_df['Population'].astype(int)\n",
    "travel_df['Area'] = travel_df['Area'].astype(int)\n",
    "travel_df"
   ]
  },
  {
   "cell_type": "code",
   "execution_count": 20,
   "id": "b34ca6fd",
   "metadata": {},
   "outputs": [
    {
     "data": {
      "text/plain": [
       "[{'City': 'Buenos Aires',\n",
       "  'Country': 'Argentina',\n",
       "  'Population': 13591863,\n",
       "  'Area': 4758},\n",
       " {'City': 'Toronto', 'Country': 'Canada', 'Population': 2731571, 'Area': 630},\n",
       " {'City': 'Pyeongchang',\n",
       "  'Country': 'South Korea',\n",
       "  'Population': 2581000,\n",
       "  'Area': 3194},\n",
       " {'City': 'Marakesh', 'Country': 'Morocco', 'Population': 928850, 'Area': 200},\n",
       " {'City': 'Albuquerque',\n",
       "  'Country': 'New Mexico',\n",
       "  'Population': 559277,\n",
       "  'Area': 491},\n",
       " {'City': 'Los Cabos',\n",
       "  'Country': 'Mexico',\n",
       "  'Population': 287651,\n",
       "  'Area': 3750},\n",
       " {'City': 'Greenville', 'Country': 'USA', 'Population': 84554, 'Area': 68},\n",
       " {'City': 'Archipelago Sea',\n",
       "  'Country': 'Finland',\n",
       "  'Population': 60000,\n",
       "  'Area': 8300},\n",
       " {'City': 'Walla Walla Valley',\n",
       "  'Country': 'USA',\n",
       "  'Population': 32237,\n",
       "  'Area': 33},\n",
       " {'City': 'Salina Island', 'Country': 'Italy', 'Population': 4000, 'Area': 27},\n",
       " {'City': 'Solta', 'Country': 'Croatia', 'Population': 1700, 'Area': 59},\n",
       " {'City': 'Iguazu Falls',\n",
       "  'Country': 'Argentina',\n",
       "  'Population': 0,\n",
       "  'Area': 672}]"
      ]
     },
     "execution_count": 20,
     "metadata": {},
     "output_type": "execute_result"
    }
   ],
   "source": [
    "\n",
    "cities = travel_df.to_dict('records')\n",
    "cities"
   ]
  },
  {
   "cell_type": "markdown",
   "id": "cbfb3a86",
   "metadata": {},
   "source": [
    "Next, retrieve the first three city names, stored as the 'City' attribute of each dictionary, and 'Population' of each of the cities. Then plot the names as our x_values and the populations as our y_values using the matplotlib library. Again, don't worry about understanding all of the details behind what matplotlib is doing. It will be covered in more detail soon."
   ]
  },
  {
   "cell_type": "code",
   "execution_count": 21,
   "id": "92e814af",
   "metadata": {},
   "outputs": [
    {
     "data": {
      "image/png": "[encoded data removed]",
      "text/plain": [
       "<Figure size 432x288 with 1 Axes>"
      ]
     },
     "metadata": {
      "needs_background": "light"
     },
     "output_type": "display_data"
    }
   ],
   "source": [
    "import matplotlib.pyplot as plt\n",
    "\n",
    "%matplotlib inline\n",
    "\n",
    "x_values = [cities[0]['City'], cities[1]['City'], cities[2]['City']]\n",
    "y_values = [cities[0]['Population'], cities[1]['Population'], cities[2]['Population']]\n",
    " \n",
    "plt.bar(x_values, y_values)\n",
    "plt.ylabel('Population')\n",
    "plt.title('City Populations')\n",
    " \n",
    "plt.show()"
   ]
  },
  {
   "cell_type": "markdown",
   "id": "a3094c95",
   "metadata": {},
   "source": [
    "Of course, as you may have spotted, there is a good amount of repetition in displaying this data. Just take a look at how we retrieved the data for our x_values and y_values. And you'll notice that, unless we know the exact number of cities and populations in our excel file, this method of retrieving data might miss some data or try to access values that don't exist.\n",
    "\n",
    "We can take a close look at this below:"
   ]
  },
  {
   "cell_type": "code",
   "execution_count": 22,
   "id": "02dde7b2",
   "metadata": {},
   "outputs": [
    {
     "data": {
      "image/png": "[encoded data removed]",
      "text/plain": [
       "<Figure size 432x288 with 1 Axes>"
      ]
     },
     "metadata": {
      "needs_background": "light"
     },
     "output_type": "display_data"
    }
   ],
   "source": [
    "x_values = [cities[0]['City'], cities[1]['City'], cities[2]['City']]\n",
    "y_values = [cities[0]['Population'], cities[1]['Population'], cities[2]['Population']]\n",
    "plt.bar(x_values, y_values)\n",
    "plt.ylabel('Population')\n",
    "plt.title('City Populations')\n",
    " \n",
    "plt.show()"
   ]
  },
  {
   "cell_type": "markdown",
   "id": "36d9f7ea",
   "metadata": {},
   "source": [
    "As we can see, if we have any more than 3 lines of data, our x_values and y_values will be incomplete, and if we had only 2 lines of data, our code would break.\n",
    "\n",
    "So in this lesson, we will use for loop to display information about our travel locations with less repetition and more accuracy."
   ]
  },
  {
   "cell_type": "markdown",
   "id": "d54f3333",
   "metadata": {},
   "source": [
    "## Instructions\n",
    "\n",
    "Before we get into creating graphs from our cities data, let's get a bit more comfortable with the data we are working with. Let's see if we can iterate through just one element (i.e. a city dictionary object) to get the area."
   ]
  },
  {
   "cell_type": "code",
   "execution_count": 23,
   "id": "fc1c8b71",
   "metadata": {},
   "outputs": [
    {
     "data": {
      "text/plain": [
       "{'City': 'Pyeongchang',\n",
       " 'Country': 'South Korea',\n",
       " 'Population': 2581000,\n",
       " 'Area': 3194}"
      ]
     },
     "execution_count": 23,
     "metadata": {},
     "output_type": "execute_result"
    }
   ],
   "source": [
    "buenos_aires = cities[2]\n",
    "buenos_aires"
   ]
  },
  {
   "cell_type": "code",
   "execution_count": 24,
   "id": "ccf6bcec",
   "metadata": {},
   "outputs": [
    {
     "data": {
      "text/plain": [
       "3194"
      ]
     },
     "execution_count": 24,
     "metadata": {},
     "output_type": "execute_result"
    }
   ],
   "source": [
    "# here we want to find just the area of buenos_aires\n",
    "buenos_aires_area = None\n",
    "# code goes here\n",
    "buenos_aires_area = buenos_aires['Area']\n",
    "buenos_aires_area"
   ]
  },
  {
   "cell_type": "raw",
   "id": "caa13bb0",
   "metadata": {},
   "source": [
    "Now that we have a bit more familiarity with our dictionaries, we can move to gathering all the information we need to create our traces.\n",
    "\n",
    "Our cities list contains information about the top 12 cities. For our upcoming iteration tasks, it will be useful to have a list of the numbers 0 through 11. Use what we know about len and rangeto generate a list of numbers 0 through 11. Assign this to a variable called city_indices."
   ]
  },
  {
   "cell_type": "code",
   "execution_count": 25,
   "id": "61ef70df",
   "metadata": {},
   "outputs": [
    {
     "data": {
      "text/plain": [
       "[0, 1, 2, 3, 4, 5, 6, 7, 8, 9, 10, 11]"
      ]
     },
     "execution_count": 25,
     "metadata": {},
     "output_type": "execute_result"
    }
   ],
   "source": [
    "city_indices = None\n",
    "city_indices = list(range(0, len(cities))) # [0, 1, 2, 3, 4, 5, 6, 7, 8, 9, 10, 11]\n",
    "city_indices"
   ]
  },
  {
   "cell_type": "code",
   "execution_count": 26,
   "id": "c27a3c6e",
   "metadata": {},
   "outputs": [
    {
     "data": {
      "text/plain": [
       "[{'City': 'Buenos Aires',\n",
       "  'Country': 'Argentina',\n",
       "  'Population': 13591863,\n",
       "  'Area': 4758},\n",
       " {'City': 'Toronto', 'Country': 'Canada', 'Population': 2731571, 'Area': 630},\n",
       " {'City': 'Pyeongchang',\n",
       "  'Country': 'South Korea',\n",
       "  'Population': 2581000,\n",
       "  'Area': 3194},\n",
       " {'City': 'Marakesh', 'Country': 'Morocco', 'Population': 928850, 'Area': 200},\n",
       " {'City': 'Albuquerque',\n",
       "  'Country': 'New Mexico',\n",
       "  'Population': 559277,\n",
       "  'Area': 491},\n",
       " {'City': 'Los Cabos',\n",
       "  'Country': 'Mexico',\n",
       "  'Population': 287651,\n",
       "  'Area': 3750},\n",
       " {'City': 'Greenville', 'Country': 'USA', 'Population': 84554, 'Area': 68},\n",
       " {'City': 'Archipelago Sea',\n",
       "  'Country': 'Finland',\n",
       "  'Population': 60000,\n",
       "  'Area': 8300},\n",
       " {'City': 'Walla Walla Valley',\n",
       "  'Country': 'USA',\n",
       "  'Population': 32237,\n",
       "  'Area': 33},\n",
       " {'City': 'Salina Island', 'Country': 'Italy', 'Population': 4000, 'Area': 27},\n",
       " {'City': 'Solta', 'Country': 'Croatia', 'Population': 1700, 'Area': 59},\n",
       " {'City': 'Iguazu Falls',\n",
       "  'Country': 'Argentina',\n",
       "  'Population': 0,\n",
       "  'Area': 672}]"
      ]
     },
     "execution_count": 26,
     "metadata": {},
     "output_type": "execute_result"
    }
   ],
   "source": [
    "cities"
   ]
  },
  {
   "cell_type": "raw",
   "id": "69255d8d",
   "metadata": {},
   "source": [
    "Now, using the cities list, we want to create a list of the names for each city. Loop through each city and append it's name ('City') to the city_names list."
   ]
  },
  {
   "cell_type": "code",
   "execution_count": 27,
   "id": "8d86db1a",
   "metadata": {},
   "outputs": [
    {
     "data": {
      "text/plain": [
       "['Buenos Aires',\n",
       " 'Toronto',\n",
       " 'Pyeongchang',\n",
       " 'Marakesh',\n",
       " 'Albuquerque',\n",
       " 'Los Cabos',\n",
       " 'Greenville',\n",
       " 'Archipelago Sea',\n",
       " 'Walla Walla Valley',\n",
       " 'Salina Island',\n",
       " 'Solta',\n",
       " 'Iguazu Falls']"
      ]
     },
     "execution_count": 27,
     "metadata": {},
     "output_type": "execute_result"
    }
   ],
   "source": [
    "city_names = []\n",
    "for city in cities:\n",
    "    #print(city['City'])\n",
    "    city_names.append(city['City'])\n",
    "    \n",
    "city_names"
   ]
  },
  {
   "cell_type": "raw",
   "id": "8d28c3e3",
   "metadata": {},
   "source": [
    "Your task is to assign the variable names_and_ranks to a list, with each element equal to the city name and its corresponding rank. For example, the first element would be, \"1. Buenos Aires\" and the second would be \"2. Toronto\". Luckily for us, the list of cities that we read from our excel file is already in order by most populous to least. So, all we need to do is add numbers 1 through 12 to the beginning of each city name.\n",
    "\n",
    "Use a for loop and the lists city_indices and city_names to accomplish this. We'll need to perform some nifty string interpolation to format our strings properly. Check out f-string interpolation to see how we can pass values into a string. Remember that list indices start at zero, but we want our names_and_ranks list to start at one!"
   ]
  },
  {
   "cell_type": "code",
   "execution_count": 28,
   "id": "d22edc73",
   "metadata": {},
   "outputs": [
    {
     "data": {
      "text/plain": [
       "['1. Buenos Aires',\n",
       " '2. Toronto',\n",
       " '3. Pyeongchang',\n",
       " '4. Marakesh',\n",
       " '5. Albuquerque',\n",
       " '6. Los Cabos',\n",
       " '7. Greenville',\n",
       " '8. Archipelago Sea',\n",
       " '9. Walla Walla Valley',\n",
       " '10. Salina Island',\n",
       " '11. Solta',\n",
       " '12. Iguazu Falls']"
      ]
     },
     "execution_count": 28,
     "metadata": {},
     "output_type": "execute_result"
    }
   ],
   "source": [
    "names_and_ranks = []\n",
    "for i in city_indices:\n",
    "    names_and_ranks.append(f\"{i+1}. {city_names[i]}\")\n",
    "names_and_ranks\n",
    "# write a for loop that adds the properly formatted string to the names_and_ranks list"
   ]
  },
  {
   "cell_type": "code",
   "execution_count": 29,
   "id": "ff92b6f0",
   "metadata": {},
   "outputs": [
    {
     "name": "stdout",
     "output_type": "stream",
     "text": [
      "1. Buenos Aires\n",
      "2. Toronto\n",
      "12. Iguazu Falls\n"
     ]
    }
   ],
   "source": [
    "print(names_and_ranks[0]) # '1. Buenos Aires'\n",
    "print(names_and_ranks[1]) # '2. Toronto'\n",
    "print(names_and_ranks[-1]) # '12. Iguazu Falls'"
   ]
  },
  {
   "cell_type": "raw",
   "id": "e609cbf3",
   "metadata": {},
   "source": [
    "Ok, now use another for loop to iterate through our list of cities and create a new list called city_populations that has the population for each city (Population)."
   ]
  },
  {
   "cell_type": "code",
   "execution_count": 30,
   "id": "71738e48",
   "metadata": {},
   "outputs": [
    {
     "data": {
      "text/plain": [
       "[13591863,\n",
       " 2731571,\n",
       " 2581000,\n",
       " 928850,\n",
       " 559277,\n",
       " 287651,\n",
       " 84554,\n",
       " 60000,\n",
       " 32237,\n",
       " 4000,\n",
       " 1700,\n",
       " 0]"
      ]
     },
     "execution_count": 30,
     "metadata": {},
     "output_type": "execute_result"
    }
   ],
   "source": [
    "city_populations = []\n",
    "for population in cities:\n",
    "    city_populations.append(population['Population'])\n",
    "\n",
    "city_populations\n",
    "\n",
    "# use a for loop to iterate through the list of cities with their corresponding population"
   ]
  },
  {
   "cell_type": "code",
   "execution_count": 31,
   "id": "0d13c168",
   "metadata": {},
   "outputs": [
    {
     "name": "stdout",
     "output_type": "stream",
     "text": [
      "13591863\n",
      "2731571\n",
      "0\n"
     ]
    }
   ],
   "source": [
    "print(city_populations[0]) \n",
    "print(city_populations[1]) \n",
    "print(city_populations[-1]) "
   ]
  },
  {
   "cell_type": "raw",
   "id": "8dac8f29",
   "metadata": {},
   "source": [
    "Great! Now we can begin to plot this data. Again, we'll used matplotlib to create a bar graph with our cities and their respective population data. To do this, we use the .bar() function and pass in our x-axis and y-axis values, add a label and title, and finally we call the .show() function to view our new bar graph.\n",
    "\n",
    "Note: In the example below, we are adding a custom rotation for our x-axis labels so that they do not overlap."
   ]
  },
  {
   "cell_type": "code",
   "execution_count": 32,
   "id": "bcfb6269",
   "metadata": {},
   "outputs": [
    {
     "data": {
      "image/png": "[encoded data removed]",
      "text/plain": [
       "<Figure size 432x288 with 1 Axes>"
      ]
     },
     "metadata": {
      "needs_background": "light"
     },
     "output_type": "display_data"
    }
   ],
   "source": [
    "plt.bar(names_and_ranks, city_populations)\n",
    "plt.xticks(rotation='vertical')\n",
    "plt.ylabel('Population')\n",
    "plt.title('City Populations')\n",
    "plt.show()"
   ]
  },
  {
   "cell_type": "raw",
   "id": "3cc0ad49",
   "metadata": {},
   "source": [
    "Now we want declare a variable called city_areas that points to a list of all of the areas of the cities. Let's use a for loop to iterate through our cities and have city_areas equal to each area of the city."
   ]
  },
  {
   "cell_type": "code",
   "execution_count": 33,
   "id": "de738576",
   "metadata": {},
   "outputs": [
    {
     "data": {
      "text/plain": [
       "[4758, 630, 3194, 200, 491, 3750, 68, 8300, 33, 27, 59, 672]"
      ]
     },
     "execution_count": 33,
     "metadata": {},
     "output_type": "execute_result"
    }
   ],
   "source": [
    "city_areas = []\n",
    "for area in cities:\n",
    "    city_areas.append(area['Area'])\n",
    "    \n",
    "city_areas\n",
    "#write a for loop that adds the 'Area' of each city to the list city_areas"
   ]
  },
  {
   "cell_type": "raw",
   "id": "d6b14165",
   "metadata": {},
   "source": [
    "Now that we have the city areas and populations, let's plot them to see how the size of each city compares to its population. "
   ]
  },
  {
   "cell_type": "code",
   "execution_count": 34,
   "id": "d32685e8",
   "metadata": {},
   "outputs": [
    {
     "data": {
      "image/png": "[encoded data removed]",
      "text/plain": [
       "<Figure size 432x288 with 1 Axes>"
      ]
     },
     "metadata": {
      "needs_background": "light"
     },
     "output_type": "display_data"
    }
   ],
   "source": [
    "plt.bar(names_and_ranks, city_populations)\n",
    "\n",
    "plt.ylabel('Population')\n",
    "plt.xlabel('Cities')\n",
    "plt.title('City Populations')\n",
    "plt.xticks(rotation='vertical')\n",
    " \n",
    "plt.show()"
   ]
  },
  {
   "cell_type": "code",
   "execution_count": 35,
   "id": "461e0fc0",
   "metadata": {},
   "outputs": [
    {
     "data": {
      "image/png": "[encoded data removed]",
      "text/plain": [
       "<Figure size 432x288 with 1 Axes>"
      ]
     },
     "metadata": {
      "needs_background": "light"
     },
     "output_type": "display_data"
    }
   ],
   "source": [
    "plt.bar(names_and_ranks, city_areas)\n",
    "plt.ylabel('Area')\n",
    "plt.xlabel('Cities')\n",
    "plt.title('City Areas')\n",
    "plt.xticks(rotation='vertical')\n",
    " \n",
    "plt.show()"
   ]
  },
  {
   "cell_type": "raw",
   "id": "99882228",
   "metadata": {},
   "source": [
    "https://www.programiz.com/python-programming/string-interpolation#f"
   ]
  },
  {
   "cell_type": "markdown",
   "id": "97aa0079",
   "metadata": {},
   "source": [
    "# While Loops, Break and Continue"
   ]
  },
  {
   "cell_type": "raw",
   "id": "cb73a6bf",
   "metadata": {},
   "source": [
    "We can use a while loop to perform the same action over and over until a condition is no longer True. We don't even need an iterable or collection to iterate over. We can just define a condition and perform the given code block until the condition is no longer True\n",
    "\n",
    " a while loop uses a condition to know when to stop executing. When the condition is true, the block inside the while loop is executed. When that condition is false, we exit the while loop and move on to the next piece of our code."
   ]
  },
  {
   "cell_type": "code",
   "execution_count": 36,
   "id": "a0ec895c",
   "metadata": {},
   "outputs": [
    {
     "name": "stdout",
     "output_type": "stream",
     "text": [
      "4\n",
      "3\n",
      "2\n",
      "1\n",
      "The stop_number reached 0 so the while loop's condition became False and stopped execution\n"
     ]
    }
   ],
   "source": [
    "stop_number = 4\n",
    "while stop_number > 0:\n",
    "    print(stop_number)\n",
    "    stop_number -=1\n",
    "print(\"The stop_number reached\", stop_number, \"so the while loop's condition became False and stopped execution\")"
   ]
  },
  {
   "cell_type": "raw",
   "id": "5b312559",
   "metadata": {},
   "source": [
    "Note the lack of a list or other collection, and that our second print statement only printed after our stop_number become 0.\n",
    "\n",
    "Also, notice that the structure of a while loop is such that it could execute for an unknown amount of times. For example, if we didn't know the stop_number because it changed from time to time, our while loop could execute 100 times or 3.\n",
    "\n",
    "For example, if we used a random number using the random library from numpy:"
   ]
  },
  {
   "cell_type": "code",
   "execution_count": 37,
   "id": "1cdc7021",
   "metadata": {},
   "outputs": [
    {
     "name": "stdout",
     "output_type": "stream",
     "text": [
      "14\n",
      "13\n",
      "12\n",
      "11\n",
      "10\n",
      "9\n",
      "8\n",
      "7\n",
      "6\n",
      "5\n",
      "4\n",
      "3\n",
      "2\n",
      "1\n",
      "0\n"
     ]
    }
   ],
   "source": [
    "import numpy as np\n",
    "random_num = np.random.randint(1,20)\n",
    "while random_num > 0:\n",
    "    random_num -= 1\n",
    "    print(random_num)"
   ]
  },
  {
   "cell_type": "raw",
   "id": "57074bbf",
   "metadata": {},
   "source": [
    "However, we know that eventually that number will be less than 0 and the loop will eventually stop. This is of critical importance. A while loop must always have a condition that will stop the loop, otherwise we will have an infinite loop. Infinite loops can crash your browser or program if you don't have a way to end it. So, it is very important to make sure your loops have a fairly defined end case.\n",
    "\n",
    "If you do ever accidentally create an infinite loop, don't worry. Your current Notebook might freeze, and then kill the page to stop the execution. You can then re-open the browser again normally."
   ]
  },
  {
   "cell_type": "markdown",
   "id": "5385bfc8",
   "metadata": {},
   "source": [
    "## When To Use While Loops\n",
    "While loops are fairly straight forward. We use them in instances where we have a condition that serves as the point at which we want a process to stop. For example, if we think about our appetite, we should eat until we aren't hungry, right? Some days that might be two slices of pizza, some days that might be 5 slices of pizza (and that is assuming all pizza slices are of equal size, which is a generous assumption)."
   ]
  },
  {
   "cell_type": "code",
   "execution_count": 38,
   "id": "578b5306",
   "metadata": {},
   "outputs": [
    {
     "name": "stdout",
     "output_type": "stream",
     "text": [
      "----[sips water]-----\n",
      "ah, that was refreshing\n",
      "hydration is now at 10 %\n",
      "\n",
      "----[sips water]-----\n",
      "ah, that was refreshing\n",
      "hydration is now at 20 %\n",
      "\n",
      "----[sips water]-----\n",
      "ah, that was refreshing\n",
      "hydration is now at 30 %\n",
      "\n",
      "----[sips water]-----\n",
      "ah, that was refreshing\n",
      "hydration is now at 40 %\n",
      "\n",
      "----[sips water]-----\n",
      "ah, that was refreshing\n",
      "hydration is now at 50 %\n",
      "\n",
      "----[sips water]-----\n",
      "ah, that was refreshing\n",
      "hydration is now at 60 %\n",
      "\n",
      "----[sips water]-----\n",
      "ah, that was refreshing\n",
      "hydration is now at 70 %\n",
      "\n",
      "----[sips water]-----\n",
      "ah, that was refreshing\n",
      "hydration is now at 80 %\n",
      "\n",
      "----[sips water]-----\n",
      "ah, that was refreshing\n",
      "hydration is now at 90 %\n",
      "\n",
      "----[sips water]-----\n",
      "ah, that was refreshing\n",
      "hydration is now at 100 %\n",
      "\n"
     ]
    }
   ],
   "source": [
    "hydration = 0\n",
    "water = 1 # in gallons\n",
    "while hydration < 100 and water > 0:\n",
    "    print('----[sips water]-----')\n",
    "    water -= .1\n",
    "    print('ah, that was refreshing')\n",
    "    hydration += 10\n",
    "    print('hydration is now at', hydration, '%\\n')"
   ]
  },
  {
   "cell_type": "markdown",
   "id": "2d8940a5",
   "metadata": {},
   "source": [
    "## On To break And continue Statements¶\n",
    "In the case of break and continue statements, it is almost best to not overthink. break and continue essentially do what they sound like. They are used in tandem with conditional statements (if, elif), inside loops, and they break out of a loop if a condition is met or continue a loop if a different condition is met. Before we dive too deeply into how these statements function, let's look at an example."
   ]
  },
  {
   "cell_type": "code",
   "execution_count": 39,
   "id": "97e7307a",
   "metadata": {},
   "outputs": [
    {
     "name": "stdout",
     "output_type": "stream",
     "text": [
      "0 is even.\n",
      "this does not print for odd numbers\n",
      "because the continue statement skips\n",
      "the code that follows in the for loop\n",
      "and goes straight back to the next element in the for loop\n",
      "2 is even.\n",
      "this does not print for odd numbers\n",
      "because the continue statement skips\n",
      "the code that follows in the for loop\n",
      "and goes straight back to the next element in the for loop\n",
      "4 is even.\n",
      "this does not print for odd numbers\n",
      "because the continue statement skips\n",
      "the code that follows in the for loop\n",
      "and goes straight back to the next element in the for loop\n",
      "6 is even.\n",
      "this does not print for odd numbers\n",
      "because the continue statement skips\n",
      "the code that follows in the for loop\n",
      "and goes straight back to the next element in the for loop\n",
      "8 is even.\n",
      "this does not print for odd numbers\n",
      "because the continue statement skips\n",
      "the code that follows in the for loop\n",
      "and goes straight back to the next element in the for loop\n",
      "We have enough even numbers in new_list (5). break will stop the for loop now\n"
     ]
    }
   ],
   "source": [
    "numbers = list(range(0, 30))\n",
    "new_list = []\n",
    "for num in numbers:\n",
    "    if len(new_list) > 4:\n",
    "        print(f'We have enough even numbers in new_list ({len(new_list)}). break will stop the for loop now')\n",
    "        break\n",
    "    elif num % 2 == 0:\n",
    "        new_list.append(num)\n",
    "    elif num % 2 != 0:\n",
    "        continue\n",
    "        print('i never get executed')\n",
    "    print(num, 'is even.')\n",
    "    print('this does not print for odd numbers\\nbecause the continue statement skips\\nthe code that follows in the for loop\\nand goes straight back to the next element in the for loop')\n",
    "    "
   ]
  },
  {
   "cell_type": "markdown",
   "id": "2827790d",
   "metadata": {},
   "source": [
    "So, let's unpack what's happening here.\n",
    "\n",
    "First, we have a for loop that is iterating over our list, numbers, which has 30 numbers in it. Then we see that we have an if statement that only executes its code when our new_list has more than 4 numbers in it. Once this condition is met, we break out of our loop. We then have an elif statement that adds any even number to the new_list, and a final elif statement that tests to see if the number is odd, and if it is odd, then it continues to the next element in our for loop's iteration process.\n",
    "\n",
    "So, first let's dig into the continue statement. continue is telling our loop to skip any code that comes after it and go straight to the next element in our loop. So, if we are dealing with number 1 in our list of numbers, we will hit our continue statement and immediately go to the next element in our for loop (i.e. 2). Any code that comes after the continue will not be executed, but our for loop does not end execution. This contrasts with the break statement. Our break statement is only executed when we have met our condition that the new_list has reached the number of elements we want it to have. Once the break statement is executed, it will end the execution of the for loop altogether. All code after the break statement will be ignored, similar to our continue, but there will be no next step to the iteration. It stops the loop and that's the end.\n",
    "\n",
    "So, essentially, we can use continue to skip operation on elements and code below continue. We can then use break when we have a condition that tells us we want to stop the process altogether.\n",
    "\n",
    "We can look at two examples to really reinforce this difference in execution."
   ]
  },
  {
   "cell_type": "code",
   "execution_count": 40,
   "id": "5c71d189",
   "metadata": {},
   "outputs": [
    {
     "name": "stdout",
     "output_type": "stream",
     "text": [
      "0\n",
      "Since we don't have a continue statement,\n",
      "I'll always get executed\n",
      "1\n",
      "Since we don't have a continue statement,\n",
      "I'll always get executed\n",
      "2\n",
      "Since we don't have a continue statement,\n",
      "I'll always get executed\n",
      "3\n",
      "Since we don't have a continue statement,\n",
      "I'll always get executed\n",
      "4\n",
      "Since we don't have a continue statement,\n",
      "I'll always get executed\n"
     ]
    }
   ],
   "source": [
    "for i in list(range(0, 5)):\n",
    "    if True:\n",
    "        print(i)\n",
    "    print(\"Since we don't have a continue statement,\\nI'll always get executed\")"
   ]
  },
  {
   "cell_type": "code",
   "execution_count": 41,
   "id": "1cb23ac4",
   "metadata": {},
   "outputs": [
    {
     "name": "stdout",
     "output_type": "stream",
     "text": [
      "0\n",
      "1\n",
      "2\n",
      "3\n",
      "4\n"
     ]
    }
   ],
   "source": [
    "for i in list(range(0, 5)):\n",
    "    if True:\n",
    "        print(i)\n",
    "        continue\n",
    "    print(\"I'll never get executed\")"
   ]
  },
  {
   "cell_type": "code",
   "execution_count": 42,
   "id": "e2d24344",
   "metadata": {},
   "outputs": [
    {
     "name": "stdout",
     "output_type": "stream",
     "text": [
      "0\n"
     ]
    }
   ],
   "source": [
    "for i in list(range(0, 5)):\n",
    "    if True:\n",
    "        print(i)\n",
    "        break\n",
    "    print(\"I'll never get executed either\")"
   ]
  },
  {
   "cell_type": "markdown",
   "id": "5999e54c",
   "metadata": {},
   "source": [
    "These examples are a bit contrived but they very clearly show how continue and break work inside loops and conditional statements as well as the difference between their execution.\n",
    "\n",
    "## Identify Opportunities to Use Break and Continue\n",
    "Let's say you have a collection of elements and that you want to filter out certain elements and create a new list with the elements you want. But you also want to perform a complex operation on each of the elements you do want. Well, you don't want to perform that operation on the elements that you don't want and you don't want to have to write multiple for loops on the collection. So, a continue statement would allow you to optimize your performance and avoid needing to perform those operations. And a break statement can be used when you want to put a limit on the number of iterations you perform, the number of elements you append to a new list, or even just stop your iteration when you have found the first element you want. Let's take a look:"
   ]
  },
  {
   "cell_type": "code",
   "execution_count": 43,
   "id": "b8cdac48",
   "metadata": {},
   "outputs": [
    {
     "name": "stdout",
     "output_type": "stream",
     "text": [
      "before ['aNNE', 'JaNe', 'willIAM', 'WanDA', 'WeSt', 'HELEN', 'tHoMaS', 'HENrY', 'John', 'Marshall', 'May']\n",
      "after ['Anne', 'Jane', 'Helen', 'Thomas']\n",
      "4\n"
     ]
    }
   ],
   "source": [
    "names = ['aNNE', 'JaNe', 'willIAM', 'WanDA', 'WeSt', 'HELEN', 'tHoMaS', 'HENrY', 'John', 'Marshall', 'May']\n",
    "formatted_names = []\n",
    "check_count = 0\n",
    "\n",
    "for name in names:\n",
    "    if name.startswith('w') or name.startswith('W'):\n",
    "        check_count += 1\n",
    "        continue\n",
    "    elif len(formatted_names) >= 4:\n",
    "        check_count += 1\n",
    "        break\n",
    "    else:\n",
    "        formatted_names.append(name.title())\n",
    "\n",
    "print('before', names)\n",
    "print('after', formatted_names)\n",
    "print(check_count)"
   ]
  },
  {
   "cell_type": "markdown",
   "id": "dc8903f9",
   "metadata": {},
   "source": [
    "Okay, so, as we can tell from our code. We wanted to create a list of 4 names that are properly formatted and that don't start with the letter w. To optimize our code, we first check to see if the name starts with w. If it does, we skip all other operations that we need to do and go to the next name. Next we check to see if we have hit our quota of 4 names. If we have, then stop the iteration altogether. Lastly, if neither condition is met, format the given name and append it to our new list of formatted names. This way, we are optimizing our code by making sure that we eliminate performing any operations that aren't absolutely necessary at each step. You may have noticed the variable, check_count. If you are feeling unconvinced that the break and continue are not cutting down on the number of times our code is executing, run the cell below and compare the check_counts, which increment after each check of a conditional statement."
   ]
  },
  {
   "cell_type": "code",
   "execution_count": 44,
   "id": "eebad2bc",
   "metadata": {},
   "outputs": [
    {
     "name": "stdout",
     "output_type": "stream",
     "text": [
      "before ['aNNE', 'JaNe', 'willIAM', 'WanDA', 'WeSt', 'HELEN', 'tHoMaS', 'HENrY', 'John', 'Marshall', 'May']\n",
      "after ['Anne', 'Jane', 'Helen', 'Thomas']\n",
      "11\n"
     ]
    }
   ],
   "source": [
    "names = ['aNNE', 'JaNe', 'willIAM', 'WanDA', 'WeSt', 'HELEN', 'tHoMaS', 'HENrY', 'John', 'Marshall', 'May']\n",
    "formatted_names = []\n",
    "check_count = 0\n",
    "\n",
    "for name in names:\n",
    "    if len(formatted_names) < 4:\n",
    "        check_count += 1\n",
    "        if not (name.startswith('w') or name.startswith('W')):\n",
    "            check_count += 1\n",
    "            formatted_names.append(name.title())\n",
    "            \n",
    "\n",
    "print('before', names)\n",
    "print('after', formatted_names)        \n",
    "print(check_count)\n"
   ]
  },
  {
   "cell_type": "markdown",
   "id": "027c5b31",
   "metadata": {},
   "source": [
    "See that?! We have cut down on the different checks we perform by more than half (50%)! And on top of that, to get the same result we have to have a nested if statement, which is, technically put, gross. All joking aside, nested if statements should be avoided if they can be since they make our code less readable and therefore harder to maintain on top of being half as efficient as our previous code.\n",
    "\n",
    "It's important to note that these excess checks could represent much more expensive operations in our code. So, it is important to use break and continue when it makes sense."
   ]
  },
  {
   "cell_type": "markdown",
   "id": "a2983e13",
   "metadata": {},
   "source": [
    "## Summary\n",
    "Awesome! while loops are great, right? We can use them to perform operations based on the truthiness of a condition instead of needing to iterate over the elements in a collection. They provide a more dynamic way to perform operations, but we need to be careful when writing while loops because we need to have a condition that ends the loop. Otherwise we will have an infinite loop which will give us and our computer a real headache. In this lesson, we also introduced some control flow statements, break and continue, which allow us to make our conditional statements and the rest of our code more efficient and more readable. We call these statements control flow statements because they allow us to control the flow of our code's execution."
   ]
  },
  {
   "cell_type": "markdown",
   "id": "f0193160",
   "metadata": {},
   "source": [
    "### Instructions\n",
    "## While Loops\n",
    "Imagine a person named Agnes is finally ready to achieve her dream of becoming a competitive eater! Because the competition is so fierce, she knows she'll need to do lots of training to become number one.\n",
    "\n",
    "Her first regiment of training consists of eating pizza. Below is a for loop version of her training process. Using your knowledge of while loops, translate the pizza eating code below from a for loop to a while loop."
   ]
  },
  {
   "cell_type": "code",
   "execution_count": 45,
   "id": "b51d6746",
   "metadata": {},
   "outputs": [
    {
     "name": "stdout",
     "output_type": "stream",
     "text": [
      "Another slice eaten!\n",
      "Now eaten 1 slices!\n",
      "Another slice eaten!\n",
      "Now eaten 2 slices!\n",
      "Another slice eaten!\n",
      "Now eaten 3 slices!\n",
      "Another slice eaten!\n",
      "Now eaten 4 slices!\n",
      "Another slice eaten!\n",
      "Now eaten 5 slices!\n",
      "Another slice eaten!\n",
      "Now eaten 6 slices!\n"
     ]
    }
   ],
   "source": [
    "slices_of_pie = 6\n",
    "slices_eaten = 0\n",
    "\n",
    "for slice in range(slices_of_pie):\n",
    "    print('Another slice eaten!')\n",
    "    slices_eaten += 1\n",
    "    print('Now eaten {} slices!'.format(slices_eaten))"
   ]
  },
  {
   "cell_type": "code",
   "execution_count": 46,
   "id": "1542cdd3",
   "metadata": {},
   "outputs": [
    {
     "name": "stdout",
     "output_type": "stream",
     "text": [
      "Another slice eaten!\n",
      "Now eaten 1 slices!\n",
      "Another slice eaten!\n",
      "Now eaten 2 slices!\n",
      "Another slice eaten!\n",
      "Now eaten 3 slices!\n",
      "Another slice eaten!\n",
      "Now eaten 4 slices!\n",
      "Another slice eaten!\n",
      "Now eaten 5 slices!\n",
      "Another slice eaten!\n",
      "Now eaten 6 slices!\n"
     ]
    }
   ],
   "source": [
    "slices_of_pie = 6\n",
    "slices_eaten = 0\n",
    "while slices_eaten < 6 and slices_of_pie > 0:\n",
    "    print('Another slice eaten!')\n",
    "    slices_eaten += 1\n",
    "    print('Now eaten {} slices!'.format(slices_eaten))"
   ]
  },
  {
   "cell_type": "markdown",
   "id": "e524a600",
   "metadata": {},
   "source": [
    "After a long night of training with pizza, Agnes sleeps like a rock. When she wakes up in the morning, she realizes that her journey is not over. It has only just begun! In the next cell, continue her training; this time she'll be eating pancakes. None of the pancakes are prepared yet, and she wants to determine how much time she'll have left over after making all the pancakes. Here are the important details:\n",
    "\n",
    "Agnes has 1468 seconds allotted for breakfast today\n",
    "Agnes will be making herself 5 pancakes\n",
    "Each pancake takes 27 seconds to cook on each side\n",
    "It takes an average of 5 seconds to either flip a pancake, add it or remove it from the pan\n",
    "There is only room for one pancake at a time on the frying pan\n",
    "Remember there are two sides to every pancake!\n",
    "After Agnes cooks the 5 pancakes, how much time will she have left over to eat them? Use a while loop to find out below."
   ]
  },
  {
   "cell_type": "code",
   "execution_count": 47,
   "id": "6149c480",
   "metadata": {},
   "outputs": [
    {
     "data": {
      "text/plain": [
       "1123"
      ]
     },
     "execution_count": 47,
     "metadata": {},
     "output_type": "execute_result"
    }
   ],
   "source": [
    "time_for_breakfast = 1468 # in seconds\n",
    "number_of_cooked_pancakes = 0\n",
    "while time_for_breakfast > 0 and number_of_cooked_pancakes < 5:\n",
    "   \n",
    "    time_for_breakfast -= sum([5,27,5,27,5]) #Add to pan, side 1, flip, side 2, remove\n",
    "    number_of_cooked_pancakes += 1\n",
    "time_for_breakfast"
   ]
  },
  {
   "cell_type": "markdown",
   "id": "e288fa79",
   "metadata": {},
   "source": [
    "## For Loops"
   ]
  },
  {
   "cell_type": "markdown",
   "id": "b55f106f",
   "metadata": {},
   "source": [
    "Fast forward 5 years, and Agnes has become an international competitive eating superstar. Using her starpower, she decides to open up a restaurant chain. As part of a promotional deal, at a grand opening, she tells her fans that if they are part of the first 30 people to the restaurant, there is a 50% chance that they'll receive free food. Agnes executes this by giving each of the first 30 people a number ranging from 0-29. All people who have an even number will receive free food, and all those with odd numbers will sadly remain hungry :(. Use a while loop to create two lists below of:\n",
    "\n",
    "hungry_patrons\n",
    "fed_patrons\n",
    "All people will start out in the list of hungry_patrons, and only the lucky ones will move to fed_patrons.\n",
    "\n",
    "\n",
    "https://www.programiz.com/python-programming/methods/list/remove"
   ]
  },
  {
   "cell_type": "code",
   "execution_count": 48,
   "id": "96ceed0e",
   "metadata": {},
   "outputs": [
    {
     "name": "stdout",
     "output_type": "stream",
     "text": [
      "Hungry_patrons: [1, 3, 5, 7, 9, 11, 13, 15, 17, 19, 21, 23, 25, 27, 29]\n",
      "Fed_patrons: [0, 2, 4, 6, 8, 10, 12, 14, 16, 18, 20, 22, 24, 26, 28]\n"
     ]
    }
   ],
   "source": [
    "line_of_hungry_patrons = list(range(0,30))\n",
    "fed_patrons = []\n",
    "\n",
    "for patron in line_of_hungry_patrons:\n",
    "    if patron % 2 == 0:\n",
    "        line_of_hungry_patrons.remove(patron)\n",
    "        fed_patrons.append(patron)\n",
    "print('Hungry_patrons:', line_of_hungry_patrons)\n",
    "print('Fed_patrons:', fed_patrons)\n",
    "\n",
    "        \n",
    "        \n",
    "# use a for or while loop to feed the hungry patrons who have an even number\n",
    "# add the patrons with an even number to the fed_patrons list\n",
    "# then remove the even numbered patrons from the line_of_hungry_patrons\n",
    "# each list should contain 15 elements\n"
   ]
  },
  {
   "cell_type": "markdown",
   "id": "4f679cd7",
   "metadata": {},
   "source": [
    "## break And continue Statements\n",
    "Agnes decides that she wants to start creating targeted advertisements for people. Here is a list of customer objects with information about their name, age, job, pet, and pet name. You'll use loops to find people that meet certain requirements for Agnes' targeted marketing. Write for loops with conditional statements in conjunction with break and continue to get the desired output."
   ]
  },
  {
   "cell_type": "code",
   "execution_count": 49,
   "id": "fb7d3351",
   "metadata": {},
   "outputs": [],
   "source": [
    "people = [\n",
    "    {'name': \"Daniel\", 'age': 29, 'job': \"Engineer\", 'pet': \"Cat\", 'pet_name': \"Gato\"}, \n",
    "    {'name': \"Katie\", 'age': 30, 'job': \"Teacher\", 'pet': \"Dog\", 'pet_name': \"Frank\"},\n",
    "    {'name': \"Owen\", 'age': 26, 'job': \"Sales person\", 'pet': \"Cat\", 'pet_name': \"Cosmo\"},\n",
    "    {'name': \"Josh\", 'age': 22, 'job': \"Student\", 'pet': \"Cat\", 'pet_name': \"Chat\"},\n",
    "    {'name': \"Estelle\", 'age': 35, 'job': \"French Diplomat\", 'pet': \"Dog\", 'pet_name': \"Gabby\"},\n",
    "    {'name': \"Gustav\", 'age': 24, 'job': \"Brewer\", 'pet': \"Dog\", 'pet_name': \"Helen\"}\n",
    "]"
   ]
  },
  {
   "cell_type": "markdown",
   "id": "7a5665b6",
   "metadata": {},
   "source": [
    "Use a for loop to find the first person in the list of people that has a dog as their pet. The iteration count shouldn't exceed 2. In your loop add a print statement that says\n",
    "\n",
    " \"{person} has a dog! Had to check {number} of records to find a dog owner.\"\n",
    "The code has been started for you below:"
   ]
  },
  {
   "cell_type": "code",
   "execution_count": 50,
   "id": "f7467356",
   "metadata": {},
   "outputs": [
    {
     "name": "stdout",
     "output_type": "stream",
     "text": [
      "Katie has a dog! Had to check 2 of records to find a dog owner.\n"
     ]
    }
   ],
   "source": [
    "first_dog_person = None\n",
    "iteration_count = 0\n",
    "for person in people:\n",
    "    iteration_count += 1\n",
    "    if person['pet'] == \"Dog\":\n",
    "        print(\"{} has a dog! Had to check {} of records to find a dog owner.\".format(person['name'], iteration_count))\n",
    "        break"
   ]
  },
  {
   "cell_type": "raw",
   "id": "0900b39f",
   "metadata": {},
   "source": [
    "Now, use a for loop to create a list of all the cat owners who are under the age of 28."
   ]
  },
  {
   "cell_type": "code",
   "execution_count": 51,
   "id": "f7129da0",
   "metadata": {},
   "outputs": [
    {
     "data": {
      "text/plain": [
       "[{'name': 'Owen',\n",
       "  'age': 26,\n",
       "  'job': 'Sales person',\n",
       "  'pet': 'Cat',\n",
       "  'pet_name': 'Cosmo'},\n",
       " {'name': 'Josh',\n",
       "  'age': 22,\n",
       "  'job': 'Student',\n",
       "  'pet': 'Cat',\n",
       "  'pet_name': 'Chat'}]"
      ]
     },
     "execution_count": 51,
     "metadata": {},
     "output_type": "execute_result"
    }
   ],
   "source": [
    "cat_owners = []\n",
    "for person in people:\n",
    "    if person['age'] < 28 and person['pet'] == 'Cat':\n",
    "        cat_owners.append(person)\n",
    "cat_owners\n",
    "        \n",
    "        \n",
    "# for loop goes here"
   ]
  },
  {
   "cell_type": "markdown",
   "id": "612e7abf",
   "metadata": {},
   "source": [
    "Use a for loop to find the first person who is above 29 years old. Use a print statement to state their name and how old they are."
   ]
  },
  {
   "cell_type": "code",
   "execution_count": 52,
   "id": "c8f2339e",
   "metadata": {},
   "outputs": [
    {
     "name": "stdout",
     "output_type": "stream",
     "text": [
      "Katie is above age of 29 and is 30 years old .\n"
     ]
    }
   ],
   "source": [
    "thirty_something_yr_old = None\n",
    "\n",
    "for person in people:\n",
    "    if person['age'] > 29:\n",
    "        print(\"{} is above age of 29 and is {} years old .\".format(person['name'], person['age']))\n",
    "        break\n",
    "# for loop goes here"
   ]
  },
  {
   "cell_type": "markdown",
   "id": "5217b4db",
   "metadata": {},
   "source": [
    "Use a for loop to create a list of people's names and another list of pet names for all the dog owners."
   ]
  },
  {
   "cell_type": "code",
   "execution_count": 53,
   "id": "756a5a29",
   "metadata": {},
   "outputs": [
    {
     "name": "stdout",
     "output_type": "stream",
     "text": [
      "['Katie', 'Estelle', 'Gustav']\n",
      "['Frank', 'Gabby', 'Helen']\n"
     ]
    }
   ],
   "source": [
    "dog_owner_names = []\n",
    "dog_names = []\n",
    "for person in people:\n",
    "    if person['pet'] == \"Dog\":\n",
    "        dog_owner_names.append(person['name'])\n",
    "        dog_names.append(person['pet_name'])\n",
    "print(dog_owner_names)\n",
    "print(dog_names)\n",
    "\n",
    "# for loop goes here"
   ]
  },
  {
   "cell_type": "markdown",
   "id": "09465001",
   "metadata": {},
   "source": [
    "## Level Up\n",
    "Use a for loop to create a list of odd numbers from the list of numbers from 0 to 100. Each time there is an odd number, add 10 to it and append it to list_of_odd_numbers_plus_ten. Stop adding numbers to the list when there are 35 numbers in it. Once you have reached 35 numbers, return the sum of the new list of numbers."
   ]
  },
  {
   "cell_type": "code",
   "execution_count": 54,
   "id": "b5dfe7c4",
   "metadata": {},
   "outputs": [
    {
     "name": "stdout",
     "output_type": "stream",
     "text": [
      "Sum: 1575\n"
     ]
    }
   ],
   "source": [
    "list_of_numbers = list(range(0, 100))\n",
    "list_of_odd_numbers_plus_ten = []\n",
    "\n",
    "# use a for loop to create a list of odd numbers from the list of numbers from 0 to 100\n",
    "# each time there is an odd number, add 10 to it and append it to the list_of_odd_numbers_plus_ten\n",
    "# stop adding numbers to the list when there are 35 numbers\n",
    "# use break and continue statements in your code\n",
    "for number in list_of_numbers:\n",
    "    if number % 2 == 1:\n",
    "        list_of_odd_numbers_plus_ten.append(number+10)\n",
    "    else:\n",
    "        pass\n",
    "    if len(list_of_odd_numbers_plus_ten) >= 35:\n",
    "        break\n",
    "    else:\n",
    "        continue\n",
    "print('Sum:', sum(list_of_odd_numbers_plus_ten))\n",
    "    # Continue writing code here"
   ]
  },
  {
   "cell_type": "markdown",
   "id": "8a042866",
   "metadata": {},
   "source": [
    "## Summary\n",
    "In this lab, we practiced using while loops, which continue executing their block of code until the given condition is no longer true. This is useful for instances where we do not have a collection or do not need a collection to solve our problem, especially when we would only like to stop the process according to a certain condition. We then practiced using control flow statements, break and continue, to selectively operate on elements, append them to new lists, or assign them to new variables."
   ]
  },
  {
   "cell_type": "markdown",
   "id": "9a4a1175",
   "metadata": {},
   "source": [
    "# Using Nested Loops\n",
    "## Introduction\n",
    "In this lesson, we will be looking at how to perform nested iteration (or looping). What does this mean exactly? Well, we know that a nested data structure is having one form of data nested inside another. For example, a nested list would be a list that contains another list, or a dictionary that has a key that points to a list.\n",
    "\n",
    "# nested lists\n",
    "list_of_lists = [[1,2,3], [4,5,6], [3,5,2]]\n",
    "dict_nested_list = { 'name': \"example\", 'colors': [\"blue\", \"green\", \"yellow\", \"red\"] }\n",
    "So, with that example, we can infer that a nested loop would be a loop inside another loop. Sounds exciting, right? Let's take a look at some nested loops.\n",
    "\n",
    "Objectives\n",
    "You will be able to:\n",
    "\n",
    "Use a nested loop when it is appropriate\n",
    "Writing A Nested Loop\n",
    "Working with a nested data structure is a little confusing at first, but after doing it a few times it becomes much less intimidating. The same is true for writing nested loops. They will be somewhat commonplace in our programming future and are important to be comfortable with.\n",
    "\n",
    "Basically what happens with a nested loop is the inner loop runs in its entirety every iteration of the outer loop. Let's take a look at an example before diving deeper.\n",
    "\n",
    "## Writing A Nested Loop\n",
    "Working with a nested data structure is a little confusing at first, but after doing it a few times it becomes much less intimidating. The same is true for writing nested loops. They will be somewhat commonplace in our programming future and are important to be comfortable with.\n",
    "\n",
    "Basically what happens with a nested loop is the inner loop runs in its entirety every iteration of the outer loop. Let's take a look at an example before diving deeper."
   ]
  },
  {
   "cell_type": "code",
   "execution_count": 55,
   "id": "66f1aa0c",
   "metadata": {},
   "outputs": [
    {
     "name": "stdout",
     "output_type": "stream",
     "text": [
      "this is iteration **1** of the OUTER loop\n",
      "     this is iteration ONE of the INNER loop\n",
      "     this is iteration TWO of the INNER loop\n",
      "     this is iteration THREE of the INNER loop\n",
      "\n",
      "\n",
      "this is iteration **2** of the OUTER loop\n",
      "     this is iteration ONE of the INNER loop\n",
      "     this is iteration TWO of the INNER loop\n",
      "     this is iteration THREE of the INNER loop\n",
      "\n",
      "\n",
      "this is iteration **3** of the OUTER loop\n",
      "     this is iteration ONE of the INNER loop\n",
      "     this is iteration TWO of the INNER loop\n",
      "     this is iteration THREE of the INNER loop\n",
      "\n",
      "\n"
     ]
    }
   ],
   "source": [
    "outer_numbers = [1,2,3]\n",
    "inner_words = [\"ONE\", \"TWO\", \"THREE\"]\n",
    "for number in outer_numbers:\n",
    "    print(f\"this is iteration **{number}** of the OUTER loop\")\n",
    "    for word in inner_words:\n",
    "        print(f\"     this is iteration {word} of the INNER loop\")\n",
    "    print(\"\\n\")"
   ]
  },
  {
   "cell_type": "markdown",
   "id": "e089cd21",
   "metadata": {},
   "source": [
    "## How Nested Loops Work\n",
    "Alright, so, what we see happening here is that the inner loop runs through each of its iterations for each iteration of the outer loop. If we break this down even further, we can think of the block inside of a loop as a single operation. The current iteration only moves on to the next iteration once it has completed the entire operation.\n",
    "\n",
    "So, the operation of the outer loop is to print a string and execute a for loop on the inner_words collection. The outer block will do this three times. BUT the nested loop has to finish before the next iteration of the outer loop. The nested loop's job is to print its string three times, so that happens for each iteration of the outer loop.\n",
    "\n",
    "We can nest any and all kinds of loops."
   ]
  },
  {
   "cell_type": "code",
   "execution_count": 56,
   "id": "f3fbf5ce",
   "metadata": {},
   "outputs": [
    {
     "name": "stdout",
     "output_type": "stream",
     "text": [
      "outer iteration: 1\n",
      "    inner iteration: 1\n",
      "    inner iteration: 2\n",
      "    inner iteration: 3\n",
      "\n",
      "\n",
      "outer iteration: 2\n",
      "    inner iteration: 1\n",
      "    inner iteration: 2\n",
      "    inner iteration: 3\n",
      "\n",
      "\n",
      "outer iteration: 3\n",
      "    inner iteration: 1\n",
      "    inner iteration: 2\n",
      "    inner iteration: 3\n",
      "\n",
      "\n"
     ]
    }
   ],
   "source": [
    "outer = 0\n",
    "inner = 0\n",
    "while outer < 3:\n",
    "    outer += 1\n",
    "    print(\"outer iteration:\", outer)\n",
    "    while inner < 3:\n",
    "        inner += 1\n",
    "        print(\"    inner iteration:\", inner)\n",
    "    inner = 0\n",
    "    print(\"\\n\")"
   ]
  },
  {
   "cell_type": "markdown",
   "id": "82d5685d",
   "metadata": {},
   "source": [
    "## Using Nested Loops\n",
    "Seeing how to use nested loops is great and all, but when do we really use them? Well, as we touched on earlier, nested data structures don't simply provide a convenient way to conceptualize nested loops, they provide a clear use case for them too.\n",
    "\n",
    "Let's say we have a list of dictionaries that represent people. People can have attributes that also point to other collections, let's say their pets. So, if we wanted a way to list out the names of all people's pets, this would be a great opportunity to employ a nested loop. Let's take a look at an example."
   ]
  },
  {
   "cell_type": "code",
   "execution_count": 57,
   "id": "d2614b1c",
   "metadata": {},
   "outputs": [],
   "source": [
    "programmers = [{'name': \"rachel\", 'favorite_languages': ['Ruby', 'JavaScript', 'SQL', \"Java\"]},\n",
    "               {'name': \"daniel\", 'favorite_languages': ['JavaScript', 'Elixir', 'Python']},\n",
    "               {'name': \"greg\", 'favorite_languages': ['C#', 'CoffeeScript', 'R']},\n",
    "               {'name': \"meryl\", 'favorite_languages': ['C++', 'PHP', 'Swift']}\n",
    "              ]"
   ]
  },
  {
   "cell_type": "markdown",
   "id": "124281fe",
   "metadata": {},
   "source": [
    "So, if we wanted to take the above list of programmers and dynamically list out everyone's favorite_languages we would need to use two separate loops."
   ]
  },
  {
   "cell_type": "markdown",
   "id": "3a6933d4",
   "metadata": {},
   "source": [
    "for programmer in programmers:\n",
    "    for language in programmer['favorite_languages']:\n",
    "        print(language)"
   ]
  },
  {
   "cell_type": "markdown",
   "id": "b875dae0",
   "metadata": {},
   "source": [
    "It's possible to get this done without a nested loop, but it would require much more code and would not be nearly as efficient or semantic as the above solution. So, in cases where we're dealing with nested data structures, nesting loops becomes very useful.\n",
    "\n",
    "## Summary\n",
    "In this lesson, we introduced nested loops. Nested loops are exactly what they sound like. A loop inside of another. Nested iteration is helpful when dealing with nested collections in cases where we would like to dynamically access and use nested data contained in these collections. Nested loops can quickly become hard to read and maintain, so, it is important to use them wisely and sparingly."
   ]
  },
  {
   "cell_type": "markdown",
   "id": "254cb3bb",
   "metadata": {},
   "source": [
    "## Introduction\n",
    "In this lab, you'll practice using nested loops to iterate over nested data structures and create new collections. To do this, you'll be using data from a soccer match to practice our nested loops.\n",
    "\n",
    "## Objectives¶\n",
    "You will be able to:\n",
    "\n",
    "Use a nested loop when it is appropriate\n",
    "## Instructions\n",
    "Use nested loops and the below object, soccer_match, to complete the following prompts and get the desired return values."
   ]
  },
  {
   "cell_type": "code",
   "execution_count": 58,
   "id": "44d1dd73",
   "metadata": {},
   "outputs": [],
   "source": [
    "# Run this cell without changes\n",
    "soccer_match = [\n",
    "  { \"home_team\": True,\n",
    "    \"away_team\": False,\n",
    "    \"country\": \"France\",\n",
    "    \"num_passes\": 484,\n",
    "    \"passes_completed\": 423,\n",
    "    \"fouls_committed\": 16,\n",
    "    \"colors\": [\"blue\", \"white\", \"red\"],\n",
    "    \"players\": [\n",
    "      {\n",
    "        \"name\": \"Hugo LLORIS\",\n",
    "        \"captain\": True,\n",
    "        \"shirt_number\": 1,\n",
    "        \"position\": \"Goalie\"\n",
    "      },\n",
    "      {\n",
    "        \"name\": \"Benjamin PAVARD\",\n",
    "        \"captain\": False,\n",
    "        \"shirt_number\": 2,\n",
    "        \"position\": \"Defender\"\n",
    "      },\n",
    "      {\n",
    "        \"name\": \"Raphael VARANE\",\n",
    "        \"captain\": False,\n",
    "        \"shirt_number\": 4,\n",
    "        \"position\": \"Defender\"\n",
    "      },\n",
    "      {\n",
    "        \"name\": \"Samuel UMTITI\",\n",
    "        \"captain\": False,\n",
    "        \"shirt_number\": 5,\n",
    "        \"position\": \"Defender\"\n",
    "      },\n",
    "      {\n",
    "        \"name\": \"Paul POGBA\",\n",
    "        \"captain\": False,\n",
    "        \"shirt_number\": 6,\n",
    "        \"position\": \"Midfield\"\n",
    "      },\n",
    "      {\n",
    "        \"name\": \"Antoine GRIEZMANN\",\n",
    "        \"captain\": False,\n",
    "        \"shirt_number\": 7,\n",
    "        \"position\": \"Forward\"\n",
    "      },\n",
    "      {\n",
    "        \"name\": \"Kylian MBAPPE\",\n",
    "        \"captain\": False,\n",
    "        \"shirt_number\": 10,\n",
    "        \"position\": \"Forward\"\n",
    "      },\n",
    "      {\n",
    "        \"name\": \"Ousmane DEMBELE\",\n",
    "        \"captain\": False,\n",
    "        \"shirt_number\": 11,\n",
    "        \"position\": \"Forward\"\n",
    "      },\n",
    "      {\n",
    "        \"name\": \"Corentin TOLISSO\",\n",
    "        \"captain\": False,\n",
    "        \"shirt_number\": 12,\n",
    "        \"position\": \"Midfield\"\n",
    "      },\n",
    "      {\n",
    "        \"name\": \"Ngolo KANTE\",\n",
    "        \"captain\": False,\n",
    "        \"shirt_number\": 13,\n",
    "        \"position\": \"Midfield\"\n",
    "      },\n",
    "      {\n",
    "        \"name\": \"Lucas HERNANDEZ\",\n",
    "        \"captain\": False,\n",
    "        \"shirt_number\": 21,\n",
    "        \"position\": \"Defender\"\n",
    "      }\n",
    "    ],\n",
    "  },\n",
    "  { \"home_team\": False,\n",
    "    \"away_team\": True,\n",
    "    \"country\": \"Australia\",\n",
    "    \"num_passes\": 390,\n",
    "    \"passes_completed\": 332,\n",
    "    \"fouls_committed\": 19,\n",
    "    \"colors\": [\"green\", \"gold\"],\n",
    "    \"players\": [\n",
    "      {\n",
    "        \"name\": \"Mathew RYAN\",\n",
    "        \"captain\": False,\n",
    "        \"shirt_number\": 1,\n",
    "        \"position\": \"Goalie\"\n",
    "      },\n",
    "      {\n",
    "        \"name\": \"Mark MILLIGAN\",\n",
    "        \"captain\": False,\n",
    "        \"shirt_number\": 5,\n",
    "        \"position\": \"Defender\"\n",
    "      },\n",
    "      {\n",
    "        \"name\": \"Mathew LECKIE\",\n",
    "        \"captain\": False,\n",
    "        \"shirt_number\": 7,\n",
    "        \"position\": \"Forward\"\n",
    "      },\n",
    "      {\n",
    "        \"name\": \"Robbie KRUSE\",\n",
    "        \"captain\": False,\n",
    "        \"shirt_number\": 10,\n",
    "        \"position\": \"Forward\"\n",
    "      },\n",
    "      {\n",
    "        \"name\": \"Andrew NABBOUT\",\n",
    "        \"captain\": False,\n",
    "        \"shirt_number\": 11,\n",
    "        \"position\": \"Forward\"\n",
    "      },\n",
    "      {\n",
    "        \"name\": \"Aaron MOOY\",\n",
    "        \"captain\": False,\n",
    "        \"shirt_number\": 13,\n",
    "        \"position\": \"Midfield\"\n",
    "      },\n",
    "      {\n",
    "        \"name\": \"Mile JEDINAK\",\n",
    "        \"captain\": True,\n",
    "        \"shirt_number\": 15,\n",
    "        \"position\": \"Midfield\"\n",
    "      },\n",
    "      {\n",
    "        \"name\": \"Aziz BEHICH\",\n",
    "        \"captain\": False,\n",
    "        \"shirt_number\": 16,\n",
    "        \"position\": \"Defender\"\n",
    "      },\n",
    "      {\n",
    "        \"name\": \"Joshua RISDON\",\n",
    "        \"captain\": False,\n",
    "        \"shirt_number\": 19,\n",
    "        \"position\": \"Defender\"\n",
    "      },\n",
    "      {\n",
    "        \"name\": \"Trent SAINSBURY\",\n",
    "        \"captain\": False,\n",
    "        \"shirt_number\": 20,\n",
    "        \"position\": \"Defender\"\n",
    "      },\n",
    "      {\n",
    "        \"name\": \"Tom ROGIC\",\n",
    "        \"captain\": False,\n",
    "        \"shirt_number\": 23,\n",
    "        \"position\": \"Midfield\"\n",
    "      }\n",
    "    ]\n",
    "  }\n",
    "]"
   ]
  },
  {
   "cell_type": "markdown",
   "id": "cf5b67c6",
   "metadata": {},
   "source": [
    "Let's take a look at some properties of this nested data structure:"
   ]
  },
  {
   "cell_type": "code",
   "execution_count": 59,
   "id": "6eb578b8",
   "metadata": {},
   "outputs": [
    {
     "name": "stdout",
     "output_type": "stream",
     "text": [
      "Information about soccer_match\n",
      "Type: <class 'list'>\n",
      "Length: 2\n",
      "\n",
      "Information about soccer_match[0]:\n",
      "Type: <class 'dict'>\n",
      "Length: 8\n",
      "Keys: dict_keys(['home_team', 'away_team', 'country', 'num_passes', 'passes_completed', 'fouls_committed', 'colors', 'players'])\n",
      "Values: dict_values([False, True, 'Australia', 390, 332, 19, ['green', 'gold'], [{'name': 'Mathew RYAN', 'captain': False, 'shirt_number': 1, 'position': 'Goalie'}, {'name': 'Mark MILLIGAN', 'captain': False, 'shirt_number': 5, 'position': 'Defender'}, {'name': 'Mathew LECKIE', 'captain': False, 'shirt_number': 7, 'position': 'Forward'}, {'name': 'Robbie KRUSE', 'captain': False, 'shirt_number': 10, 'position': 'Forward'}, {'name': 'Andrew NABBOUT', 'captain': False, 'shirt_number': 11, 'position': 'Forward'}, {'name': 'Aaron MOOY', 'captain': False, 'shirt_number': 13, 'position': 'Midfield'}, {'name': 'Mile JEDINAK', 'captain': True, 'shirt_number': 15, 'position': 'Midfield'}, {'name': 'Aziz BEHICH', 'captain': False, 'shirt_number': 16, 'position': 'Defender'}, {'name': 'Joshua RISDON', 'captain': False, 'shirt_number': 19, 'position': 'Defender'}, {'name': 'Trent SAINSBURY', 'captain': False, 'shirt_number': 20, 'position': 'Defender'}, {'name': 'Tom ROGIC', 'captain': False, 'shirt_number': 23, 'position': 'Midfield'}]])\n"
     ]
    }
   ],
   "source": [
    "# Run this cell without changes\n",
    "\n",
    "print(\"Information about soccer_match\")\n",
    "print(\"Type:\", type(soccer_match))\n",
    "print(\"Length:\", len(soccer_match))\n",
    "print()\n",
    "\n",
    "print(\"Information about soccer_match[0]:\")\n",
    "print(\"Type:\", type(soccer_match[0]))\n",
    "print(\"Length:\", len(soccer_match[0]))\n",
    "print(\"Keys:\", soccer_match[0].keys())\n",
    "print(\"Values:\", soccer_match[1].values())"
   ]
  },
  {
   "cell_type": "markdown",
   "id": "7ee24887",
   "metadata": {},
   "source": [
    "Before looking at the answer below, try to identify: what does soccer_match represent overall, and what does each record within soccer_match represent?\n",
    "\n",
    ".\n",
    "\n",
    ".\n",
    "\n",
    ".\n",
    "\n",
    "soccer_match represents a soccer match (game) containing a home team and an away team. Each record within soccer_match represents a team that participated in the match, and their associated stats.\n",
    "\n",
    "### Countries: A List of Strings\n",
    "In the cell below, iterate over the soccer_match list to create a new list with the name of the country for each team."
   ]
  },
  {
   "cell_type": "code",
   "execution_count": 60,
   "id": "f9546034",
   "metadata": {},
   "outputs": [
    {
     "data": {
      "text/plain": [
       "['France', 'Australia']"
      ]
     },
     "execution_count": 60,
     "metadata": {},
     "output_type": "execute_result"
    }
   ],
   "source": [
    "countries = []\n",
    "for team in soccer_match:\n",
    "    \n",
    "    countries.append(team['country'])\n",
    "# Your code here\n",
    "\n",
    "countries # ['France', 'Australia']"
   ]
  },
  {
   "cell_type": "markdown",
   "id": "d74b720d",
   "metadata": {},
   "source": [
    "## Colors: Another List of Strings!¶\n",
    "In the cell below, iterate over the soccer_match list to create a new list with the colors for each team.\n",
    "\n",
    "This should be only one list containing strings for each of the country's colors, not a list of lists."
   ]
  },
  {
   "cell_type": "code",
   "execution_count": 61,
   "id": "85cf068c",
   "metadata": {},
   "outputs": [
    {
     "data": {
      "text/plain": [
       "['blue', 'white', 'red', 'green', 'gold']"
      ]
     },
     "execution_count": 61,
     "metadata": {},
     "output_type": "execute_result"
    }
   ],
   "source": [
    "colors = []\n",
    "for team in soccer_match:\n",
    "    for color in team['colors']:\n",
    "        colors.append(color)    \n",
    "# Your code here\n",
    "\n",
    "colors # ['blue', 'white', 'red', 'green', 'gold']"
   ]
  },
  {
   "cell_type": "markdown",
   "id": "c21bc903",
   "metadata": {},
   "source": [
    "## Players: A List of Dictionaries\n",
    "This time, iterate over the soccer_match list to create a new list with the players from each team. players should be a single list containing the dictionaries for each of the country's players."
   ]
  },
  {
   "cell_type": "code",
   "execution_count": 62,
   "id": "dc6fc4c6",
   "metadata": {},
   "outputs": [
    {
     "name": "stdout",
     "output_type": "stream",
     "text": [
      "[{'name': 'Hugo LLORIS', 'captain': True, 'shirt_number': 1, 'position': 'Goalie'}, {'name': 'Benjamin PAVARD', 'captain': False, 'shirt_number': 2, 'position': 'Defender'}, {'name': 'Raphael VARANE', 'captain': False, 'shirt_number': 4, 'position': 'Defender'}, {'name': 'Samuel UMTITI', 'captain': False, 'shirt_number': 5, 'position': 'Defender'}, {'name': 'Paul POGBA', 'captain': False, 'shirt_number': 6, 'position': 'Midfield'}, {'name': 'Antoine GRIEZMANN', 'captain': False, 'shirt_number': 7, 'position': 'Forward'}, {'name': 'Kylian MBAPPE', 'captain': False, 'shirt_number': 10, 'position': 'Forward'}, {'name': 'Ousmane DEMBELE', 'captain': False, 'shirt_number': 11, 'position': 'Forward'}, {'name': 'Corentin TOLISSO', 'captain': False, 'shirt_number': 12, 'position': 'Midfield'}, {'name': 'Ngolo KANTE', 'captain': False, 'shirt_number': 13, 'position': 'Midfield'}, {'name': 'Lucas HERNANDEZ', 'captain': False, 'shirt_number': 21, 'position': 'Defender'}, {'name': 'Mathew RYAN', 'captain': False, 'shirt_number': 1, 'position': 'Goalie'}, {'name': 'Mark MILLIGAN', 'captain': False, 'shirt_number': 5, 'position': 'Defender'}, {'name': 'Mathew LECKIE', 'captain': False, 'shirt_number': 7, 'position': 'Forward'}, {'name': 'Robbie KRUSE', 'captain': False, 'shirt_number': 10, 'position': 'Forward'}, {'name': 'Andrew NABBOUT', 'captain': False, 'shirt_number': 11, 'position': 'Forward'}, {'name': 'Aaron MOOY', 'captain': False, 'shirt_number': 13, 'position': 'Midfield'}, {'name': 'Mile JEDINAK', 'captain': True, 'shirt_number': 15, 'position': 'Midfield'}, {'name': 'Aziz BEHICH', 'captain': False, 'shirt_number': 16, 'position': 'Defender'}, {'name': 'Joshua RISDON', 'captain': False, 'shirt_number': 19, 'position': 'Defender'}, {'name': 'Trent SAINSBURY', 'captain': False, 'shirt_number': 20, 'position': 'Defender'}, {'name': 'Tom ROGIC', 'captain': False, 'shirt_number': 23, 'position': 'Midfield'}]\n"
     ]
    }
   ],
   "source": [
    "players = []\n",
    "for team in soccer_match:\n",
    "    for player in team[\"players\"]:\n",
    "        players.append(player)\n",
    "\n",
    "# Your code here\n",
    "\n",
    "print(players) # [{'name': 'Hugo LLORIS', 'captain': True, 'shirt_number': 1, 'position': 'Goalie'}, {'name': 'Benjamin PAVARD',...}, ...]"
   ]
  },
  {
   "cell_type": "markdown",
   "id": "5f340d40",
   "metadata": {},
   "source": [
    "## Captains: Another List of Dictionaries!¶\n",
    "Iterate over the soccer_match list to create a new list with the captains from each team.\n",
    "\n",
    "This should be a single list containing the dictionaries for each of the countries' captains."
   ]
  },
  {
   "cell_type": "code",
   "execution_count": 63,
   "id": "837cf221",
   "metadata": {},
   "outputs": [
    {
     "data": {
      "text/plain": [
       "[{'name': 'Hugo LLORIS',\n",
       "  'captain': True,\n",
       "  'shirt_number': 1,\n",
       "  'position': 'Goalie'},\n",
       " {'name': 'Mile JEDINAK',\n",
       "  'captain': True,\n",
       "  'shirt_number': 15,\n",
       "  'position': 'Midfield'},\n",
       " {'name': 'Hugo LLORIS',\n",
       "  'captain': True,\n",
       "  'shirt_number': 1,\n",
       "  'position': 'Goalie'},\n",
       " {'name': 'Mile JEDINAK',\n",
       "  'captain': True,\n",
       "  'shirt_number': 15,\n",
       "  'position': 'Midfield'}]"
      ]
     },
     "execution_count": 63,
     "metadata": {},
     "output_type": "execute_result"
    }
   ],
   "source": [
    "captains = []\n",
    "for team in soccer_match:\n",
    "    for player in players:\n",
    "        if player['captain'] == True:\n",
    "            captains.append(player)\n",
    "# Your code here\n",
    "\n",
    "captains # One captain per team:\n",
    "# [{'name': 'Hugo LLORIS',\n",
    "#   'captain': True,\n",
    "#   'shirt_number': 1,\n",
    "#   'position': 'Goalie'},\n",
    "#  {'name': 'Mile JEDINAK',\n",
    "#   'captain': True,\n",
    "#   'shirt_number': 15,\n",
    "#   'position': 'Midfield'}]"
   ]
  },
  {
   "cell_type": "markdown",
   "id": "8be1cc4c",
   "metadata": {},
   "source": [
    "## Home Team Players: A Third List of Dictionaries¶\n",
    "Iterate over the soccer_match list to create a new list with the players from ONLY the home team.\n",
    "\n",
    "Do not \"hard-code\" which team this is; use the 'home_team' key."
   ]
  },
  {
   "cell_type": "code",
   "execution_count": 64,
   "id": "466c5783",
   "metadata": {},
   "outputs": [
    {
     "data": {
      "text/plain": [
       "[{'name': 'Hugo LLORIS',\n",
       "  'captain': True,\n",
       "  'shirt_number': 1,\n",
       "  'position': 'Goalie'},\n",
       " {'name': 'Benjamin PAVARD',\n",
       "  'captain': False,\n",
       "  'shirt_number': 2,\n",
       "  'position': 'Defender'},\n",
       " {'name': 'Raphael VARANE',\n",
       "  'captain': False,\n",
       "  'shirt_number': 4,\n",
       "  'position': 'Defender'},\n",
       " {'name': 'Samuel UMTITI',\n",
       "  'captain': False,\n",
       "  'shirt_number': 5,\n",
       "  'position': 'Defender'},\n",
       " {'name': 'Paul POGBA',\n",
       "  'captain': False,\n",
       "  'shirt_number': 6,\n",
       "  'position': 'Midfield'},\n",
       " {'name': 'Antoine GRIEZMANN',\n",
       "  'captain': False,\n",
       "  'shirt_number': 7,\n",
       "  'position': 'Forward'},\n",
       " {'name': 'Kylian MBAPPE',\n",
       "  'captain': False,\n",
       "  'shirt_number': 10,\n",
       "  'position': 'Forward'},\n",
       " {'name': 'Ousmane DEMBELE',\n",
       "  'captain': False,\n",
       "  'shirt_number': 11,\n",
       "  'position': 'Forward'},\n",
       " {'name': 'Corentin TOLISSO',\n",
       "  'captain': False,\n",
       "  'shirt_number': 12,\n",
       "  'position': 'Midfield'},\n",
       " {'name': 'Ngolo KANTE',\n",
       "  'captain': False,\n",
       "  'shirt_number': 13,\n",
       "  'position': 'Midfield'},\n",
       " {'name': 'Lucas HERNANDEZ',\n",
       "  'captain': False,\n",
       "  'shirt_number': 21,\n",
       "  'position': 'Defender'},\n",
       " {'name': 'Mathew RYAN',\n",
       "  'captain': False,\n",
       "  'shirt_number': 1,\n",
       "  'position': 'Goalie'},\n",
       " {'name': 'Mark MILLIGAN',\n",
       "  'captain': False,\n",
       "  'shirt_number': 5,\n",
       "  'position': 'Defender'},\n",
       " {'name': 'Mathew LECKIE',\n",
       "  'captain': False,\n",
       "  'shirt_number': 7,\n",
       "  'position': 'Forward'},\n",
       " {'name': 'Robbie KRUSE',\n",
       "  'captain': False,\n",
       "  'shirt_number': 10,\n",
       "  'position': 'Forward'},\n",
       " {'name': 'Andrew NABBOUT',\n",
       "  'captain': False,\n",
       "  'shirt_number': 11,\n",
       "  'position': 'Forward'},\n",
       " {'name': 'Aaron MOOY',\n",
       "  'captain': False,\n",
       "  'shirt_number': 13,\n",
       "  'position': 'Midfield'},\n",
       " {'name': 'Mile JEDINAK',\n",
       "  'captain': True,\n",
       "  'shirt_number': 15,\n",
       "  'position': 'Midfield'},\n",
       " {'name': 'Aziz BEHICH',\n",
       "  'captain': False,\n",
       "  'shirt_number': 16,\n",
       "  'position': 'Defender'},\n",
       " {'name': 'Joshua RISDON',\n",
       "  'captain': False,\n",
       "  'shirt_number': 19,\n",
       "  'position': 'Defender'},\n",
       " {'name': 'Trent SAINSBURY',\n",
       "  'captain': False,\n",
       "  'shirt_number': 20,\n",
       "  'position': 'Defender'},\n",
       " {'name': 'Tom ROGIC',\n",
       "  'captain': False,\n",
       "  'shirt_number': 23,\n",
       "  'position': 'Midfield'}]"
      ]
     },
     "execution_count": 64,
     "metadata": {},
     "output_type": "execute_result"
    }
   ],
   "source": [
    "home_team_players = []\n",
    "for team in soccer_match:\n",
    "    if team['home_team'] == True:\n",
    "        for player in players:\n",
    "            home_team_players.append(player)\n",
    "# Your code here\n",
    "\n",
    "home_team_players\n",
    "\n",
    "# [{'name': 'Hugo LLORIS',\n",
    "#   'captain': True,\n",
    "#   'shirt_number': 1,\n",
    "#   'position': 'Goalie'},\n",
    "#  ...\n",
    "#  {'name': 'Lucas HERNANDEZ',\n",
    "#   'captain': False,\n",
    "#   'shirt_number': 21,\n",
    "#   'position': 'Defender'}]"
   ]
  },
  {
   "cell_type": "markdown",
   "id": "ad161f57",
   "metadata": {},
   "source": [
    "## Away Team Forwards: Yup, a List of Dictionaries¶\n",
    "Iterate over the soccer_match list to create a new list with the information for each of the away team players whose position is \"Forward\"."
   ]
  },
  {
   "cell_type": "code",
   "execution_count": 65,
   "id": "86345f9a",
   "metadata": {},
   "outputs": [
    {
     "data": {
      "text/plain": [
       "[{'name': 'Mathew LECKIE',\n",
       "  'captain': False,\n",
       "  'shirt_number': 7,\n",
       "  'position': 'Forward'},\n",
       " {'name': 'Robbie KRUSE',\n",
       "  'captain': False,\n",
       "  'shirt_number': 10,\n",
       "  'position': 'Forward'},\n",
       " {'name': 'Andrew NABBOUT',\n",
       "  'captain': False,\n",
       "  'shirt_number': 11,\n",
       "  'position': 'Forward'}]"
      ]
     },
     "execution_count": 65,
     "metadata": {},
     "output_type": "execute_result"
    }
   ],
   "source": [
    "away_team_forwards = []\n",
    "for team in soccer_match:\n",
    "    if team['away_team']:\n",
    "        for player in team['players']:\n",
    "            if player['position'] == 'Forward':\n",
    "                away_team_forwards.append(player)\n",
    "    \n",
    "# Your code here\n",
    "\n",
    "away_team_forwards\n",
    "# [{'name': 'Mathew LECKIE',\n",
    "#   'captain': False,\n",
    "#   'shirt_number': 7,\n",
    "#   'position': 'Forward'},\n",
    "#  {'name': 'Robbie KRUSE',\n",
    "#   'captain': False,\n",
    "#   'shirt_number': 10,\n",
    "#   'position': 'Forward'},\n",
    "#  {'name': 'Andrew NABBOUT',\n",
    "#   'captain': False,\n",
    "#   'shirt_number': 11,\n",
    "#   'position': 'Forward'}]"
   ]
  },
  {
   "cell_type": "markdown",
   "id": "a4bc1b8e",
   "metadata": {},
   "source": [
    "## Player with the Highest Number¶\n",
    "Iterate over the soccer_match list and find the player with the highest shirt_number.\n",
    "Store this player's information in the player_with_highest_num variable."
   ]
  },
  {
   "cell_type": "code",
   "execution_count": 66,
   "id": "b62b7b9e",
   "metadata": {},
   "outputs": [
    {
     "data": {
      "text/plain": [
       "{'name': 'Tom ROGIC',\n",
       " 'captain': False,\n",
       " 'shirt_number': 23,\n",
       " 'position': 'Midfield'}"
      ]
     },
     "execution_count": 66,
     "metadata": {},
     "output_type": "execute_result"
    }
   ],
   "source": [
    "player_with_highest_num = None\n",
    "for team in soccer_match:\n",
    "    for player in team['players']:\n",
    "       if not player_with_highest_num or player_with_highest_num['shirt_number'] < player['shirt_number']:\n",
    "            player_with_highest_num = player\n",
    "\n",
    "# Your code here\n",
    "\n",
    "player_with_highest_num\n",
    "# {'name': 'Tom ROGIC',\n",
    "#  'captain': False,\n",
    "#  'shirt_number': 23,\n",
    "#  'position': 'Midfield'}"
   ]
  },
  {
   "cell_type": "markdown",
   "id": "aab2e57a",
   "metadata": {},
   "source": [
    "## Player Names: A Cleaned List\n",
    "Notice that the players oddly have their last names in all caps. Create a list of all the names of the players in this match. Be sure to make sure their first and last names are properly capitalized (first letter upper case, proceeding letters lower case), as opposed to how they are currently formatted."
   ]
  },
  {
   "cell_type": "code",
   "execution_count": 67,
   "id": "c9beb173",
   "metadata": {},
   "outputs": [
    {
     "data": {
      "text/plain": [
       "['Hugo Lloris',\n",
       " 'Benjamin Pavard',\n",
       " 'Raphael Varane',\n",
       " 'Samuel Umtiti',\n",
       " 'Paul Pogba',\n",
       " 'Antoine Griezmann',\n",
       " 'Kylian Mbappe',\n",
       " 'Ousmane Dembele',\n",
       " 'Corentin Tolisso',\n",
       " 'Ngolo Kante',\n",
       " 'Lucas Hernandez',\n",
       " 'Mathew Ryan',\n",
       " 'Mark Milligan',\n",
       " 'Mathew Leckie',\n",
       " 'Robbie Kruse',\n",
       " 'Andrew Nabbout',\n",
       " 'Aaron Mooy',\n",
       " 'Mile Jedinak',\n",
       " 'Aziz Behich',\n",
       " 'Joshua Risdon',\n",
       " 'Trent Sainsbury',\n",
       " 'Tom Rogic']"
      ]
     },
     "execution_count": 67,
     "metadata": {},
     "output_type": "execute_result"
    }
   ],
   "source": [
    "player_names = []\n",
    "for team in soccer_match:\n",
    "    for player in team['players']:\n",
    "        player_names.append(player.get('name').title())\n",
    "        \n",
    "\n",
    "# Your code here\n",
    "\n",
    "player_names\n",
    "# ['Hugo Lloris',\n",
    "#  'Benjamin Pavard',\n",
    "#  'Raphael Varane',\n",
    "#  'Samuel Umtiti',\n",
    "#  'Paul Pogba',\n",
    "#  'Antoine Griezmann',\n",
    "#  'Kylian Mbappe',\n",
    "#  'Ousmane Dembele',\n",
    "#  'Corentin Tolisso',\n",
    "#  'Ngolo Kante',\n",
    "#  'Lucas Hernandez',\n",
    "#  'Mathew Ryan',\n",
    "#  'Mark Milligan',\n",
    "#  'Mathew Leckie',\n",
    "#  'Robbie Kruse',\n",
    "#  'Andrew Nabbout',\n",
    "#  'Aaron Mooy',\n",
    "#  'Mile Jedinak',\n",
    "#  'Aziz Behich',\n",
    "#  'Joshua Risdon',\n",
    "#  'Trent Sainsbury',\n",
    "#  'Tom Rogic']"
   ]
  },
  {
   "cell_type": "markdown",
   "id": "02a875c3",
   "metadata": {},
   "source": [
    "## Summary\n",
    "In this lab, you practiced using nested loops to iterate through a nested data structure using data from a soccer match. Nested data structures can be quite complicated and it can become difficult to access more nested data. With nested loops, you are able to dynamically access this nested data and work with it as you would with a flatter data structure. It is important to think about the structure of the data before and while you're working so you know exactly what data you are working with at each level."
   ]
  },
  {
   "cell_type": "markdown",
   "id": "734d2508",
   "metadata": {},
   "source": [
    "# Creating Functions\n",
    "## Introduction\n",
    "Now that we learned about loops, it would be nice to have the ability to reuse our code to help us solve different problems. Functions allow us to do just that. They also give us the ability to name a sequence of operations (or block of code), thus making our code expressive. Let's see how this works, and why something like this is useful."
   ]
  },
  {
   "cell_type": "markdown",
   "id": "28802317",
   "metadata": {},
   "source": [
    "Imagine that we have a group of employees who have just joined our company."
   ]
  },
  {
   "cell_type": "code",
   "execution_count": 68,
   "id": "f41cf376",
   "metadata": {},
   "outputs": [],
   "source": [
    "new_employees = ['jim', 'tracy', 'lisa']"
   ]
  },
  {
   "cell_type": "markdown",
   "id": "0b21f5a7",
   "metadata": {},
   "source": [
    "We want to send each of them a nice welcome message. We could use a for loop to create a list of welcome_messages."
   ]
  },
  {
   "cell_type": "code",
   "execution_count": 69,
   "id": "7ff29dbc",
   "metadata": {},
   "outputs": [
    {
     "data": {
      "text/plain": [
       "[\"Hi Jim, I'm so glad to be working with you!\",\n",
       " \"Hi Tracy, I'm so glad to be working with you!\",\n",
       " \"Hi Lisa, I'm so glad to be working with you!\"]"
      ]
     },
     "execution_count": 69,
     "metadata": {},
     "output_type": "execute_result"
    }
   ],
   "source": [
    "welcome_messages = []\n",
    "for new_employee in new_employees:\n",
    "    welcome_messages.append(\"Hi \" + new_employee.title() + \", I'm so glad to be working with you!\" )\n",
    "\n",
    "welcome_messages"
   ]
  },
  {
   "cell_type": "markdown",
   "id": "fe13dc0b",
   "metadata": {},
   "source": [
    "Then a couple of weeks later, a few more employees join, and we want to send messages to them as well."
   ]
  },
  {
   "cell_type": "code",
   "execution_count": 70,
   "id": "43a86a95",
   "metadata": {},
   "outputs": [],
   "source": [
    "new_employees = ['steven', 'jan', 'meryl']"
   ]
  },
  {
   "cell_type": "markdown",
   "id": "72bc30ad",
   "metadata": {},
   "source": [
    "Well to accomplish welcoming the new employees, we would likely copy our code from above"
   ]
  },
  {
   "cell_type": "code",
   "execution_count": 71,
   "id": "1cc3d4e9",
   "metadata": {},
   "outputs": [
    {
     "data": {
      "text/plain": [
       "[\"Hi Steven, I'm so glad to be working with you!\",\n",
       " \"Hi Jan, I'm so glad to be working with you!\",\n",
       " \"Hi Meryl, I'm so glad to be working with you!\"]"
      ]
     },
     "execution_count": 71,
     "metadata": {},
     "output_type": "execute_result"
    }
   ],
   "source": [
    "welcome_messages = []\n",
    "for new_employee in new_employees:\n",
    "    welcome_messages.append(\"Hi \" + new_employee.title() + \", I'm so glad to be working with you!\" )\n",
    "    \n",
    "welcome_messages"
   ]
  },
  {
   "cell_type": "markdown",
   "id": "d6f0d31c",
   "metadata": {},
   "source": [
    "If each time we wanted to reuse code we would have to copy and paste the code and maintain a lot more code than is necessary. Also, each time we recopied it is another opportunity to make a mistake. So what if there was a way to write that code just one time, yet be able to execute that code wherever and whenever we want? Functions allow us to do just that.\n",
    "\n",
    "Here is that same code wrapped in a function:"
   ]
  },
  {
   "cell_type": "code",
   "execution_count": 72,
   "id": "c3c3516e",
   "metadata": {},
   "outputs": [],
   "source": [
    "def greet_employees():\n",
    "    welcome_messages = []\n",
    "    for new_employee in new_employees:\n",
    "        welcome_messages.append(\"Hi \" + new_employee.title() + \", I'm so glad to be working with you!\" )\n",
    "\n",
    "    return welcome_messages"
   ]
  },
  {
   "cell_type": "code",
   "execution_count": 73,
   "id": "8fe286d1",
   "metadata": {},
   "outputs": [
    {
     "data": {
      "text/plain": [
       "[\"Hi Steven, I'm so glad to be working with you!\",\n",
       " \"Hi Jan, I'm so glad to be working with you!\",\n",
       " \"Hi Meryl, I'm so glad to be working with you!\"]"
      ]
     },
     "execution_count": 73,
     "metadata": {},
     "output_type": "execute_result"
    }
   ],
   "source": [
    "greet_employees()"
   ]
  },
  {
   "cell_type": "markdown",
   "id": "7eb4cbb4",
   "metadata": {},
   "source": [
    "There are two steps to using a function: defining a function and executing a function. Defining a function happens first, and afterward when we call greet_employees() we execute the function."
   ]
  },
  {
   "cell_type": "code",
   "execution_count": 74,
   "id": "aaca12b5",
   "metadata": {},
   "outputs": [
    {
     "data": {
      "text/plain": [
       "[\"Hi Jan, I'm so glad to be working with you!\",\n",
       " \"Hi Joe, I'm so glad to be working with you!\",\n",
       " \"Hi Avi, I'm so glad to be working with you!\"]"
      ]
     },
     "execution_count": 74,
     "metadata": {},
     "output_type": "execute_result"
    }
   ],
   "source": [
    "new_employees = ['Jan', 'Joe', 'Avi']\n",
    "greet_employees()"
   ]
  },
  {
   "cell_type": "markdown",
   "id": "4ae805dd",
   "metadata": {},
   "source": [
    "Ok, let's break down how to define, or declare, a function. Executing a function is fairly simple, just type the function's name followed by parentheses."
   ]
  },
  {
   "cell_type": "code",
   "execution_count": 75,
   "id": "3f43dee6",
   "metadata": {},
   "outputs": [
    {
     "data": {
      "text/plain": [
       "[\"Hi Jan, I'm so glad to be working with you!\",\n",
       " \"Hi Joe, I'm so glad to be working with you!\",\n",
       " \"Hi Avi, I'm so glad to be working with you!\"]"
      ]
     },
     "execution_count": 75,
     "metadata": {},
     "output_type": "execute_result"
    }
   ],
   "source": [
    "greet_employees()"
   ]
  },
  {
   "cell_type": "markdown",
   "id": "73228314",
   "metadata": {},
   "source": [
    "## Declaring and using functions¶\n",
    "There are two components to declaring a function: the function signature and the function body."
   ]
  },
  {
   "cell_type": "code",
   "execution_count": 76,
   "id": "2de6616d",
   "metadata": {},
   "outputs": [],
   "source": [
    "def name_of_function(): # signature\n",
    "    words = 'function body' # body\n",
    "    print(words) # body"
   ]
  },
  {
   "cell_type": "markdown",
   "id": "32fcaa56",
   "metadata": {},
   "source": [
    "## Function Signature\n",
    "The function signature is the first line of the function. It follows the pattern of def, function name, parentheses, colon.\n",
    "\n",
    "def name_of_function():\n",
    "\n",
    "The def is there to tell Python that you are about to declare a function. The name of the function indicates how to reference and execute the function later. The colon is to end the function signature and indicate that the body of the function is next. The parentheses are important as well, and we'll explain their use in a later lesson.\n",
    "\n",
    "## Function Body\n",
    "The body of the function is what the function does. This is the code that runs each time we execute the function. We indicate that we are writing the function body by going to the next line and indenting after the colon. To complete the function body we stop indenting."
   ]
  },
  {
   "cell_type": "code",
   "execution_count": 77,
   "id": "9303bdac",
   "metadata": {},
   "outputs": [],
   "source": [
    "def name_of_function(): \n",
    "    words = 'function body' # function body\n",
    "    print(words) # function body    \n",
    "# no longer part of the function body"
   ]
  },
  {
   "cell_type": "markdown",
   "id": "63939f20",
   "metadata": {},
   "source": [
    "Let's execute the name_of_function() function."
   ]
  },
  {
   "cell_type": "code",
   "execution_count": 78,
   "id": "53a0625e",
   "metadata": {},
   "outputs": [
    {
     "name": "stdout",
     "output_type": "stream",
     "text": [
      "function body\n"
     ]
    }
   ],
   "source": [
    "name_of_function()"
   ]
  },
  {
   "cell_type": "markdown",
   "id": "3067e26f",
   "metadata": {},
   "source": [
    "Did it work? Kinda. The lines of our function were run. But our function did not return anything. Functions are designed so that everything inside of them stays inside. So for example, even though we declared the words variable, words is not available from outside of the function."
   ]
  },
  {
   "cell_type": "code",
   "execution_count": 79,
   "id": "8628e8db",
   "metadata": {},
   "outputs": [
    {
     "ename": "NameError",
     "evalue": "name 'words' is not defined",
     "output_type": "error",
     "traceback": [
      "\u001b[1;31m---------------------------------------------------------------------------\u001b[0m",
      "\u001b[1;31mNameError\u001b[0m                                 Traceback (most recent call last)",
      "\u001b[1;32m~\\AppData\\Local\\Temp/ipykernel_12608/2660519150.py\u001b[0m in \u001b[0;36m<module>\u001b[1;34m\u001b[0m\n\u001b[1;32m----> 1\u001b[1;33m \u001b[0mwords\u001b[0m\u001b[1;33m\u001b[0m\u001b[1;33m\u001b[0m\u001b[0m\n\u001b[0m",
      "\u001b[1;31mNameError\u001b[0m: name 'words' is not defined"
     ]
    }
   ],
   "source": [
    "words"
   ]
  },
  {
   "cell_type": "markdown",
   "id": "4d3167f0",
   "metadata": {},
   "source": [
    "To get something out of the function, we must use the return keyword, followed by what we would like to return. Let's declare another function called other_function() that has a body which is exactly the same, but has a return statement."
   ]
  },
  {
   "cell_type": "code",
   "execution_count": null,
   "id": "573a5c24",
   "metadata": {},
   "outputs": [],
   "source": [
    "def other_function(): # signature\n",
    "    words = 'returned from inside the function body' # body\n",
    "    return words"
   ]
  },
  {
   "cell_type": "code",
   "execution_count": null,
   "id": "085fe472",
   "metadata": {},
   "outputs": [],
   "source": [
    "other_function()"
   ]
  },
  {
   "cell_type": "markdown",
   "id": "720b7758",
   "metadata": {},
   "source": [
    "Much better. So with the return statement we returned the string 'returned from inside the function body'."
   ]
  },
  {
   "cell_type": "markdown",
   "id": "b24da944",
   "metadata": {},
   "source": [
    "## See it again¶\n",
    "Now let's identify the function signature and function body of our original function, greet_empoyees()."
   ]
  },
  {
   "cell_type": "code",
   "execution_count": null,
   "id": "fe126f78",
   "metadata": {},
   "outputs": [],
   "source": [
    "def greet_employees(): # function signature\n",
    "    welcome_messages = [] # begin function body\n",
    "    for new_employee in new_employees:\n",
    "        welcome_messages.append(\"Hi \" + new_employee.title() + \", I'm so glad to be working with you!\" )\n",
    "\n",
    "    return welcome_messages # return statement\n",
    "\n",
    "# no longer in function body"
   ]
  },
  {
   "cell_type": "markdown",
   "id": "e163187e",
   "metadata": {},
   "source": [
    "As you can see, greet_employees() has the same components of a function we identified earlier: the function signature, the function body, and the return statement. Each time we call, greet_employees(), all of the lines in the body of the function are run. However, only the return value is accessible from outside of the function."
   ]
  },
  {
   "cell_type": "code",
   "execution_count": null,
   "id": "b1dbe3f2",
   "metadata": {},
   "outputs": [],
   "source": [
    "greet_employees()"
   ]
  },
  {
   "cell_type": "markdown",
   "id": "93737ba1",
   "metadata": {},
   "source": [
    "## Summary\n",
    "In this lesson we saw how using a function allows us to reuse code without rewriting it. We saw that to declare a function we first write the function signature, which consists of the def keyword, the function name, parentheses, and a colon. We indicate the body of the function by indenting our code and then writing the code that our function will execute. To execute the function, we write the function's name followed by parentheses. Executing the function will run the lines in the body of the function."
   ]
  },
  {
   "cell_type": "markdown",
   "id": "4fe44186",
   "metadata": {},
   "source": [
    "## Instructions:\n",
    "\n",
    "### Writing our first functions\n",
    "\n",
    "Imagine we are creating a list of travel destinations -- which can really turn out to be a full time job if we like to travel. We have our list of travel_destinations which we assign below. Write a \n",
    "function called number_of_destinations() that returns the number of destinations we have on our list."
   ]
  },
  {
   "cell_type": "code",
   "execution_count": null,
   "id": "640cd891",
   "metadata": {},
   "outputs": [],
   "source": [
    "travel_destinations = ['argentina', 'mexico', 'italy', 'finland', 'canada', 'croatia']\n",
    "# define function here\n",
    "def number_of_destinations():\n",
    "    return len(travel_destinations)"
   ]
  },
  {
   "cell_type": "code",
   "execution_count": null,
   "id": "156d9e20",
   "metadata": {},
   "outputs": [],
   "source": [
    "number_of_destinations()"
   ]
  },
  {
   "cell_type": "markdown",
   "id": "b3d6d5e9",
   "metadata": {},
   "source": [
    "Now write another function called next_up() that returns our first destination (the destination with the lowest index), in the list_of_destinations list."
   ]
  },
  {
   "cell_type": "code",
   "execution_count": null,
   "id": "8185d2c4",
   "metadata": {},
   "outputs": [],
   "source": [
    "# define function here\n",
    "def next_up():\n",
    "    first_destination = list_of_destinations[0]\n",
    "    return(first_destination)"
   ]
  },
  {
   "cell_type": "markdown",
   "id": "f80345ff",
   "metadata": {},
   "source": [
    "Next, run your new function"
   ]
  },
  {
   "cell_type": "code",
   "execution_count": null,
   "id": "543a178b",
   "metadata": {},
   "outputs": [],
   "source": [
    "list_of_destinations = ['argentina', 'canada', 'croatia']\n",
    "# Your code here \n",
    "next_up()\n",
    "# Expected output:'argentina'"
   ]
  },
  {
   "cell_type": "markdown",
   "id": "afd4dfb9",
   "metadata": {},
   "source": [
    "Ok, now write a function called favorite_destination() that returns the string 'madagascar'."
   ]
  },
  {
   "cell_type": "code",
   "execution_count": null,
   "id": "a2d6a3d5",
   "metadata": {},
   "outputs": [],
   "source": [
    "# define function here\n",
    "def favorite_destination():\n",
    "    favorite_destination = 'madagascar'\n",
    "    return(favorite_destination)"
   ]
  },
  {
   "cell_type": "markdown",
   "id": "345dd9c7",
   "metadata": {},
   "source": [
    "Next, run your new function"
   ]
  },
  {
   "cell_type": "code",
   "execution_count": null,
   "id": "73530ddc",
   "metadata": {},
   "outputs": [],
   "source": [
    "# Your code here\n",
    "favorite_destination()\n",
    "# Expected output:'madagascar'"
   ]
  },
  {
   "cell_type": "markdown",
   "id": "5cebfaad",
   "metadata": {},
   "source": [
    "Again, let's declare a list called `favorite_destinations`. Write a new function called `add_favorite_destination()` that adds the string `'madagascar'` to the end of `favorite_destinations` and also returns the string `'madagascar'`."
   ]
  },
  {
   "cell_type": "code",
   "execution_count": null,
   "id": "3c255b9b",
   "metadata": {},
   "outputs": [],
   "source": [
    "def add_favorite_destination():\n",
    "    favorite_destinations.append(favorite_destination())\n",
    "    return favorite_destination()"
   ]
  },
  {
   "cell_type": "code",
   "execution_count": null,
   "id": "deb688fb",
   "metadata": {},
   "outputs": [],
   "source": [
    "favorite_destinations = ['argentina', 'mexico', 'italy', 'finland', 'canada', 'croatia']\n",
    "\n",
    "# Your code here \n",
    "add_favorite_destination()\n",
    "\n",
    "favorite_destinations[-1] "
   ]
  },
  {
   "cell_type": "markdown",
   "id": "7b94a8f7",
   "metadata": {},
   "source": [
    "Now let's write another function called capitalize_countries() which iterates through the list of capitalized_destinations and capitalizes the first letter of each word. It should return a list of capitalized destinations.\n"
   ]
  },
  {
   "cell_type": "code",
   "execution_count": null,
   "id": "2affaded",
   "metadata": {},
   "outputs": [],
   "source": [
    "capitalized_destinations = ['argentina', 'mexico', 'italy', 'finland', 'canada', 'croatia']\n",
    "# define function here\n",
    "def capitalize_countries():\n",
    "    new_list = []\n",
    "    for country in capitalized_destinations:\n",
    "        new_list.append(country.capitalize())\n",
    "    return new_list"
   ]
  },
  {
   "cell_type": "markdown",
   "id": "ddc8ba24",
   "metadata": {},
   "source": [
    "Next, run your new function"
   ]
  },
  {
   "cell_type": "code",
   "execution_count": null,
   "id": "d41f60a3",
   "metadata": {},
   "outputs": [],
   "source": [
    "# Your code here\n",
    "capitalize_countries() # ['Argentina', 'Mexico', 'Italy', 'Finland', 'Canada', 'Croatia']"
   ]
  },
  {
   "cell_type": "markdown",
   "id": "20f74df8",
   "metadata": {},
   "source": [
    "Great! Now if someone adds a country that is lowercased to our list of destinations, we can simply call our function again to capitalize each of the destinations in the list.\n",
    "\n",
    "## Summary\n",
    "Great job! In this lab we were able to get practice both creating and returning values from functions."
   ]
  },
  {
   "cell_type": "markdown",
   "id": "219dc8df",
   "metadata": {},
   "source": [
    "## Functions with Arguments"
   ]
  },
  {
   "cell_type": "markdown",
   "id": "61db0fdc",
   "metadata": {},
   "source": [
    "\n",
    "## Introduction\n",
    "Function arguments are a powerful tool in programming.  As we'll see, arguments make our functions more flexible and reusable by explicitly allowing different inputs to be used in a function and changing the output of the function based on these inputs.\n",
    "\n",
    "When used correctly, function arguments bring clarity to what inputs a function needs to operate, as well as how a function uses these inputs.  \n",
    "\n",
    "## Objectives\n",
    "\n",
    "You will be able to:\n",
    "\n",
    "* Declare and use a function with arguments\n",
    "\n",
    "### Predictability with arguments\n",
    "\n",
    "In the previous lesson, we saw that functions were a powerful tool.  They allow us to repeat operations and apply these operations to different data.  For example, take a look at a function called `meet_traveller()`."
   ]
  },
  {
   "cell_type": "code",
   "execution_count": null,
   "id": "a2f356f4",
   "metadata": {},
   "outputs": [],
   "source": [
    "def meet_traveller():\n",
    "    welcome_message = (\"Hi\"+ traveller.title() + \", I'm so glad we'll be going on the trip together!\")\n",
    "    return welcome_message # return statement"
   ]
  },
  {
   "cell_type": "markdown",
   "id": "44f307e3",
   "metadata": {},
   "source": [
    "The meet_traveller() function is designed to generate nice greetings to each new employee. Do we need anything else to run the function? How do we know which new employee the function will greet? Let's run the function and see what happens."
   ]
  },
  {
   "cell_type": "code",
   "execution_count": null,
   "id": "5e4cee1f",
   "metadata": {},
   "outputs": [],
   "source": [
    "meet_traveller()"
   ]
  },
  {
   "cell_type": "markdown",
   "id": "0b4a2239",
   "metadata": {},
   "source": [
    "The function requires the variable `traveller`, but it's hard to tell that before running the function.  When code requires something to work, we call that something a **dependency**. Below, our function `meet()` depends on a global variable named `traveller` being provided, otherwise it will not work and we'll get the `NameError` we see above. \n",
    "Ideally, our function's dependencies would be more explicit than in our `meet_traveller()` function.  Let's adapt this function to make its dependencies more explicit."
   ]
  },
  {
   "cell_type": "code",
   "execution_count": null,
   "id": "95f6c3ec",
   "metadata": {},
   "outputs": [],
   "source": [
    "def meet(traveller):\n",
    "    welcome_message = (\"Hi \"+ traveller.title() + \", I'm so glad we'll be going on the trip together!\")\n",
    "    return welcome_message"
   ]
  },
  {
   "cell_type": "code",
   "execution_count": null,
   "id": "ae36d0f9",
   "metadata": {},
   "outputs": [],
   "source": [
    "meet(traveller)()"
   ]
  },
  {
   "cell_type": "markdown",
   "id": "5b5aa7e3",
   "metadata": {},
   "source": [
    "Ok, in the code above we changed the first line of the function, the function signature, to the following:\n",
    "\n",
    "```def meet(traveller): ```"
   ]
  },
  {
   "cell_type": "markdown",
   "id": "8f874cda",
   "metadata": {},
   "source": [
    "This tells us, and Python, to not even run the code unless the proper data is provided to our function.  Let's see what this means by calling the function **without** its argument."
   ]
  },
  {
   "cell_type": "code",
   "execution_count": null,
   "id": "258834ed",
   "metadata": {},
   "outputs": [],
   "source": [
    "meet()"
   ]
  },
  {
   "cell_type": "markdown",
   "id": "c237b6b7",
   "metadata": {},
   "source": [
    "Do you see that error message at the bottom there?  It's pretty explicit about saying that this function requires a positional argument named `traveller`.  \n",
    "\n",
    "So, by using an argument, the function signature tells us how to run this function.  We refer to the function by its name and then pass through a string representing the `traveller`."
   ]
  },
  {
   "cell_type": "code",
   "execution_count": null,
   "id": "a746b46f",
   "metadata": {},
   "outputs": [],
   "source": [
    "meet('sally')"
   ]
  },
  {
   "cell_type": "markdown",
   "id": "400217dc",
   "metadata": {},
   "source": [
    "> **Note:** Before we move on, it is important to note the difference between an **argument** and a **parameter**. We will see these terms **a lot** going forward and having a clear understanding of them is imperative. An **argument** is the data that we pass to a function before execution (i.e. `'sally'` in the example above). However, a **parameter** is the variable we define in the *function signature* (i.e. `traveller` in the example above). So, these two are very similar, but the difference comes down to whether we are talking about the variable we are using in the function *signature* or the actual data we are using when we *execute* the function later. "
   ]
  },
  {
   "cell_type": "markdown",
   "id": "e1cd4a9a",
   "metadata": {},
   "source": [
    "## Flexibility\n",
    "\n",
    "Let's take another look at the `meet()` function. Notice, that the argument operates like a variable in that we can easily alter the data that `traveller` points to. When we pass through the string, `'Sally'`, the function replaces `traveller` with the string `'Sally'`.  "
   ]
  },
  {
   "cell_type": "code",
   "execution_count": null,
   "id": "9489f9e9",
   "metadata": {},
   "outputs": [],
   "source": [
    "def meet(traveller): \n",
    "                              # \"sally\"\n",
    "    welcome_message = \"Hi \" + traveller.title() + \", I'm so glad we'll be going on the trip together!\"\n",
    "    return welcome_message"
   ]
  },
  {
   "cell_type": "markdown",
   "id": "48227369",
   "metadata": {},
   "source": [
    "And we can easily change what `traveller` points to just by passing through a different string."
   ]
  },
  {
   "cell_type": "code",
   "execution_count": null,
   "id": "3323d02e",
   "metadata": {},
   "outputs": [],
   "source": [
    "meet('fred')"
   ]
  },
  {
   "cell_type": "markdown",
   "id": "d096cd54",
   "metadata": {},
   "source": [
    "But notice that the `traveller` argument is only accessible just inside of the function."
   ]
  },
  {
   "cell_type": "code",
   "execution_count": null,
   "id": "bd5761dd",
   "metadata": {},
   "outputs": [],
   "source": [
    "traveller"
   ]
  },
  {
   "cell_type": "markdown",
   "id": "8a63f962",
   "metadata": {},
   "source": [
    "So by using arguments, we can easily see what a function requires to work, change the output by passing through different data to the function, and ensure that we only have to worry about what our argument is while inside that function. \n",
    "\n",
    "Now, we can use functions with arguments to do a lot more than just make some strings more dynamic. Let's say we have a math operation that we need to perform over and over. Let's say, the mean of a list of numbers. We could define a function named `find_the_mean()` that takes in a list and returns a number representing the mean from the list."
   ]
  },
  {
   "cell_type": "code",
   "execution_count": null,
   "id": "a06127ba",
   "metadata": {},
   "outputs": [],
   "source": [
    "def find_the_mean(list_nums):\n",
    "    lenght = len(list_nums)\n",
    "    total = sum(list_nums)\n",
    "    return total/lenght"
   ]
  },
  {
   "cell_type": "code",
   "execution_count": null,
   "id": "bad37568",
   "metadata": {},
   "outputs": [],
   "source": [
    "find_the_mean(([1,2,3,4,5,6,7,8,9,10]))"
   ]
  },
  {
   "cell_type": "markdown",
   "id": "b57ccaa2",
   "metadata": {},
   "source": [
    "Now let's imagine we are looking at a list of populations in a given state or region. Perhaps we would even like to get these numbers in order to compare the mean populations of different areas."
   ]
  },
  {
   "cell_type": "code",
   "execution_count": null,
   "id": "5590b467",
   "metadata": {},
   "outputs": [],
   "source": [
    "area_one_pops = [10453, 12383, 8034, 800835, 76434, 32394]\n",
    "find_the_mean(area_one_pops)"
   ]
  },
  {
   "cell_type": "code",
   "execution_count": null,
   "id": "debed0c0",
   "metadata": {},
   "outputs": [],
   "source": [
    "area_two_pops = [43845, 54930, 59354, 96403, 73492, 729320]\n",
    "find_the_mean(area_two_pops)"
   ]
  },
  {
   "cell_type": "markdown",
   "id": "fc75dc5a",
   "metadata": {},
   "source": [
    "Great, so, we can *definitely* find the mean from lists of population. What if we would like to return the list that has the largest mean population? We could write a function that takes **2** arguments that are lists and returns the list that has the greatest mean."
   ]
  },
  {
   "cell_type": "code",
   "execution_count": null,
   "id": "2f11ee54",
   "metadata": {},
   "outputs": [],
   "source": [
    "import numpy as np"
   ]
  },
  {
   "cell_type": "code",
   "execution_count": null,
   "id": "771171eb",
   "metadata": {},
   "outputs": [],
   "source": [
    "def find_biggest_pop(list_pop_one,list_pop_two):\n",
    "    mean_one = find_the_mean(list_pop_one)\n",
    "    mean_two = find_the_mean(list_pop_two)\n",
    "    if (mean_one > mean_two):\n",
    "        print (\"The first list,\", list_pop_one ,\" has the larger mean population\")\n",
    "    else:\n",
    "        print (\"The second list,\", list_pop_two ,\" has the larger mean population\")"
   ]
  },
  {
   "cell_type": "code",
   "execution_count": null,
   "id": "0b4e2bb7",
   "metadata": {},
   "outputs": [],
   "source": [
    "find_biggest_pop(area_one_pops, area_two_pops)"
   ]
  },
  {
   "cell_type": "markdown",
   "id": "ba698b9d",
   "metadata": {},
   "source": [
    "Awesome! Going forward, we will be able to use functions and arguments to write code that is much more reusable and concise to model mathematical and statistical equations.\n",
    "\n",
    "## Summary\n",
    "In this lesson, we saw some of the benefits of using arguments: they make our functions more flexible and predictable. Our functions are more flexible as the functions vary based on the argument provided to the function. Arguments make our functions predictable by making functions more explicit about their dependencies. They also allow us to change the value of an argument which only affects the function's internal values and more directly shows us how the output of our function will vary based on different inputs."
   ]
  },
  {
   "cell_type": "markdown",
   "id": "aaf17139",
   "metadata": {},
   "source": [
    "# Functions With Arguments - Lab\n",
    "\n",
    "## Introduction\n",
    "In this lesson, we have decided to visit one of our travel destinations! This time we have chosen to visit Albuquerque, but we aren't very familiar with this city and are quite hungry after our long flight. We will be working with information we pulled from the Yelp database to help us find a restaurant where we can satisfy our hunger. While Yelp is great for learning about what to do in Albuquerque, it gives us back a lot of information. We'll use what we know about functions and dictionaries to format and read our data more easily. \n",
    "\n",
    "## Objectives\n",
    "\n",
    "You will be able to:\n",
    "\n",
    "* Declare and use a function with arguments\n",
    "\n",
    "## Exploring Two Restaurants in Albuquerque\n",
    "\n",
    "Let's take a quick look at the information Yelp provides for a single restaurant:"
   ]
  },
  {
   "cell_type": "code",
   "execution_count": null,
   "id": "fe32ac4f",
   "metadata": {},
   "outputs": [],
   "source": [
    "# Run this cell without changes\n",
    "fork_fig = {'categories': [{'alias': 'burgers', 'title': 'Burgers'},\n",
    "  {'alias': 'sandwiches', 'title': 'Sandwiches'},\n",
    "  {'alias': 'salad', 'title': 'Salad'}],\n",
    " 'coordinates': {'latitude': 35.10871, 'longitude': -106.56739},\n",
    " 'display_phone': '(505) 881-5293',\n",
    " 'distance': 3571.724649307866,\n",
    " 'id': 'fork-and-fig-albuquerque',\n",
    " 'image_url': 'https://s3-media1.fl.yelpcdn.com/bphoto/_-DpXKfS3jv6DyA47g6Fxg/o.jpg',\n",
    " 'is_closed': False,\n",
    " 'location': {'address1': '6904 Menaul Blvd NE',\n",
    "  'address2': 'Ste C',\n",
    "  'address3': '',\n",
    "  'city': 'Albuquerque',\n",
    "  'country': 'US',\n",
    "  'display_address': ['6904 Menaul Blvd NE', 'Ste C', 'Albuquerque, NM 87110'],\n",
    "  'state': 'NM',\n",
    "  'zip_code': '87110'},\n",
    " 'name': 'Fork & Fig',\n",
    " 'phone': '+15058815293',\n",
    " 'price': '$$',\n",
    " 'rating': 4.5,\n",
    " 'review_count': 604,\n",
    " 'transactions': [],\n",
    " 'url': 'https://www.yelp.com/biz/fork-and-fig-albuquerque?adjust_creative=SYc8R4Gowqru5h4SBKZXsQ&utm_campaign=yelp_api_v3&utm_medium=api_v3_business_search&utm_source=SYc8R4Gowqru5h4SBKZXsQ'}"
   ]
  },
  {
   "cell_type": "code",
   "execution_count": null,
   "id": "e2cfa156",
   "metadata": {},
   "outputs": [],
   "source": [
    "fork_fig"
   ]
  },
  {
   "cell_type": "markdown",
   "id": "d0311fc4",
   "metadata": {},
   "source": [
    "Above is the information provided about Fork & Fig, but all restaurants are provided with this information. For example, here is the information provided by Yelp for another restaurant, Frontier Restaurant."
   ]
  },
  {
   "cell_type": "code",
   "execution_count": null,
   "id": "ab62e86e",
   "metadata": {},
   "outputs": [],
   "source": [
    "# Run this cell without changes\n",
    "frontier_restaurant = {'categories': [{'alias': 'mexican', 'title': 'Mexican'},\n",
    "  {'alias': 'diners', 'title': 'Diners'},\n",
    "  {'alias': 'tradamerican', 'title': 'American (Traditional)'}],\n",
    " 'coordinates': {'latitude': 35.0808088832532, 'longitude': -106.619402244687},\n",
    " 'display_phone': '(505) 266-0550',\n",
    " 'distance': 4033.6583235266075,\n",
    " 'id': 'frontier-restaurant-albuquerque-2',\n",
    " 'image_url': 'https://s3-media4.fl.yelpcdn.com/bphoto/M9L2z6-G0NobuDJ6YTh6VA/o.jpg',\n",
    " 'is_closed': False,\n",
    " 'location': {'address1': '2400 Central Ave SE',\n",
    "  'address2': '',\n",
    "  'address3': '',\n",
    "  'city': 'Albuquerque',\n",
    "  'country': 'US',\n",
    "  'display_address': ['2400 Central Ave SE', 'Albuquerque, NM 87106'],\n",
    "  'state': 'NM',\n",
    "  'zip_code': '87106'},\n",
    " 'name': 'Frontier Restaurant',\n",
    " 'phone': '+15052660550',\n",
    " 'price': '$',\n",
    " 'rating': 4.0,\n",
    " 'review_count': 1369,\n",
    " 'transactions': [],\n",
    " 'url': 'https://www.yelp.com/biz/frontier-restaurant-albuquerque-2?adjust_creative=SYc8R4Gowqru5h4SBKZXsQ&utm_campaign=yelp_api_v3&utm_medium=api_v3_business_search&utm_source=SYc8R4Gowqru5h4SBKZXsQ'}"
   ]
  },
  {
   "cell_type": "markdown",
   "id": "3851ba85",
   "metadata": {},
   "source": [
    "As we already know, one way to quickly view the attributes of a dictionary is to look at the keys of the dictionary."
   ]
  },
  {
   "cell_type": "code",
   "execution_count": null,
   "id": "c3a6fdef",
   "metadata": {},
   "outputs": [],
   "source": [
    "fork_fig.keys()"
   ]
  },
  {
   "cell_type": "code",
   "execution_count": null,
   "id": "f9bdc1e9",
   "metadata": {},
   "outputs": [],
   "source": [
    "frontier_restaurant.keys()"
   ]
  },
  {
   "cell_type": "code",
   "execution_count": null,
   "id": "c2424258",
   "metadata": {},
   "outputs": [],
   "source": [
    "fork_fig.keys() == frontier_restaurant.keys()"
   ]
  },
  {
   "cell_type": "markdown",
   "id": "43418df6",
   "metadata": {},
   "source": [
    "As we can see from our above comparison, Yelp provides us with the same information for both restaurants.  \n",
    "\n",
    "## Writing Functions to Extract Information\n",
    "\n",
    "Ok, now let's write our functions.\n",
    "\n",
    "Write a function called `restaurant_name()` that, provided a dictionary representing a restaurant like you saw above, returns that restaurant's name."
   ]
  },
  {
   "cell_type": "code",
   "execution_count": null,
   "id": "3c84b024",
   "metadata": {},
   "outputs": [],
   "source": [
    "def restaurant_name(restaurant):\n",
    "    return restaurant['name']"
   ]
  },
  {
   "cell_type": "code",
   "execution_count": null,
   "id": "84dc7f92",
   "metadata": {},
   "outputs": [],
   "source": [
    "restaurant_name(frontier_restaurant)"
   ]
  },
  {
   "cell_type": "code",
   "execution_count": null,
   "id": "888eac4c",
   "metadata": {},
   "outputs": [],
   "source": [
    "restaurant_name(fork_fig) # 'Fork & Fig'"
   ]
  },
  {
   "cell_type": "markdown",
   "id": "bcf90e9c",
   "metadata": {},
   "source": [
    "Now write a function called `restaurant_rating()` that returns the rating of the provided restaurant."
   ]
  },
  {
   "cell_type": "code",
   "execution_count": null,
   "id": "2c8e2f1c",
   "metadata": {},
   "outputs": [],
   "source": [
    "def restaurant_rating(restaurant):\n",
    "    return restaurant['rating']"
   ]
  },
  {
   "cell_type": "code",
   "execution_count": null,
   "id": "861d2fba",
   "metadata": {},
   "outputs": [],
   "source": [
    "restaurant_rating(frontier_restaurant) # 4.0"
   ]
  },
  {
   "cell_type": "code",
   "execution_count": null,
   "id": "2c3908e8",
   "metadata": {},
   "outputs": [],
   "source": [
    "restaurant_rating(fork_fig) # 4.5"
   ]
  },
  {
   "cell_type": "markdown",
   "id": "83eca0fd",
   "metadata": {},
   "source": [
    "## Comparing Restaurants\n",
    "\n",
    "Now let's write a function called `is_better()` that returns `True` if a restaurant has a higher rating than an alternative restaurant.  The first argument should be called `restaurant` and the second argument should be called `alternative`.  The function returns `False` if the two ratings are equal.\n",
    "\n",
    "This function should *call* (AKA *invoke*) your existing `restaurant_rating` function. "
   ]
  },
  {
   "cell_type": "code",
   "execution_count": null,
   "id": "1ee8a0ce",
   "metadata": {},
   "outputs": [],
   "source": [
    "def is_better(restaurant, alternative):\n",
    "    restaurant = restaurant_rating(restaurant)\n",
    "    alternative = restaurant_rating(alternative)\n",
    "    if (restaurant > alternative):\n",
    "        print (True)\n",
    "    else:\n",
    "        print (False)"
   ]
  },
  {
   "cell_type": "code",
   "execution_count": null,
   "id": "aeb4b847",
   "metadata": {},
   "outputs": [],
   "source": [
    "is_better(frontier_restaurant, fork_fig) # False"
   ]
  },
  {
   "cell_type": "code",
   "execution_count": null,
   "id": "a69c541b",
   "metadata": {},
   "outputs": [],
   "source": [
    "is_better(fork_fig, frontier_restaurant) # True"
   ]
  },
  {
   "cell_type": "code",
   "execution_count": null,
   "id": "70fb0a57",
   "metadata": {},
   "outputs": [],
   "source": [
    "is_better(fork_fig, fork_fig) # False"
   ]
  },
  {
   "cell_type": "markdown",
   "id": "008fc928",
   "metadata": {},
   "source": [
    "Now let's write a function called `is_cheaper()` that returns `True` if a restaurant has a lower price, that is the restaurant has fewer `'$'` signs, than an alternative restaurant. The first argument should be called `restaurant` and the second argument should be called `alternative`. The function returns `False` if the two prices are equal.\n",
    "\n",
    "> **Hint:** *Strings in Python respond to then `len` function.*"
   ]
  },
  {
   "cell_type": "code",
   "execution_count": null,
   "id": "4db6ab0b",
   "metadata": {},
   "outputs": [],
   "source": [
    "def is_cheaper(restaurant, alternative):\n",
    "    restaurant = len(restaurant['price'])\n",
    "    alternative = len(alternative['price'])\n",
    "    if (restaurant < alternative):\n",
    "        print (True)\n",
    "    else: \n",
    "        print (False)"
   ]
  },
  {
   "cell_type": "code",
   "execution_count": null,
   "id": "8b7341b0",
   "metadata": {},
   "outputs": [],
   "source": [
    "is_cheaper(fork_fig, frontier_restaurant) # False"
   ]
  },
  {
   "cell_type": "code",
   "execution_count": null,
   "id": "208243c9",
   "metadata": {},
   "outputs": [],
   "source": [
    "is_cheaper(frontier_restaurant, fork_fig) # True"
   ]
  },
  {
   "cell_type": "code",
   "execution_count": null,
   "id": "92a49158",
   "metadata": {},
   "outputs": [],
   "source": [
    "is_cheaper(fork_fig, fork_fig) # False"
   ]
  },
  {
   "cell_type": "markdown",
   "id": "1c06b561",
   "metadata": {},
   "source": [
    "Now write a function called `high_rating()` that takes a `restaurant` as a first argument and a rating (in the form of a number) as the second argument and returns `True` if the given restaurant's rating is greater than or equal to the provided rating and returns `False` otherwise."
   ]
  },
  {
   "cell_type": "code",
   "execution_count": null,
   "id": "52588834",
   "metadata": {},
   "outputs": [],
   "source": [
    "def high_rating(restaurant,rating):\n",
    "    return restaurant_rating(restaurant) >= rating"
   ]
  },
  {
   "cell_type": "code",
   "execution_count": null,
   "id": "9ae0f229",
   "metadata": {},
   "outputs": [],
   "source": [
    "high_rating(fork_fig, 4) # True"
   ]
  },
  {
   "cell_type": "code",
   "execution_count": null,
   "id": "8304c2cb",
   "metadata": {},
   "outputs": [],
   "source": [
    "high_rating(fork_fig, 5) # False"
   ]
  },
  {
   "cell_type": "code",
   "execution_count": null,
   "id": "bd0373da",
   "metadata": {},
   "outputs": [],
   "source": [
    "high_rating(frontier_restaurant, 4) # True"
   ]
  },
  {
   "cell_type": "markdown",
   "id": "54cf6922",
   "metadata": {},
   "source": [
    "Awesome! We have built out some pretty cool functions so far. Let's now think about a case where we have more than just two data points to operate on. We have added some more restaurant dictionaries below and are going to add them to our list of restaurants. Don't worry that they have a slightly different amount of data. \n",
    "\n",
    "We are going to need a function `mean_review_count()` to give us an idea what the typical value for `review_count` is. This function should take in a list of restaurant dictionaries and return the mean of the review counts for the collection of restaurant dictionaries. "
   ]
  },
  {
   "cell_type": "code",
   "execution_count": null,
   "id": "871dc8a4",
   "metadata": {},
   "outputs": [],
   "source": [
    "# Run this cell without changes\n",
    "dennys = {'categories': [{'alias': 'breakfast', 'title': 'Breakfast'},\n",
    "  {'alias': 'diners', 'title': 'Diners'},\n",
    "  {'alias': 'tradamerican', 'title': 'American (Traditional)'}],\n",
    " 'is_closed': False,\n",
    " 'name': \"Denny's\",\n",
    " 'price': '$',\n",
    " 'rating': 3.0,\n",
    " 'review_count': 1200}\n",
    "\n",
    "ihop = {'categories': [{'alias': 'breakfast', 'title': 'Breakfast'},\n",
    "  {'alias': 'diners', 'title': 'Diners'},\n",
    "  {'alias': 'tradamerican', 'title': 'American (Traditional)'}],\n",
    " 'is_closed': False,\n",
    " 'name': \"IHOP: International House of Pancakes\",\n",
    " 'price': '$',\n",
    " 'rating': 3.45,\n",
    " 'review_count': 1588}\n",
    "\n",
    "mcdonalds = {'categories': [{'alias': 'breakfast', 'title': 'Breakfast'},\n",
    "  {'alias': 'burgers', 'title': 'Burgers'},\n",
    "  {'alias': 'fast food', 'title': 'Good Food Fast'}],\n",
    " 'is_closed': False,\n",
    " 'name': \"McDonalds\",\n",
    " 'price': '$',\n",
    " 'rating': 3.45,\n",
    " 'review_count': 2455}\n",
    "\n",
    "pearl_street_oyster_bar = {'categories': [{'alias': 'seafood', 'title': 'Seafood'},\n",
    "  {'alias': 'gourmet', 'title': 'Gourmet'},\n",
    "  {'alias': 'Shellfish', 'title': 'Shellfish'}],\n",
    " 'is_closed': False,\n",
    " 'name': \"Pear Street Oyster Bar\",\n",
    " 'price': '$$$',\n",
    " 'rating': 4.75,\n",
    " 'review_count': 350}"
   ]
  },
  {
   "cell_type": "code",
   "execution_count": null,
   "id": "c514d81e",
   "metadata": {},
   "outputs": [],
   "source": [
    "restaurant_list = [pearl_street_oyster_bar, mcdonalds, ihop, dennys, fork_fig, frontier_restaurant]"
   ]
  },
  {
   "cell_type": "code",
   "execution_count": null,
   "id": "9e2738c7",
   "metadata": {},
   "outputs": [],
   "source": [
    "def mean_review_count(list_of_restaurants):\n",
    "    review_count = []\n",
    "    for restaurant in list_of_restaurants:\n",
    "        review_count.append(restaurant['review_count'])\n",
    "    mean = sum(review_count)/len(review_count)\n",
    "    return mean"
   ]
  },
  {
   "cell_type": "code",
   "execution_count": null,
   "id": "d19f3953",
   "metadata": {},
   "outputs": [],
   "source": [
    "mean_review_count(restaurant_list) #1261.0"
   ]
  },
  {
   "cell_type": "markdown",
   "id": "2b2e65eb",
   "metadata": {},
   "source": [
    "Now we have an idea of how many reviews a typical restaurant has, but none of these restaurants have exactly that number of reviews.\n",
    "\n",
    "Which restaurants have a `review_count` within 150 of the average? (\"within 150\" meaning exactly average, <= 150 fewer reviews than the average, or <= 150 more reviews than the average)\n",
    "\n",
    "Return a list of the restaurant names."
   ]
  },
  {
   "cell_type": "code",
   "execution_count": null,
   "id": "f5489892",
   "metadata": {},
   "outputs": [],
   "source": [
    "def near_average_review_count(list_of_restaurants):\n",
    "    mean = mean_review_count(list_of_restaurants)\n",
    "    results = []\n",
    "    for restaurant in list_of_restaurants:\n",
    "        \n",
    "        absolute_reveiw_count = abs(restaurant['review_count'] - mean)\n",
    "        if absolute_reveiw_count <= 150:\n",
    "            results.append(restaurant_name(restaurant))\n",
    "    return(results)"
   ]
  },
  {
   "cell_type": "code",
   "execution_count": null,
   "id": "6c95022f",
   "metadata": {},
   "outputs": [],
   "source": [
    "near_average_review_count(restaurant_list) # [\"Denny's\", 'Frontier Restaurant']"
   ]
  },
  {
   "cell_type": "markdown",
   "id": "097c352c",
   "metadata": {},
   "source": [
    "## Summary\n",
    "\n",
    "Great! In this lab we saw how to pass both single and multiple arguments to functions. Function arguments can make functions more flexible and reusable!"
   ]
  },
  {
   "cell_type": "markdown",
   "id": "b70f1212",
   "metadata": {},
   "source": [
    "# User Input and Output in Python\n",
    "\n",
    "## Introduction\n",
    "\n",
    "Sometimes, you'll want Python to ask users for a certain input. This is where user inputs can help!\n",
    "\n",
    "## Objectives \n",
    "\n",
    "You will be able to:\n",
    "\n",
    "* Incorporate input/output functionality in code to allow for user interaction \n",
    "\n",
    "## User input in Python\n",
    "\n",
    "To get user input in Python, you can use the `input()` function. You can store the result in a variable, and use it to your heart's content. Remember that the result you get from the user will be a string, even if they enter a number.\n",
    "\n",
    "For example, run the following cell:"
   ]
  },
  {
   "cell_type": "code",
   "execution_count": null,
   "id": "80e3402c",
   "metadata": {},
   "outputs": [],
   "source": [
    "name = input(\"Give me your name: \")\n",
    "print(\"Your name is \" + name)"
   ]
  },
  {
   "cell_type": "markdown",
   "id": "4852983e",
   "metadata": {},
   "source": [
    "When you use the `input()` function, the program waits for the user to type something and press ENTER. Only after the user presses ENTER does the program continue."
   ]
  },
  {
   "cell_type": "markdown",
   "id": "e06736b6",
   "metadata": {},
   "source": [
    "## Manipulating strings (a few ways)\n",
    "\n",
    "What you get from the `input()` function is always a string. What can you do with it?\n",
    "\n",
    "First, make the string into a number. Let’s say you are 100% positive that the user entered a number. You can turn the string into an integer with the function `int()`. (Later we will see what to do when the user does NOT enter a number and you try to do this. For now, don’t worry about that problem) \n",
    "\n",
    "Here is what this looks like:"
   ]
  },
  {
   "cell_type": "code",
   "execution_count": null,
   "id": "d23b1402",
   "metadata": {},
   "outputs": [],
   "source": [
    "age = input(\"Enter your age: \")\n",
    "age = int(age)\n",
    "print (\"You are\", age , \"years old\" )"
   ]
  },
  {
   "cell_type": "markdown",
   "id": "962a1205",
   "metadata": {},
   "source": [
    "Unlike using `+` for string concatenation as seen earlier, we simply use a `,` for joining strings with numbers. You can also convert an `int` to `str` and use concatenation normally: "
   ]
  },
  {
   "cell_type": "code",
   "execution_count": null,
   "id": "91c42f73",
   "metadata": {},
   "outputs": [],
   "source": [
    "print (\"You are \" + str(age) + \" years old\")"
   ]
  },
  {
   "cell_type": "markdown",
   "id": "841ea0b5",
   "metadata": {},
   "source": [
    "## Example\n",
    "Let's create a program that asks the user to enter their name, age, and the current year. Print out a message addressed to them that tells them the year that they will turn 100 years old."
   ]
  },
  {
   "cell_type": "code",
   "execution_count": null,
   "id": "85d68a98",
   "metadata": {},
   "outputs": [],
   "source": [
    "name = input(\"What is your name: \")\n",
    "age = int(input(\"How old are you: \"))\n",
    "current_year = int(input(\"What is the current year: \"))\n",
    "year = str((current_year - age)+100)\n",
    "print(name + \" will be 100 years old in the year \" + year)"
   ]
  },
  {
   "cell_type": "markdown",
   "id": "239314ee",
   "metadata": {},
   "source": [
    "## Summary\n",
    "\n",
    "This lesson introduced you to character input/output and string manipulation. We also saw how we can take user input, do some basic processing and provide feedback to the user based on the input. "
   ]
  },
  {
   "cell_type": "markdown",
   "id": "77b3d0cc",
   "metadata": {},
   "source": [
    "# Python Loops and Functions - Cumulative Lab\n",
    "\n",
    "## Introduction\n",
    "\n",
    "You made it through another section — excellent work! This cumulative lab will return to the Amazon product review dataset and allow you to flex your new skills.\n",
    "\n",
    "## Objectives\n",
    "\n",
    "You will be able to:\n",
    "\n",
    " - Recall what you learned in the previous section\n",
    " - Practice writing loops to pull multiple pieces of data from a dataset\n",
    " - Practice writing functions for organization and avoiding repetition\n",
    " \n",
    "## Your Task: Dynamically Query Amazon Review Data\n",
    "\n",
    "Once again, we are going to be working with data collected by Computer Science researchers at the University of California, San Diego. Their full paper citation is here:\n",
    "> **Justifying recommendations using distantly-labeled reviews and fined-grained aspects**\n",
    "Jianmo Ni, Jiacheng Li, Julian McAuley\n",
    "Empirical Methods in Natural Language Processing (EMNLP), 2019\n",
    "[pdf](http://cseweb.ucsd.edu/~jmcauley/pdfs/emnlp19a.pdf)\n",
    "\n",
    "We are still using a cleaned-up, coffee-specific, sample version of their [full dataset](https://nijianmo.github.io/amazon/index.html).\n",
    "\n",
    "![pouring coffee](images/coffee.jpg)\n",
    "<span>Photo by <a href=\"https://unsplash.com/@dumdidu?utm_source=unsplash&amp;utm_medium=referral&amp;utm_content=creditCopyText\">Philipp Cordts</a> on <a href=\"https://unsplash.com/s/photos/coffee-pot?utm_source=unsplash&amp;utm_medium=referral&amp;utm_content=creditCopyText\">Unsplash</a></span>\n",
    "\n",
    "In some cases, we will write the function signature for you, e.g. \n",
    "\n",
    "```python\n",
    "def review_sentiment(review):\n",
    "    # Replace None with appropriate code\n",
    "    None\n",
    "```\n",
    "\n",
    "Then you just need to fill in the relevant logic.\n",
    "\n",
    "In other cases, you will need to write the function signature yourself, e.g.\n",
    "\n",
    "```python\n",
    "# Your code here\n",
    "```\n",
    "\n",
    "### Requirements\n",
    "\n",
    "#### 1. Data Summary\n",
    "While reusing some code from the previous cumulative lab, write code to loop over all of the records in the dataset to summarize its contents, specifically in terms of overall review sentiment and the years when the reviews were written.\n",
    "\n",
    "#### 2. Subset Sample\n",
    "Provide a sample of records that meet particular criteria.\n",
    "\n",
    "#### 3. Individual Review Summary\n",
    "Refactor the code from the previous cumulative lab so that it is contained in a function and prompts the user to select which review to summarize.\n",
    "\n",
    "## Data Summary\n",
    "\n",
    "Once again, we've opened up the dataset and loaded it into a list of dictionaries called `reviews`."
   ]
  },
  {
   "cell_type": "code",
   "execution_count": null,
   "id": "a5c448be",
   "metadata": {},
   "outputs": [],
   "source": [
    "def parse(path):\n",
    "  g = gzip.open(path, 'r')\n",
    "  for l in g:\n",
    "    yield json.loads(l)\n",
    "    "
   ]
  },
  {
   "cell_type": "markdown",
   "id": "045f86ae",
   "metadata": {},
   "source": [
    "import json\n",
    "with open(\"coffee_product_reviews.json\") as f:\n",
    "    reviews = json.load(f)\n",
    "type(reviews)"
   ]
  },
  {
   "cell_type": "markdown",
   "id": "1053668f",
   "metadata": {},
   "source": [
    "Previously, we found the length of the collection, and looked into the data types of each record's keys and values"
   ]
  },
  {
   "cell_type": "code",
   "execution_count": null,
   "id": "0dd479da",
   "metadata": {},
   "outputs": [],
   "source": [
    "# Run this cell without changes\n",
    "num_reviews = len(reviews)\n",
    "print(\"The coffee product review dataset contains {} reviews\".format(num_reviews))\n",
    "\n",
    "first_review = reviews[0]\n",
    "first_review"
   ]
  },
  {
   "cell_type": "code",
   "execution_count": null,
   "id": "0b8bae05",
   "metadata": {},
   "outputs": [],
   "source": []
  },
  {
   "cell_type": "code",
   "execution_count": null,
   "id": "ce7bc2e1",
   "metadata": {},
   "outputs": [],
   "source": []
  },
  {
   "cell_type": "code",
   "execution_count": null,
   "id": "4b01791f",
   "metadata": {},
   "outputs": [],
   "source": []
  },
  {
   "cell_type": "code",
   "execution_count": null,
   "id": "ca8904bb",
   "metadata": {},
   "outputs": [],
   "source": []
  },
  {
   "cell_type": "code",
   "execution_count": null,
   "id": "0c96e3f0",
   "metadata": {},
   "outputs": [],
   "source": []
  },
  {
   "cell_type": "code",
   "execution_count": null,
   "id": "fc3429fb",
   "metadata": {},
   "outputs": [],
   "source": []
  },
  {
   "cell_type": "code",
   "execution_count": null,
   "id": "cfc7d5dd",
   "metadata": {},
   "outputs": [],
   "source": []
  },
  {
   "cell_type": "code",
   "execution_count": null,
   "id": "584ce7b8",
   "metadata": {},
   "outputs": [],
   "source": []
  },
  {
   "cell_type": "code",
   "execution_count": null,
   "id": "145895cf",
   "metadata": {},
   "outputs": [],
   "source": []
  },
  {
   "cell_type": "code",
   "execution_count": null,
   "id": "3f9ac774",
   "metadata": {},
   "outputs": [],
   "source": []
  },
  {
   "cell_type": "code",
   "execution_count": null,
   "id": "d0687474",
   "metadata": {},
   "outputs": [],
   "source": []
  },
  {
   "cell_type": "code",
   "execution_count": null,
   "id": "fefc217b",
   "metadata": {},
   "outputs": [],
   "source": []
  },
  {
   "cell_type": "code",
   "execution_count": null,
   "id": "e00678ac",
   "metadata": {},
   "outputs": [],
   "source": []
  },
  {
   "cell_type": "code",
   "execution_count": null,
   "id": "f4eff170",
   "metadata": {},
   "outputs": [],
   "source": []
  },
  {
   "cell_type": "code",
   "execution_count": null,
   "id": "4ac31fa6",
   "metadata": {},
   "outputs": [],
   "source": []
  },
  {
   "cell_type": "code",
   "execution_count": null,
   "id": "47ddaeac",
   "metadata": {},
   "outputs": [],
   "source": []
  },
  {
   "cell_type": "code",
   "execution_count": null,
   "id": "95b291ed",
   "metadata": {},
   "outputs": [],
   "source": []
  },
  {
   "cell_type": "code",
   "execution_count": null,
   "id": "7668bdc9",
   "metadata": {},
   "outputs": [],
   "source": []
  },
  {
   "cell_type": "code",
   "execution_count": null,
   "id": "3ff0aa40",
   "metadata": {},
   "outputs": [],
   "source": []
  },
  {
   "cell_type": "code",
   "execution_count": null,
   "id": "98c82ba5",
   "metadata": {},
   "outputs": [],
   "source": []
  },
  {
   "cell_type": "code",
   "execution_count": null,
   "id": "5c24dac4",
   "metadata": {},
   "outputs": [],
   "source": []
  },
  {
   "cell_type": "code",
   "execution_count": null,
   "id": "53c767dd",
   "metadata": {},
   "outputs": [],
   "source": []
  },
  {
   "cell_type": "code",
   "execution_count": null,
   "id": "1872d5ad",
   "metadata": {},
   "outputs": [],
   "source": []
  },
  {
   "cell_type": "code",
   "execution_count": null,
   "id": "7511fec7",
   "metadata": {},
   "outputs": [],
   "source": []
  },
  {
   "cell_type": "code",
   "execution_count": null,
   "id": "98612bf3",
   "metadata": {},
   "outputs": [],
   "source": []
  },
  {
   "cell_type": "code",
   "execution_count": null,
   "id": "5e5f7c6b",
   "metadata": {},
   "outputs": [],
   "source": []
  },
  {
   "cell_type": "code",
   "execution_count": null,
   "id": "b730d59e",
   "metadata": {},
   "outputs": [],
   "source": []
  },
  {
   "cell_type": "code",
   "execution_count": null,
   "id": "0fff62f1",
   "metadata": {},
   "outputs": [],
   "source": []
  },
  {
   "cell_type": "code",
   "execution_count": null,
   "id": "14d08090",
   "metadata": {},
   "outputs": [],
   "source": []
  },
  {
   "cell_type": "code",
   "execution_count": null,
   "id": "a7276f4f",
   "metadata": {},
   "outputs": [],
   "source": []
  },
  {
   "cell_type": "code",
   "execution_count": null,
   "id": "ca05ab04",
   "metadata": {},
   "outputs": [],
   "source": []
  },
  {
   "cell_type": "code",
   "execution_count": null,
   "id": "8dcc53cd",
   "metadata": {},
   "outputs": [],
   "source": []
  },
  {
   "cell_type": "code",
   "execution_count": null,
   "id": "938ed54a",
   "metadata": {},
   "outputs": [],
   "source": []
  },
  {
   "cell_type": "code",
   "execution_count": null,
   "id": "ffdb421c",
   "metadata": {},
   "outputs": [],
   "source": []
  },
  {
   "cell_type": "code",
   "execution_count": null,
   "id": "11dfdfdb",
   "metadata": {},
   "outputs": [],
   "source": []
  },
  {
   "cell_type": "code",
   "execution_count": null,
   "id": "2ca0ce36",
   "metadata": {},
   "outputs": [],
   "source": []
  },
  {
   "cell_type": "code",
   "execution_count": null,
   "id": "a66b3bdb",
   "metadata": {},
   "outputs": [],
   "source": []
  },
  {
   "cell_type": "code",
   "execution_count": null,
   "id": "06408bcc",
   "metadata": {},
   "outputs": [],
   "source": []
  },
  {
   "cell_type": "code",
   "execution_count": null,
   "id": "97ac1a5f",
   "metadata": {},
   "outputs": [],
   "source": []
  },
  {
   "cell_type": "code",
   "execution_count": null,
   "id": "83db48e2",
   "metadata": {},
   "outputs": [],
   "source": []
  },
  {
   "cell_type": "code",
   "execution_count": null,
   "id": "4ccd87bb",
   "metadata": {},
   "outputs": [],
   "source": []
  },
  {
   "cell_type": "code",
   "execution_count": null,
   "id": "d03896bc",
   "metadata": {},
   "outputs": [],
   "source": []
  },
  {
   "cell_type": "code",
   "execution_count": null,
   "id": "c0f3853e",
   "metadata": {},
   "outputs": [],
   "source": []
  },
  {
   "cell_type": "code",
   "execution_count": null,
   "id": "67d9a208",
   "metadata": {},
   "outputs": [],
   "source": []
  },
  {
   "cell_type": "code",
   "execution_count": null,
   "id": "b8787c81",
   "metadata": {},
   "outputs": [],
   "source": []
  },
  {
   "cell_type": "code",
   "execution_count": null,
   "id": "02b71d7d",
   "metadata": {},
   "outputs": [],
   "source": []
  },
  {
   "cell_type": "code",
   "execution_count": null,
   "id": "ea134cc3",
   "metadata": {},
   "outputs": [],
   "source": []
  },
  {
   "cell_type": "code",
   "execution_count": null,
   "id": "75b28570",
   "metadata": {},
   "outputs": [],
   "source": []
  },
  {
   "cell_type": "code",
   "execution_count": null,
   "id": "725fdf61",
   "metadata": {},
   "outputs": [],
   "source": []
  },
  {
   "cell_type": "code",
   "execution_count": null,
   "id": "3bbc73f2",
   "metadata": {},
   "outputs": [],
   "source": []
  },
  {
   "cell_type": "code",
   "execution_count": null,
   "id": "bb77b6ab",
   "metadata": {},
   "outputs": [],
   "source": []
  },
  {
   "cell_type": "code",
   "execution_count": null,
   "id": "285ebab9",
   "metadata": {},
   "outputs": [],
   "source": []
  },
  {
   "cell_type": "code",
   "execution_count": null,
   "id": "445cd0e2",
   "metadata": {},
   "outputs": [],
   "source": []
  },
  {
   "cell_type": "code",
   "execution_count": null,
   "id": "e5ec871a",
   "metadata": {},
   "outputs": [],
   "source": []
  },
  {
   "cell_type": "code",
   "execution_count": null,
   "id": "ede91d6c",
   "metadata": {},
   "outputs": [],
   "source": []
  },
  {
   "cell_type": "code",
   "execution_count": null,
   "id": "d71991a7",
   "metadata": {},
   "outputs": [],
   "source": []
  },
  {
   "cell_type": "code",
   "execution_count": null,
   "id": "329f6097",
   "metadata": {},
   "outputs": [],
   "source": []
  },
  {
   "cell_type": "code",
   "execution_count": null,
   "id": "670038e3",
   "metadata": {},
   "outputs": [],
   "source": []
  },
  {
   "cell_type": "code",
   "execution_count": null,
   "id": "aeeb1774",
   "metadata": {},
   "outputs": [],
   "source": []
  }
 ],
 "metadata": {
  "kernelspec": {
   "display_name": "Python 3 (ipykernel)",
   "language": "python",
   "name": "python3"
  },
  "language_info": {
   "codemirror_mode": {
    "name": "ipython",
    "version": 3
   },
   "file_extension": ".py",
   "mimetype": "text/x-python",
   "name": "python",
   "nbconvert_exporter": "python",
   "pygments_lexer": "ipython3",
   "version": "3.9.7"
  }
 },
 "nbformat": 4,
 "nbformat_minor": 5
}
